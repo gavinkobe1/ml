{
 "cells": [
  {
   "cell_type": "markdown",
   "metadata": {},
   "source": [
    "\n",
    "## Analytics Specializations & Applications - Week 5\n",
    "\n",
    "# Topic Modelling of Customers - Example Comparisons\n",
    "----------\n",
    "\n",
    "In this task we are going to quickly run through how to apply topic modelling to the data we look at in the Week 03 Exercises, to allow us to compare two very common topic modelling techniques, Latent Dirichlet Allocation (LDA) and Non-negative Matrix Factorization (NMF), to a similar factorization technique that we already know - Principal Component Analysis.\n",
    "\n",
    "\n",
    "## Scenario:\n",
    "As before, let's use the setting of grocery wholesaler, whose customers are hotels, cafes, restaurants or food stores. so first, let's just rerun the initial code we had in the Week 3 exercises to load the wholesaler's data before we do some comparitive analysis of topic modelling techniques on it.\n",
    "\n",
    "\n",
    "### Task 5a: Preparing the data\n",
    "<span style=\"font-weight:bold; color:green;\">&rarr; Run the following code to load in and cleanse our data:<span/>\n"
   ]
  },
  {
   "cell_type": "code",
   "execution_count": 1,
   "metadata": {},
   "outputs": [
    {
     "data": {
      "text/html": [
       "<div>\n",
       "<style scoped>\n",
       "    .dataframe tbody tr th:only-of-type {\n",
       "        vertical-align: middle;\n",
       "    }\n",
       "\n",
       "    .dataframe tbody tr th {\n",
       "        vertical-align: top;\n",
       "    }\n",
       "\n",
       "    .dataframe thead th {\n",
       "        text-align: right;\n",
       "    }\n",
       "</style>\n",
       "<table border=\"1\" class=\"dataframe\">\n",
       "  <thead>\n",
       "    <tr style=\"text-align: right;\">\n",
       "      <th></th>\n",
       "      <th>FRUIT_VEG</th>\n",
       "      <th>DAIRY</th>\n",
       "      <th>FROZEN</th>\n",
       "      <th>DELI</th>\n",
       "      <th>OTHER_GROCERY</th>\n",
       "      <th>HOUSEHOLD</th>\n",
       "    </tr>\n",
       "  </thead>\n",
       "  <tbody>\n",
       "    <tr>\n",
       "      <th>count</th>\n",
       "      <td>440.000000</td>\n",
       "      <td>440.000000</td>\n",
       "      <td>440.000000</td>\n",
       "      <td>440.000000</td>\n",
       "      <td>440.000000</td>\n",
       "      <td>440.000000</td>\n",
       "    </tr>\n",
       "    <tr>\n",
       "      <th>mean</th>\n",
       "      <td>8.730544</td>\n",
       "      <td>8.121047</td>\n",
       "      <td>7.301396</td>\n",
       "      <td>6.665133</td>\n",
       "      <td>8.441169</td>\n",
       "      <td>6.785972</td>\n",
       "    </tr>\n",
       "    <tr>\n",
       "      <th>std</th>\n",
       "      <td>1.480071</td>\n",
       "      <td>1.081365</td>\n",
       "      <td>1.284540</td>\n",
       "      <td>1.310832</td>\n",
       "      <td>1.116172</td>\n",
       "      <td>1.721020</td>\n",
       "    </tr>\n",
       "    <tr>\n",
       "      <th>min</th>\n",
       "      <td>1.098612</td>\n",
       "      <td>4.007333</td>\n",
       "      <td>3.218876</td>\n",
       "      <td>1.098612</td>\n",
       "      <td>1.098612</td>\n",
       "      <td>1.098612</td>\n",
       "    </tr>\n",
       "    <tr>\n",
       "      <th>25%</th>\n",
       "      <td>8.048059</td>\n",
       "      <td>7.334981</td>\n",
       "      <td>6.609678</td>\n",
       "      <td>6.011875</td>\n",
       "      <td>7.674616</td>\n",
       "      <td>5.548101</td>\n",
       "    </tr>\n",
       "    <tr>\n",
       "      <th>50%</th>\n",
       "      <td>9.048286</td>\n",
       "      <td>8.196159</td>\n",
       "      <td>7.330388</td>\n",
       "      <td>6.872645</td>\n",
       "      <td>8.467057</td>\n",
       "      <td>6.705018</td>\n",
       "    </tr>\n",
       "    <tr>\n",
       "      <th>75%</th>\n",
       "      <td>9.737064</td>\n",
       "      <td>8.880480</td>\n",
       "      <td>8.175896</td>\n",
       "      <td>7.506728</td>\n",
       "      <td>9.273854</td>\n",
       "      <td>8.274341</td>\n",
       "    </tr>\n",
       "    <tr>\n",
       "      <th>max</th>\n",
       "      <td>11.627601</td>\n",
       "      <td>11.205013</td>\n",
       "      <td>11.016479</td>\n",
       "      <td>10.777768</td>\n",
       "      <td>11.437986</td>\n",
       "      <td>10.617099</td>\n",
       "    </tr>\n",
       "  </tbody>\n",
       "</table>\n",
       "</div>"
      ],
      "text/plain": [
       "        FRUIT_VEG       DAIRY      FROZEN        DELI  OTHER_GROCERY  \\\n",
       "count  440.000000  440.000000  440.000000  440.000000     440.000000   \n",
       "mean     8.730544    8.121047    7.301396    6.665133       8.441169   \n",
       "std      1.480071    1.081365    1.284540    1.310832       1.116172   \n",
       "min      1.098612    4.007333    3.218876    1.098612       1.098612   \n",
       "25%      8.048059    7.334981    6.609678    6.011875       7.674616   \n",
       "50%      9.048286    8.196159    7.330388    6.872645       8.467057   \n",
       "75%      9.737064    8.880480    8.175896    7.506728       9.273854   \n",
       "max     11.627601   11.205013   11.016479   10.777768      11.437986   \n",
       "\n",
       "        HOUSEHOLD  \n",
       "count  440.000000  \n",
       "mean     6.785972  \n",
       "std      1.721020  \n",
       "min      1.098612  \n",
       "25%      5.548101  \n",
       "50%      6.705018  \n",
       "75%      8.274341  \n",
       "max     10.617099  "
      ]
     },
     "execution_count": 1,
     "metadata": {},
     "output_type": "execute_result"
    }
   ],
   "source": [
    "import pandas\n",
    "import numpy as np \n",
    "\n",
    "#-- load in the data\n",
    "filename = \"wholesale_customer_data.csv\"\n",
    "data = pandas.read_csv(filename)\n",
    "\n",
    "#-- first remove the columns 'Region' and 'Channel'\n",
    "data.drop(['Region', 'Channel'], axis = 1, inplace = True)\n",
    "\n",
    "#-- log the data to help normalize it\n",
    "data = np.log(data)\n",
    "\n",
    "#-- print out some summary statistics as per normal\n",
    "data.describe()"
   ]
  },
  {
   "cell_type": "markdown",
   "metadata": {},
   "source": [
    "That should look familiar (remember we logged the data so it was more normally distributed, which is helpful when data is skewed). \n",
    "\n",
    "Now, also recall that whenever we do \"factorization\" to engineer some new data dervived features for our data (topic modelling essentially /is/ factorization) we are simply trying to take a matrix, and reduce its dimension. In our raw feature space we currently only have 6 dimensions - the produce categories. If we had more fine grained product categories we might have dozens of dimensions each with a spend in. If we were counting spend for each product itself, we would have thousands of dimensions.\n",
    "\n",
    "But the size is irrelevent. To do a dimension reduction, we just need a matrix. We do here - a matrix where the rows are datapoints (in this case customers) and the columns are the values of that datapoint for each features (category spends). Let's just double check this:"
   ]
  },
  {
   "cell_type": "code",
   "execution_count": 2,
   "metadata": {},
   "outputs": [
    {
     "data": {
      "text/html": [
       "<div>\n",
       "<style scoped>\n",
       "    .dataframe tbody tr th:only-of-type {\n",
       "        vertical-align: middle;\n",
       "    }\n",
       "\n",
       "    .dataframe tbody tr th {\n",
       "        vertical-align: top;\n",
       "    }\n",
       "\n",
       "    .dataframe thead th {\n",
       "        text-align: right;\n",
       "    }\n",
       "</style>\n",
       "<table border=\"1\" class=\"dataframe\">\n",
       "  <thead>\n",
       "    <tr style=\"text-align: right;\">\n",
       "      <th></th>\n",
       "      <th>FRUIT_VEG</th>\n",
       "      <th>DAIRY</th>\n",
       "      <th>FROZEN</th>\n",
       "      <th>DELI</th>\n",
       "      <th>OTHER_GROCERY</th>\n",
       "      <th>HOUSEHOLD</th>\n",
       "    </tr>\n",
       "  </thead>\n",
       "  <tbody>\n",
       "    <tr>\n",
       "      <th>0</th>\n",
       "      <td>9.446913</td>\n",
       "      <td>9.175335</td>\n",
       "      <td>5.365976</td>\n",
       "      <td>7.198931</td>\n",
       "      <td>8.930759</td>\n",
       "      <td>7.891331</td>\n",
       "    </tr>\n",
       "    <tr>\n",
       "      <th>1</th>\n",
       "      <td>8.861775</td>\n",
       "      <td>9.191158</td>\n",
       "      <td>7.474205</td>\n",
       "      <td>7.482119</td>\n",
       "      <td>9.166179</td>\n",
       "      <td>8.099554</td>\n",
       "    </tr>\n",
       "    <tr>\n",
       "      <th>2</th>\n",
       "      <td>8.756682</td>\n",
       "      <td>9.083416</td>\n",
       "      <td>7.785305</td>\n",
       "      <td>8.967504</td>\n",
       "      <td>8.946896</td>\n",
       "      <td>8.165079</td>\n",
       "    </tr>\n",
       "    <tr>\n",
       "      <th>3</th>\n",
       "      <td>9.492884</td>\n",
       "      <td>7.086738</td>\n",
       "      <td>8.764678</td>\n",
       "      <td>7.488853</td>\n",
       "      <td>8.347827</td>\n",
       "      <td>6.228511</td>\n",
       "    </tr>\n",
       "    <tr>\n",
       "      <th>4</th>\n",
       "      <td>10.026369</td>\n",
       "      <td>8.596004</td>\n",
       "      <td>8.272571</td>\n",
       "      <td>8.553525</td>\n",
       "      <td>8.881558</td>\n",
       "      <td>7.482682</td>\n",
       "    </tr>\n",
       "  </tbody>\n",
       "</table>\n",
       "</div>"
      ],
      "text/plain": [
       "   FRUIT_VEG     DAIRY    FROZEN      DELI  OTHER_GROCERY  HOUSEHOLD\n",
       "0   9.446913  9.175335  5.365976  7.198931       8.930759   7.891331\n",
       "1   8.861775  9.191158  7.474205  7.482119       9.166179   8.099554\n",
       "2   8.756682  9.083416  7.785305  8.967504       8.946896   8.165079\n",
       "3   9.492884  7.086738  8.764678  7.488853       8.347827   6.228511\n",
       "4  10.026369  8.596004  8.272571  8.553525       8.881558   7.482682"
      ]
     },
     "execution_count": 2,
     "metadata": {},
     "output_type": "execute_result"
    }
   ],
   "source": [
    "data.head(5)"
   ]
  },
  {
   "cell_type": "markdown",
   "metadata": {},
   "source": [
    "Looks good. Note that in this example we don't have a CUSTOMER_ID being tracked. Instead we're using the number of each row as an implicit \"customer id\". In other datasets you will have an ID - ensure that you hold it out so that ID isn't factorized itself! (and obviously you may need to keep track of the order of your matrix to rejoin that ID at the end to your results)\n",
    "\n",
    "The other thing to note is that our analysis here is quite coarse grained (for example purposes), and the level of product categorization you pick is always up to you. If we were using individual products as our features we'd have a bigger matrix that would process more slowly, but the principal will be the same.\n",
    "\n",
    "Consider also that while our matrix here considers customers spends, it could just as easily have rows representing documents, with the features represent the number of times each word appears in each. Whether we are doing customer analysis or text analytics, we always have the same type of matrix structure.\n",
    "\n",
    "\n",
    "### Task 5b: Checking that you 'get' Factorization\n",
    "It is important that you have understood that when we do compression we take our datapoints, and work out their coordinates in a smaller, compressed space. For factorization this mean we convert our matrix into two smaller matrices, where:\n",
    "\n",
    "1. The first of these smaller matrices describes the new \"axes\" of our newly compressed space - and these are often called \"topics\", \"themes\" or \"components\" depending on the technique you use. Whatever their called they always just represent the axes of our new, compressed space. They can be interpreted.\n",
    "\n",
    "2. The second of our new matrices contains each customer's (or documents) values (i.e. coordinates) in that smaller space. This shows how much each customer expressed the new topics/axes.\n",
    "\n",
    "Now, I always consider the topics/components that are produced in the first as new \"features\", and values for them indicating how much that feature is expressed by any individual customer/document/datapoint. So with this in mind, let's do the \"PCA\" version of factorization on our data we did the following:\n",
    "\n",
    "### Task 5c: PCA of Wholesale Customers\n",
    "<span style=\"font-weight:bold; color:green;\">&rarr; Run the following code again, and refresh your memory of the results.<span/>"
   ]
  },
  {
   "cell_type": "code",
   "execution_count": 3,
   "metadata": {},
   "outputs": [
    {
     "name": "stdout",
     "output_type": "stream",
     "text": [
      "Index(['FRUIT_VEG', 'DAIRY', 'FROZEN', 'DELI', 'OTHER_GROCERY', 'HOUSEHOLD'], dtype='object')\n",
      "[[ 0.17371704 -0.394463    0.17219603 -0.1494356  -0.45436364 -0.74551495]\n",
      " [-0.68513571 -0.16239926 -0.487691   -0.50970874 -0.06937908 -0.04191162]\n",
      " [-0.67351166  0.03306794  0.28481122  0.64459672 -0.03218274 -0.21824404]]\n"
     ]
    }
   ],
   "source": [
    "from sklearn.decomposition import PCA\n",
    "import matplotlib.pyplot as plt\n",
    "%matplotlib inline\n",
    "\n",
    "#-- Generate a PCA factorization of your data\n",
    "pca = PCA(n_components=3)\n",
    "pca.fit(data)\n",
    "\n",
    "#-- print out the extent to which each original category/feature contributes to \n",
    "#-- each of the 3 newly derived factors/topics\n",
    "print(data.columns)\n",
    "print(pca.components_)"
   ]
  },
  {
   "cell_type": "markdown",
   "metadata": {},
   "source": [
    "We are looking at the **first** of the two smaller matrices that our PCA factorization produces (you might want to think of it as the \"topic\" description matrix) - the one that represents the new topics/components. Each row here is one of those factors (with each individual number showing how much each category contributed to that factor). \n",
    "\n",
    "Last time we did a visualization of this first smaller matrix, so let's do that again, except this time i'll include the graphing function for you to look at:"
   ]
  },
  {
   "cell_type": "code",
   "execution_count": 4,
   "metadata": {},
   "outputs": [
    {
     "data": {
      "image/png": "[encoded data removed]",
      "text/plain": [
       "<Figure size 1008x576 with 1 Axes>"
      ]
     },
     "metadata": {
      "needs_background": "light"
     },
     "output_type": "display_data"
    }
   ],
   "source": [
    "def display_factors(model, original_features):\n",
    "   dimensions = range(1, len(model.components_) + 1)\n",
    "   topics = pandas.DataFrame(model.components_, columns = original_features)\n",
    "   fig, ax = plt.subplots(figsize = (14,8))\n",
    "   topics.plot(ax = ax, kind = 'bar');\n",
    "   ax.set_ylabel(\"Original Feature Weights\")\n",
    "   ax.set_xlabel(\"Derived Factors\")\n",
    "   ax.set_xticklabels(dimensions, rotation=0)\n",
    "\n",
    "display_factors(pca, data.columns)"
   ]
  },
  {
   "cell_type": "markdown",
   "metadata": {},
   "source": [
    "Each bar chart is one of our new factors/components/topics, and the bar heightss shows how much each of the original categories contributes to that new factor/component/topic. \n",
    "\n",
    "Now with PCA some of these contributions can be negative, which can make it hard to interpret. That's just the way PCA works, and If you don't care about interpretation, then this isn't an issue. But in business analytics we often *do*.\n",
    "\n",
    "So to address this another factorization technique was created that forced the new factors to only have positive weightings for each of the original features (making it therefore easier to interpret). This technique was called Non-negative matrix factorization. Let's try it out...\n",
    "\n",
    "\n",
    "### Task 5d: NMF of Wholesale Customers\n",
    "<span style=\"font-weight:bold; color:green;\">&rarr; Run the following code and compare your new NMF \"topics\" to your PCA \"topics\" <span/>"
   ]
  },
  {
   "cell_type": "code",
   "execution_count": 5,
   "metadata": {},
   "outputs": [
    {
     "name": "stderr",
     "output_type": "stream",
     "text": [
      "/Users/gavinshi/opt/anaconda3/lib/python3.8/site-packages/sklearn/decomposition/_nmf.py:289: FutureWarning: The 'init' value, when 'init=None' and n_components is less than n_samples and n_features, will be changed from 'nndsvd' to 'nndsvda' in 1.1 (renaming of 0.26).\n",
      "  warnings.warn(\n",
      "/Users/gavinshi/opt/anaconda3/lib/python3.8/site-packages/sklearn/decomposition/_nmf.py:1637: ConvergenceWarning: Maximum number of iterations 200 reached. Increase it to improve convergence.\n",
      "  warnings.warn(\n"
     ]
    },
    {
     "data": {
      "image/png": "[encoded data removed]",
      "text/plain": [
       "<Figure size 1008x576 with 1 Axes>"
      ]
     },
     "metadata": {
      "needs_background": "light"
     },
     "output_type": "display_data"
    }
   ],
   "source": [
    "from sklearn.decomposition import NMF\n",
    "\n",
    "#-- Generate a PCA factorization of your data\n",
    "nmf = NMF(n_components=3, random_state=1)\n",
    "nmf.fit(data)\n",
    "\n",
    "#-- And visualize the results\n",
    "nmf_results = display_factors(nmf, data.columns)"
   ]
  },
  {
   "cell_type": "markdown",
   "metadata": {},
   "source": [
    "These are factors just like our principal components... but they've been forced to have positive weights for each of the original features. How would you interpret them? Well here's my attempt:\n",
    "\n",
    "> **Topic 1: \"Fresh Food Required\"** - compared to other categories, fruit and veg gets bought twice as much.\n",
    ">\n",
    "\n",
    "> **Topic 2: \"Milk and Practical Items\"** - essentially a building block made out of \"dairy\", \"other grocery\" and \"household\". You may recall from the original Week 3 exercise that these items were all correlated, and that's come out here again - they reflect people who serve food, rather than just sell it.\n",
    ">\n",
    "\n",
    "> **Topic 3: \"We do not cook\"** - this topic heavily reflects a client who are not making their own meals from scracth, but buying frozen food, or pre-prepared items from the deli. \n",
    "\n",
    "These topics all make sense (more so than the PCA versions I'd say). Topics 1 and 2 are highly relevent to cafe's and restuarants - they prepare their own food every day so \"fresh food is required\" and they have to serve both tea and coffee, as well as clean up customer's mess so \"Milk and Practical Items\" is also key. Topic 3 however, is much more relevent to a food retailer. They don't prepare new food every day, so don't want fresh food that will go off, but rather frozen items - they \"do not cook\".\n",
    "\n",
    "\n",
    "### Task 5e: LDA for Wholesale Customers\n",
    "\n",
    "Finally, let's look at LDA, a rival technique to NMF that we know has been transferred across from text analytics. In text analytics your matrix has rows for each document, and each column represents the count of a particular word in that document. We consider instead documents to be customers purchasing histories and words to be the individual products they bought, with counts of each product analogising to counts of each word.\n",
    "\n",
    "Let's try it on this data (note, you may get a depracation warning when you run the following code - ignore it!).\n",
    "\n",
    "<span style=\"font-weight:bold; color:green;\">&rarr; Run the following code and compare your new LDA \"topics\" to the previous options <span/>"
   ]
  },
  {
   "cell_type": "code",
   "execution_count": 6,
   "metadata": {},
   "outputs": [
    {
     "data": {
      "image/png": "[encoded data removed]",
      "text/plain": [
       "<Figure size 1008x576 with 1 Axes>"
      ]
     },
     "metadata": {
      "needs_background": "light"
     },
     "output_type": "display_data"
    }
   ],
   "source": [
    "# TODO: Apply PCA by fitting the good data with only two dimensions\n",
    "from sklearn.decomposition import LatentDirichletAllocation\n",
    "\n",
    "#-- generate and visualize and LDA model.\n",
    "lda = LatentDirichletAllocation(n_components=3, random_state=0)\n",
    "lda.fit(data)\n",
    "lda_results = display_factors(lda, data.columns)"
   ]
  },
  {
   "cell_type": "markdown",
   "metadata": {},
   "source": [
    "I noted two things from my results:\n",
    "1. Again our first factor is weighted toward fruit and veg, and the last reflects our now recognizable correlation between dairy, other_grocery, and practical items. But its much harder to see that distinction as clearly here.\n",
    "2. It took longer to process the results.\n",
    "\n",
    "So in this case, I would actually prefer to use my NMF factors - they are easier to interpret than PCA (not being negative) and LDA (being more distinctive) and they ran quickly. These NMF factors would become my new features, and each customer's values for them may be even fed forward into any clustering algorithm if I chose to follow such a path.\n",
    "\n",
    "Now, sometimes I will prefer my LDA components, and sometimes (although less often!) I will prefer my PCA ones. Some times I won't just use my eyes to select, and actually check which produce the least errors if I 'reconstruct' my original data (by multiplying my two smaller matrices together). Perhaps if I'd applied tfidf to my data I'd have got better results - ultimately as long as you justify your choices, picking a topic modelling technique is subjective. In general I tend to prefer NMF for consumer data however.\n",
    "\n",
    "\n",
    "### Task 5f: Listing the feature weightings in a topic to help interpretation\n",
    "If we'd had not 6 original categories, but dozens, or even thousands (if we'd been looking at the spend of individual products) we would not have been able to look at bar charts of the results, and interpretation would have been trickier. In such cases, where we have lots of original features, we can order them in order of importances and interpret the top few of them to understand what the topic \"means\". To do so I would use code something like this:\n"
   ]
  },
  {
   "cell_type": "code",
   "execution_count": 7,
   "metadata": {
    "scrolled": true
   },
   "outputs": [
    {
     "name": "stdout",
     "output_type": "stream",
     "text": [
      "\n",
      "TOPIC 0\n",
      "----------\n",
      "11.75 FRUIT_VEG\n",
      "6.66 FROZEN\n",
      "5.49 OTHER_GROCERY\n",
      "\n",
      "TOPIC 1\n",
      "----------\n",
      "8.39 HOUSEHOLD\n",
      "6.64 OTHER_GROCERY\n",
      "5.81 DAIRY\n",
      "\n",
      "TOPIC 2\n",
      "----------\n",
      "6.70 DELI\n",
      "5.22 FROZEN\n",
      "2.39 DAIRY\n"
     ]
    }
   ],
   "source": [
    "for t, topic in enumerate(nmf.components_):\n",
    "    print(\"\\nTOPIC\", t)\n",
    "    print(\"----------\")\n",
    "    \n",
    "    #-- attach the feature name to each topic weighting\n",
    "    weightings = list(zip(topic, data.columns))\n",
    " \n",
    "    #-- sort the weightings into an order\n",
    "    ordered_indeces = topic.argsort()\n",
    "    \n",
    "    #-- make the order highest first\n",
    "    reversed_indeces = ordered_indeces[::-1]\n",
    "    \n",
    "    #-- reduce it down to only the top 4 items\n",
    "    top_3_indeces = reversed_indeces[:3]\n",
    "    \n",
    "    #-- print the results out to screen\n",
    "    for i in top_3_indeces:\n",
    "        print(\"{:.2f} {}\".format(weightings[i][0], weightings[i][1]))\n",
    "    "
   ]
  },
  {
   "cell_type": "markdown",
   "metadata": {
    "collapsed": true
   },
   "source": [
    "### Task 5g: Using topics as new features\n",
    "Last but not least we can cast all of our customers in terms of our new topics:\n"
   ]
  },
  {
   "cell_type": "code",
   "execution_count": 8,
   "metadata": {},
   "outputs": [
    {
     "name": "stdout",
     "output_type": "stream",
     "text": [
      "['FRESH FOOD', 'PRACTICAL ITEMS', \"WE DON'T COOK\"]\n",
      "[[0.75880092 0.68278504 0.31558986]\n",
      " [0.74755978 0.66705203 0.49915451]\n",
      " [0.71661776 0.65319056 0.67089151]\n",
      " ...\n",
      " [0.78028195 0.84035425 0.33300901]\n",
      " [0.75800565 0.36444147 0.54352957]\n",
      " [0.67088936 0.55834796 0.04527106]]\n"
     ]
    }
   ],
   "source": [
    "feature_names = [\"FRESH FOOD\", \"PRACTICAL ITEMS\", \"WE DON'T COOK\"]\n",
    "new_features = nmf.transform(data)\n",
    "\n",
    "print(feature_names)\n",
    "print(new_features)"
   ]
  },
  {
   "cell_type": "markdown",
   "metadata": {},
   "source": [
    "Great. You'll note that **.fit()** created the first of our smaller matrices (the topic matrix) and now **.transform()** has given us access to the second one (the customer's new coordinates). And this is the point we would now rejoin our customers IDs (they will still be in the same order as our original data!). \n",
    "\n",
    "We could then even cluster in this new space. Not so useful in this example as we only had 6 categories to start with, but if we'd started with doznes or thousands of product categories/items, now we'd be down to a much easier space to cluster/segment in."
   ]
  },
  {
   "cell_type": "code",
   "execution_count": 15,
   "metadata": {},
   "outputs": [
    {
     "data": {
      "text/html": [
       "<div>\n",
       "<style scoped>\n",
       "    .dataframe tbody tr th:only-of-type {\n",
       "        vertical-align: middle;\n",
       "    }\n",
       "\n",
       "    .dataframe tbody tr th {\n",
       "        vertical-align: top;\n",
       "    }\n",
       "\n",
       "    .dataframe thead th {\n",
       "        text-align: right;\n",
       "    }\n",
       "</style>\n",
       "<table border=\"1\" class=\"dataframe\">\n",
       "  <thead>\n",
       "    <tr style=\"text-align: right;\">\n",
       "      <th></th>\n",
       "      <th>FRESH FOOD</th>\n",
       "      <th>PRACTICAL ITEMS</th>\n",
       "      <th>WE DON'T COOK</th>\n",
       "    </tr>\n",
       "  </thead>\n",
       "  <tbody>\n",
       "    <tr>\n",
       "      <th>0</th>\n",
       "      <td>0.758801</td>\n",
       "      <td>0.682785</td>\n",
       "      <td>0.315590</td>\n",
       "    </tr>\n",
       "    <tr>\n",
       "      <th>1</th>\n",
       "      <td>0.747560</td>\n",
       "      <td>0.667052</td>\n",
       "      <td>0.499155</td>\n",
       "    </tr>\n",
       "    <tr>\n",
       "      <th>2</th>\n",
       "      <td>0.716618</td>\n",
       "      <td>0.653191</td>\n",
       "      <td>0.670892</td>\n",
       "    </tr>\n",
       "    <tr>\n",
       "      <th>3</th>\n",
       "      <td>0.809015</td>\n",
       "      <td>0.385742</td>\n",
       "      <td>0.584705</td>\n",
       "    </tr>\n",
       "    <tr>\n",
       "      <th>4</th>\n",
       "      <td>0.828407</td>\n",
       "      <td>0.532361</td>\n",
       "      <td>0.603601</td>\n",
       "    </tr>\n",
       "    <tr>\n",
       "      <th>...</th>\n",
       "      <td>...</td>\n",
       "      <td>...</td>\n",
       "      <td>...</td>\n",
       "    </tr>\n",
       "    <tr>\n",
       "      <th>435</th>\n",
       "      <td>0.905243</td>\n",
       "      <td>0.397785</td>\n",
       "      <td>0.645395</td>\n",
       "    </tr>\n",
       "    <tr>\n",
       "      <th>436</th>\n",
       "      <td>0.877120</td>\n",
       "      <td>0.184150</td>\n",
       "      <td>0.586329</td>\n",
       "    </tr>\n",
       "    <tr>\n",
       "      <th>437</th>\n",
       "      <td>0.780282</td>\n",
       "      <td>0.840354</td>\n",
       "      <td>0.333009</td>\n",
       "    </tr>\n",
       "    <tr>\n",
       "      <th>438</th>\n",
       "      <td>0.758006</td>\n",
       "      <td>0.364441</td>\n",
       "      <td>0.543530</td>\n",
       "    </tr>\n",
       "    <tr>\n",
       "      <th>439</th>\n",
       "      <td>0.670889</td>\n",
       "      <td>0.558348</td>\n",
       "      <td>0.045271</td>\n",
       "    </tr>\n",
       "  </tbody>\n",
       "</table>\n",
       "<p>440 rows × 3 columns</p>\n",
       "</div>"
      ],
      "text/plain": [
       "     FRESH FOOD  PRACTICAL ITEMS  WE DON'T COOK\n",
       "0      0.758801         0.682785       0.315590\n",
       "1      0.747560         0.667052       0.499155\n",
       "2      0.716618         0.653191       0.670892\n",
       "3      0.809015         0.385742       0.584705\n",
       "4      0.828407         0.532361       0.603601\n",
       "..          ...              ...            ...\n",
       "435    0.905243         0.397785       0.645395\n",
       "436    0.877120         0.184150       0.586329\n",
       "437    0.780282         0.840354       0.333009\n",
       "438    0.758006         0.364441       0.543530\n",
       "439    0.670889         0.558348       0.045271\n",
       "\n",
       "[440 rows x 3 columns]"
      ]
     },
     "execution_count": 15,
     "metadata": {},
     "output_type": "execute_result"
    }
   ],
   "source": [
    "a = pandas.DataFrame(new_features, columns=feature_names)\n",
    "a"
   ]
  }
 ],
 "metadata": {
  "kernelspec": {
   "display_name": "Python 3",
   "language": "python",
   "name": "python3"
  },
  "language_info": {
   "codemirror_mode": {
    "name": "ipython",
    "version": 3
   },
   "file_extension": ".py",
   "mimetype": "text/x-python",
   "name": "python",
   "nbconvert_exporter": "python",
   "pygments_lexer": "ipython3",
   "version": "3.8.8"
  }
 },
 "nbformat": 4,
 "nbformat_minor": 2
}
