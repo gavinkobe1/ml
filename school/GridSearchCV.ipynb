{
 "cells": [
  {
   "cell_type": "markdown",
   "metadata": {
    "id": "ia-6lzAXn1vn"
   },
   "source": [
    "<h1 style=\"text-align: center;\">Practical 3: Towards models in the real world <br> SVMs, Model Selection, Pipelines, Standardization & Category Encoding</h1>\n",
    "\n",
    "**This week's practical will build on last weeks. At the end of this practical you should be able to:**\n",
    "1. Undertake classification tasks with SVMs. This includes both linear and non-linear versions.\n",
    "2. Extend models such as SVMs to handle categorical features encoded as strings via Pipelines and OneHot encoding within a deployment scenario.\n",
    "3. Perform label encoding / decoding to define target classes to take advantage of sklearns inbuilt evaluation measures (precision, recall etc) while maintaining human readable labels.\n",
    "4. Undertake semi-automatic model selection as part of an \"extended classifier\" pipeline while still achieving unbiased estimates of final model performance.\n",
    "\n",
    "## Before you start...\n",
    "You'll want to use the same OneHotEncoder that we used last week. If you haven't already installed it, in a terminal type:<br>\n",
    "`sudo pip3 install category_encoders`\n",
    "\n",
    "And then restart your kerenel if you have already started jupyter.\n",
    "\n",
    "If you are using colaboratory, then please include the line:<br>\n",
    "`!pip install category_encoders`\n",
    "at the top of the notebook.\n",
    "\n",
    "[The documentation for this package](https://contrib.scikit-learn.org/category_encoders/onehot.html).\n",
    "\n",
    "\n",
    "<br>Recall you have to choose how to deal with unknown values. I.e. values in our test data which were not in our training data. How they are dealt with via the parameter `handle_unknown` or . <br>\n",
    "There are three options:<br>\n",
    "`handle_unknown = 'value'`(default): will encode a new value as 0 in every dummy column. ‘indicator’ <br>\n",
    "`handle_unknown = 'error'`: will raise a ValueError at transform time if there are new categories.<br>\n",
    "`handle_unknown = 'return_nan'`: will encode a new value as np.nan in every dummy column.<br>\n",
    "`handle_unknown = 'indicator'`: will add an additional dummy column (in both training and test data).\n",
    "\n",
    "Please use `handle_unknown = 'indicator'` in this practical.\n",
    "\n",
    "## The task.\n",
    "\n",
    "Task: Predict whether a person makes over $50k per year from census data known about them.\n",
    "\n",
    "Data set from the paper: Kohavi, Ron. \"Scaling up the accuracy of Naive-Bayes classifiers: a decision-tree hybrid.\" KDD. Vol. 96. 1996.\n",
    "Data URL: We will be using modified versions of the publically avaliable data. Please download the data from the URLs provided. \n",
    "\n",
    "**Output Feature:** \n",
    "\n",
    "Feature | type | values\n",
    ":-------:|:--------:|:--------:|\n",
    "salary | categorical | >50K, <=50K| \n",
    "\n",
    "**Input features**\n",
    "\n",
    "|     Feature    |     Type    |                                                                                                                                                                                                              Values                                                                                                                                                                                                             |\n",
    "|:--------------:|:-----------:|:-------------------------------------------------------------------------------------------------------------------------------------------------------------------------------------------------------------------------------------------------------------------------------------------------------------------------------------------------------------------------------------------------------------------------------:|\n",
    "|       age      |  continuous |                                                                                                                                                                                                                                                                                                                                                                                                                               |\n",
    "|    workclass   | categorical |                                                                                                                                                              Private, Self-emp-not-inc, Self-emp-inc, Federal-gov, Local-gov, State-gov, Without-pay, Never-worked                                                                                                                                                              |\n",
    "|     fnlwgt     |  continuous |                                                                                                                                                                                                                                                                                                                                                                                                                                 |\n",
    "|    education   | categorical |                                                                                                                                      Bachelors, Some-college, 11th, HS-grad, Prof-school, Assoc-acdm, Assoc-voc, 9th, 7th-8th, 12th, Masters, 1st-4th, 10th, Doctorate, 5th-6th, Preschool.                                                                                                                                     |\n",
    "|  education-num |  continuous |                                                                                                                                                                                                                                                                                                                                                                                                                                 |\n",
    "| marital-status | categorical |                                                                                                                                                            Married-civ-spouse, Divorced, Never-married, Separated, Widowed, Married-spouse-absent, Married-AF-spouse.                                                                                                                                                           |\n",
    "|   occupation   | categorical |                                                                                                    Tech-support, Craft-repair, Other-service, Sales, Exec-managerial, Prof-specialty, Handlers-cleaners, Machine-op-inspct, Adm-clerical, Farming-fishing, Transport-moving, Priv-house-serv, Protective-serv, Armed-Forces.                                                                                                    |\n",
    "|  relationship  | categorical |                                                                                                                                                                               Wife, Own-child, Husband, Not-in-family, Other-relative, Unmarried.                                                                                                                                                                               |\n",
    "|      race      | categorical |                                                                                                                                                                                   White, Asian-Pac-Islander, Amer-Indian-Eskimo, Other, Black.                                                                                                                                                                                  |\n",
    "|       sex      | categorical |                                                                                                                                                                                                          Female, Male.                                                                                                                                                                                                          |\n",
    "|  capital-gain  |  continuous |                                                                                                                                                                                                                                                                                                                                                                                                                                 |\n",
    "|  capital-loss  |  continuous |                                                                                                                                                                                                                                                                                                                                                                                                                                 |\n",
    "| hours-per-week |  continuous |                                                                                                                                                                                                                                                                                                                                                                                                                                 |\n",
    "| native-country | categorical | United-States, Cambodia, England, Puerto-Rico, Canada, Germany, Outlying-US(Guam-USVI-etc), India, Japan, Greece, South, China, Cuba, Iran, Honduras, Philippines, Italy, Poland, Jamaica, Vietnam, Mexico, Portugal, Ireland, France, Dominican-Republic, Laos, Ecuador, Taiwan, Haiti, Columbia, Hungary, Guatemala, Nicaragua, Scotland, Thailand, Yugoslavia, El-Salvador, Trinadad&Tobago, Peru, Hong, Holand-Netherlands. |\n",
    "\n",
    "\n",
    "\n",
    "## The final flow (for developing and testing the model)\n",
    "\n",
    "** 1. Data Preparation **\n",
    "* Load data, provide headings, ensure correct dtypes\n",
    "* Setup the label encoding and generate the labels\n",
    "* Split the data into a training and test set\n",
    "\n",
    "**2. Model setup & evaluation **\n",
    "* The baseline (majority) learner\n",
    "* The logistic regression baseline, embed in a pipeline with OneHot encoding, standardization and grid search\n",
    "* The linear SVM, embed in a pipeline with OneHot encoding, standardization and grid search\n",
    "* The non-linear (rbf) SVM, embed in a pipeline with OneHot encoding, standardization and grid search\n",
    "* The non-linear (polynomial) SVM, embed in a pipeline with OneHot encoding, standardization and grid search\n",
    "* In all cases train the classifiers using the training set (automatically doing meta-parameter selection via cross-validation with a validation set) and evaluate on the test set\n",
    "\n",
    "**3. Final training of best model **\n",
    "\n",
    "**4. In the future: Checking model performance **\n",
    "* Evaluate the performance of the final classifier on a completely new set of data hypothetically collected after your company has been using the model for awhile. \n",
    "\n",
    "* Evaluate the performance of all classifiers on the test set\n",
    "\n",
    "## Think you know what you're doing and want to see if you can do it yourself? \n",
    "Start a new jupyter notebook and do it without help.\n",
    "\n",
    "The data you, as an analyst, have been given to develop and test your model:<br> [http://www.cs.nott.ac.uk/~pszgss/teaching/ML/Prac3/adult.data.small](http://www.cs.nott.ac.uk/~pszgss/teaching/ML/Prac3/adult.data.small)\n",
    "\n",
    "The data you as an analyst are given 3 months later to check how your model is performing. It contains both the input and output features:<br>[http://www.cs.nott.ac.uk/~pszgss/teaching/ML/Prac3/adult.test](http://www.cs.nott.ac.uk/~pszgss/teaching/ML/Prac3/adult.test)\n",
    "\n",
    "\n",
    "## Still a little unsure?\n",
    "Follow this tutorial, filling in the blanks.\n",
    "\n",
    "## Done and back for more?\n",
    "Implement a Random Forest / kNN / Gradient Boosting classifier. How does it compare?"
   ]
  },
  {
   "cell_type": "markdown",
   "metadata": {
    "id": "bX0n3i8Kn1vo"
   },
   "source": [
    "# Following along? Let's begin....\n",
    "**NOTE:** It is **expected** that you will have to google and **look up documentation to complete this practical**. This is how it will be in the real world.\n",
    "\n",
    "# 1. Data \n",
    "\n",
    "The data you have been given as an analyst to develop and test your model is located at the following URL (use read_csv to directly load the data as a pandas DataFrame):<br>\n",
    "[http://www.cs.nott.ac.uk/~pszgss/teaching/ML/Prac3/adult.data.small](http://www.cs.nott.ac.uk/~pszgss/teaching/ML/Prac3/adult.data.small)\n"
   ]
  },
  {
   "cell_type": "code",
   "execution_count": 2,
   "metadata": {
    "colab": {
     "base_uri": "https://localhost:8080/"
    },
    "id": "u_VU3xXHsSLx",
    "outputId": "94ec624a-6bf4-43fb-d852-3917f0331f55"
   },
   "outputs": [
    {
     "name": "stdout",
     "output_type": "stream",
     "text": [
      "Collecting category_encoders\n",
      "  Downloading category_encoders-2.3.0-py2.py3-none-any.whl (82 kB)\n",
      "\u001b[?25l\r",
      "\u001b[K     |████                            | 10 kB 15.7 MB/s eta 0:00:01\r",
      "\u001b[K     |████████                        | 20 kB 11.6 MB/s eta 0:00:01\r",
      "\u001b[K     |████████████                    | 30 kB 8.5 MB/s eta 0:00:01\r",
      "\u001b[K     |████████████████                | 40 kB 5.7 MB/s eta 0:00:01\r",
      "\u001b[K     |████████████████████            | 51 kB 5.0 MB/s eta 0:00:01\r",
      "\u001b[K     |████████████████████████        | 61 kB 5.8 MB/s eta 0:00:01\r",
      "\u001b[K     |████████████████████████████    | 71 kB 6.3 MB/s eta 0:00:01\r",
      "\u001b[K     |███████████████████████████████▉| 81 kB 7.0 MB/s eta 0:00:01\r",
      "\u001b[K     |████████████████████████████████| 82 kB 332 kB/s \n",
      "\u001b[?25hRequirement already satisfied: patsy>=0.5.1 in /usr/local/lib/python3.7/dist-packages (from category_encoders) (0.5.2)\n",
      "Requirement already satisfied: scikit-learn>=0.20.0 in /usr/local/lib/python3.7/dist-packages (from category_encoders) (1.0.2)\n",
      "Requirement already satisfied: scipy>=1.0.0 in /usr/local/lib/python3.7/dist-packages (from category_encoders) (1.4.1)\n",
      "Requirement already satisfied: statsmodels>=0.9.0 in /usr/local/lib/python3.7/dist-packages (from category_encoders) (0.10.2)\n",
      "Requirement already satisfied: numpy>=1.14.0 in /usr/local/lib/python3.7/dist-packages (from category_encoders) (1.21.5)\n",
      "Requirement already satisfied: pandas>=0.21.1 in /usr/local/lib/python3.7/dist-packages (from category_encoders) (1.3.5)\n",
      "Requirement already satisfied: python-dateutil>=2.7.3 in /usr/local/lib/python3.7/dist-packages (from pandas>=0.21.1->category_encoders) (2.8.2)\n",
      "Requirement already satisfied: pytz>=2017.3 in /usr/local/lib/python3.7/dist-packages (from pandas>=0.21.1->category_encoders) (2018.9)\n",
      "Requirement already satisfied: six in /usr/local/lib/python3.7/dist-packages (from patsy>=0.5.1->category_encoders) (1.15.0)\n",
      "Requirement already satisfied: joblib>=0.11 in /usr/local/lib/python3.7/dist-packages (from scikit-learn>=0.20.0->category_encoders) (1.1.0)\n",
      "Requirement already satisfied: threadpoolctl>=2.0.0 in /usr/local/lib/python3.7/dist-packages (from scikit-learn>=0.20.0->category_encoders) (3.1.0)\n",
      "Installing collected packages: category-encoders\n",
      "Successfully installed category-encoders-2.3.0\n"
     ]
    }
   ],
   "source": [
    "# If not using colaboratory, comment the line below\n",
    "!pip install category_encoders"
   ]
  },
  {
   "cell_type": "code",
   "execution_count": 3,
   "metadata": {
    "colab": {
     "base_uri": "https://localhost:8080/",
     "height": 387
    },
    "hideCode": false,
    "hideOutput": false,
    "hidePrompt": false,
    "id": "U8k22DZKn1vt",
    "outputId": "5f5d8d6c-410b-47e1-939e-e0cd48f06405"
   },
   "outputs": [
    {
     "name": "stderr",
     "output_type": "stream",
     "text": [
      "/usr/local/lib/python3.7/dist-packages/statsmodels/tools/_testing.py:19: FutureWarning: pandas.util.testing is deprecated. Use the functions in the public API at pandas.testing instead.\n",
      "  import pandas.util.testing as tm\n"
     ]
    },
    {
     "data": {
      "text/html": [
       "\n",
       "  <div id=\"df-1bbf0fdd-c7fc-4e0c-b56d-1f4ed7a639a0\">\n",
       "    <div class=\"colab-df-container\">\n",
       "      <div>\n",
       "<style scoped>\n",
       "    .dataframe tbody tr th:only-of-type {\n",
       "        vertical-align: middle;\n",
       "    }\n",
       "\n",
       "    .dataframe tbody tr th {\n",
       "        vertical-align: top;\n",
       "    }\n",
       "\n",
       "    .dataframe thead th {\n",
       "        text-align: right;\n",
       "    }\n",
       "</style>\n",
       "<table border=\"1\" class=\"dataframe\">\n",
       "  <thead>\n",
       "    <tr style=\"text-align: right;\">\n",
       "      <th></th>\n",
       "      <th>age</th>\n",
       "      <th>workclass</th>\n",
       "      <th>fnlwgt</th>\n",
       "      <th>education</th>\n",
       "      <th>education-num</th>\n",
       "      <th>matrial-status</th>\n",
       "      <th>occupation</th>\n",
       "      <th>relationship</th>\n",
       "      <th>race</th>\n",
       "      <th>sex</th>\n",
       "      <th>captial-gain</th>\n",
       "      <th>captial-loss</th>\n",
       "      <th>hours-per-week</th>\n",
       "      <th>native-counrty</th>\n",
       "      <th>salary</th>\n",
       "    </tr>\n",
       "  </thead>\n",
       "  <tbody>\n",
       "    <tr>\n",
       "      <th>0</th>\n",
       "      <td>39</td>\n",
       "      <td>State-gov</td>\n",
       "      <td>77516</td>\n",
       "      <td>Bachelors</td>\n",
       "      <td>13</td>\n",
       "      <td>Never-married</td>\n",
       "      <td>Adm-clerical</td>\n",
       "      <td>Not-in-family</td>\n",
       "      <td>White</td>\n",
       "      <td>Male</td>\n",
       "      <td>2174</td>\n",
       "      <td>0</td>\n",
       "      <td>40</td>\n",
       "      <td>United-States</td>\n",
       "      <td>&lt;=50K</td>\n",
       "    </tr>\n",
       "    <tr>\n",
       "      <th>1</th>\n",
       "      <td>50</td>\n",
       "      <td>Self-emp-not-inc</td>\n",
       "      <td>83311</td>\n",
       "      <td>Bachelors</td>\n",
       "      <td>13</td>\n",
       "      <td>Married-civ-spouse</td>\n",
       "      <td>Exec-managerial</td>\n",
       "      <td>Husband</td>\n",
       "      <td>White</td>\n",
       "      <td>Male</td>\n",
       "      <td>0</td>\n",
       "      <td>0</td>\n",
       "      <td>13</td>\n",
       "      <td>United-States</td>\n",
       "      <td>&lt;=50K</td>\n",
       "    </tr>\n",
       "    <tr>\n",
       "      <th>2</th>\n",
       "      <td>38</td>\n",
       "      <td>Private</td>\n",
       "      <td>215646</td>\n",
       "      <td>HS-grad</td>\n",
       "      <td>9</td>\n",
       "      <td>Divorced</td>\n",
       "      <td>Handlers-cleaners</td>\n",
       "      <td>Not-in-family</td>\n",
       "      <td>White</td>\n",
       "      <td>Male</td>\n",
       "      <td>0</td>\n",
       "      <td>0</td>\n",
       "      <td>40</td>\n",
       "      <td>United-States</td>\n",
       "      <td>&lt;=50K</td>\n",
       "    </tr>\n",
       "    <tr>\n",
       "      <th>3</th>\n",
       "      <td>53</td>\n",
       "      <td>Private</td>\n",
       "      <td>234721</td>\n",
       "      <td>11th</td>\n",
       "      <td>7</td>\n",
       "      <td>Married-civ-spouse</td>\n",
       "      <td>Handlers-cleaners</td>\n",
       "      <td>Husband</td>\n",
       "      <td>Black</td>\n",
       "      <td>Male</td>\n",
       "      <td>0</td>\n",
       "      <td>0</td>\n",
       "      <td>40</td>\n",
       "      <td>United-States</td>\n",
       "      <td>&lt;=50K</td>\n",
       "    </tr>\n",
       "    <tr>\n",
       "      <th>4</th>\n",
       "      <td>28</td>\n",
       "      <td>Private</td>\n",
       "      <td>338409</td>\n",
       "      <td>Bachelors</td>\n",
       "      <td>13</td>\n",
       "      <td>Married-civ-spouse</td>\n",
       "      <td>Prof-specialty</td>\n",
       "      <td>Wife</td>\n",
       "      <td>Black</td>\n",
       "      <td>Female</td>\n",
       "      <td>0</td>\n",
       "      <td>0</td>\n",
       "      <td>40</td>\n",
       "      <td>Cuba</td>\n",
       "      <td>&lt;=50K</td>\n",
       "    </tr>\n",
       "  </tbody>\n",
       "</table>\n",
       "</div>\n",
       "      <button class=\"colab-df-convert\" onclick=\"convertToInteractive('df-1bbf0fdd-c7fc-4e0c-b56d-1f4ed7a639a0')\"\n",
       "              title=\"Convert this dataframe to an interactive table.\"\n",
       "              style=\"display:none;\">\n",
       "        \n",
       "  <svg xmlns=\"http://www.w3.org/2000/svg\" height=\"24px\"viewBox=\"0 0 24 24\"\n",
       "       width=\"24px\">\n",
       "    <path d=\"M0 0h24v24H0V0z\" fill=\"none\"/>\n",
       "    <path d=\"M18.56 5.44l.94 2.06.94-2.06 2.06-.94-2.06-.94-.94-2.06-.94 2.06-2.06.94zm-11 1L8.5 8.5l.94-2.06 2.06-.94-2.06-.94L8.5 2.5l-.94 2.06-2.06.94zm10 10l.94 2.06.94-2.06 2.06-.94-2.06-.94-.94-2.06-.94 2.06-2.06.94z\"/><path d=\"M17.41 7.96l-1.37-1.37c-.4-.4-.92-.59-1.43-.59-.52 0-1.04.2-1.43.59L10.3 9.45l-7.72 7.72c-.78.78-.78 2.05 0 2.83L4 21.41c.39.39.9.59 1.41.59.51 0 1.02-.2 1.41-.59l7.78-7.78 2.81-2.81c.8-.78.8-2.07 0-2.86zM5.41 20L4 18.59l7.72-7.72 1.47 1.35L5.41 20z\"/>\n",
       "  </svg>\n",
       "      </button>\n",
       "      \n",
       "  <style>\n",
       "    .colab-df-container {\n",
       "      display:flex;\n",
       "      flex-wrap:wrap;\n",
       "      gap: 12px;\n",
       "    }\n",
       "\n",
       "    .colab-df-convert {\n",
       "      background-color: #E8F0FE;\n",
       "      border: none;\n",
       "      border-radius: 50%;\n",
       "      cursor: pointer;\n",
       "      display: none;\n",
       "      fill: #1967D2;\n",
       "      height: 32px;\n",
       "      padding: 0 0 0 0;\n",
       "      width: 32px;\n",
       "    }\n",
       "\n",
       "    .colab-df-convert:hover {\n",
       "      background-color: #E2EBFA;\n",
       "      box-shadow: 0px 1px 2px rgba(60, 64, 67, 0.3), 0px 1px 3px 1px rgba(60, 64, 67, 0.15);\n",
       "      fill: #174EA6;\n",
       "    }\n",
       "\n",
       "    [theme=dark] .colab-df-convert {\n",
       "      background-color: #3B4455;\n",
       "      fill: #D2E3FC;\n",
       "    }\n",
       "\n",
       "    [theme=dark] .colab-df-convert:hover {\n",
       "      background-color: #434B5C;\n",
       "      box-shadow: 0px 1px 3px 1px rgba(0, 0, 0, 0.15);\n",
       "      filter: drop-shadow(0px 1px 2px rgba(0, 0, 0, 0.3));\n",
       "      fill: #FFFFFF;\n",
       "    }\n",
       "  </style>\n",
       "\n",
       "      <script>\n",
       "        const buttonEl =\n",
       "          document.querySelector('#df-1bbf0fdd-c7fc-4e0c-b56d-1f4ed7a639a0 button.colab-df-convert');\n",
       "        buttonEl.style.display =\n",
       "          google.colab.kernel.accessAllowed ? 'block' : 'none';\n",
       "\n",
       "        async function convertToInteractive(key) {\n",
       "          const element = document.querySelector('#df-1bbf0fdd-c7fc-4e0c-b56d-1f4ed7a639a0');\n",
       "          const dataTable =\n",
       "            await google.colab.kernel.invokeFunction('convertToInteractive',\n",
       "                                                     [key], {});\n",
       "          if (!dataTable) return;\n",
       "\n",
       "          const docLinkHtml = 'Like what you see? Visit the ' +\n",
       "            '<a target=\"_blank\" href=https://colab.research.google.com/notebooks/data_table.ipynb>data table notebook</a>'\n",
       "            + ' to learn more about interactive tables.';\n",
       "          element.innerHTML = '';\n",
       "          dataTable['output_type'] = 'display_data';\n",
       "          await google.colab.output.renderOutput(dataTable, element);\n",
       "          const docLink = document.createElement('div');\n",
       "          docLink.innerHTML = docLinkHtml;\n",
       "          element.appendChild(docLink);\n",
       "        }\n",
       "      </script>\n",
       "    </div>\n",
       "  </div>\n",
       "  "
      ],
      "text/plain": [
       "   age          workclass  fnlwgt  ... hours-per-week  native-counrty salary\n",
       "0   39          State-gov   77516  ...             40   United-States  <=50K\n",
       "1   50   Self-emp-not-inc   83311  ...             13   United-States  <=50K\n",
       "2   38            Private  215646  ...             40   United-States  <=50K\n",
       "3   53            Private  234721  ...             40   United-States  <=50K\n",
       "4   28            Private  338409  ...             40            Cuba  <=50K\n",
       "\n",
       "[5 rows x 15 columns]"
      ]
     },
     "execution_count": 3,
     "metadata": {},
     "output_type": "execute_result"
    }
   ],
   "source": [
    "# Put your imports here\n",
    "import pandas\n",
    "from sklearn.ensemble import RandomForestClassifier\n",
    "from sklearn.linear_model import LogisticRegression\n",
    "from category_encoders.one_hot import OneHotEncoder\n",
    "from sklearn.pipeline import Pipeline\n",
    "\n",
    "# Read the data into a pandas DataFrame \n",
    "data = pandas.read_csv('http://www.cs.nott.ac.uk/~pszgss/teaching/ML/Prac3/adult.data.small', header = None, names = ['age','workclass','fnlwgt','education','education-num','matrial-status','occupation','relationship','race','sex','captial-gain','captial-loss','hours-per-week','native-counrty','salary'])\n",
    "\n",
    "# Check the DataFrame, does it look correct?\n",
    "data.head(5)"
   ]
  },
  {
   "cell_type": "code",
   "execution_count": 41,
   "metadata": {
    "colab": {
     "base_uri": "https://localhost:8080/"
    },
    "id": "EPZOkGjoKea-",
    "outputId": "c5e45f22-9aee-4524-90e8-522382fdd599"
   },
   "outputs": [
    {
     "data": {
      "text/plain": [
       "age               False\n",
       "workclass         False\n",
       "fnlwgt            False\n",
       "education         False\n",
       "education-num     False\n",
       "matrial-status    False\n",
       "occupation        False\n",
       "relationship      False\n",
       "race              False\n",
       "sex               False\n",
       "captial-gain      False\n",
       "captial-loss      False\n",
       "hours-per-week    False\n",
       "native-counrty    False\n",
       "salary            False\n",
       "dtype: bool"
      ]
     },
     "execution_count": 41,
     "metadata": {},
     "output_type": "execute_result"
    }
   ],
   "source": [
    "data.isnull().any()"
   ]
  },
  {
   "cell_type": "code",
   "execution_count": null,
   "metadata": {
    "id": "MNA7RZH-n1vw"
   },
   "outputs": [],
   "source": [
    "# If not fix it. Either here or when loading the csv or via a combination of both."
   ]
  },
  {
   "cell_type": "code",
   "execution_count": null,
   "metadata": {
    "colab": {
     "base_uri": "https://localhost:8080/"
    },
    "id": "ewASgTayn1vz",
    "outputId": "2252c46f-e1c4-4cc6-901d-f3fd0f77fbc2"
   },
   "outputs": [
    {
     "data": {
      "text/plain": [
       "age                int64\n",
       "workclass         object\n",
       "fnlwgt             int64\n",
       "education         object\n",
       "education-num      int64\n",
       "matrial-status    object\n",
       "occupation        object\n",
       "relationship      object\n",
       "race              object\n",
       "sex               object\n",
       "captial-gain       int64\n",
       "captial-loss       int64\n",
       "hours-per-week     int64\n",
       "native-counrty    object\n",
       "salary            object\n",
       "dtype: object"
      ]
     },
     "execution_count": 48,
     "metadata": {},
     "output_type": "execute_result"
    }
   ],
   "source": [
    "# Check the dtypes\n",
    "data.dtypes"
   ]
  },
  {
   "cell_type": "code",
   "execution_count": null,
   "metadata": {
    "id": "njWVWGy6n1v2"
   },
   "outputs": [],
   "source": [
    "# Do they look correct (i.e. do they match the documentation)? \n",
    "# Remember Strings will be listed as Objects. \n",
    "# If not fix them here."
   ]
  },
  {
   "cell_type": "code",
   "execution_count": 4,
   "metadata": {
    "id": "_jQI4SNZn1v6"
   },
   "outputs": [],
   "source": [
    "# Define our input features and our output feature\n",
    "# Call our input features X and our output feature y (the sklearn standard)\n",
    "X = data.drop( columns = 'salary' ) \n",
    "y = data.salary # or y = data['salary']\n"
   ]
  },
  {
   "cell_type": "code",
   "execution_count": 5,
   "metadata": {
    "colab": {
     "base_uri": "https://localhost:8080/"
    },
    "id": "czvX3s1uvKTf",
    "outputId": "be95f3b8-06b9-4264-f433-b7e7e20c22e4"
   },
   "outputs": [
    {
     "data": {
      "text/plain": [
       "0    <=50K\n",
       "1    <=50K\n",
       "2    <=50K\n",
       "3    <=50K\n",
       "4    <=50K\n",
       "5    <=50K\n",
       "6    <=50K\n",
       "7     >50K\n",
       "8     >50K\n",
       "9     >50K\n",
       "Name: salary, dtype: object"
      ]
     },
     "execution_count": 5,
     "metadata": {},
     "output_type": "execute_result"
    }
   ],
   "source": [
    "y.head(10)"
   ]
  },
  {
   "cell_type": "code",
   "execution_count": 6,
   "metadata": {
    "id": "4Siqziqwn1v-"
   },
   "outputs": [],
   "source": [
    "# Now we need to encode our output feature to be an integer 0 or 1. \n",
    "# This is because we have a binary classification problem and in order to use sklearn's\n",
    "# built-in evaluation measures we need to have one class defined as 1 (target) and one as 0 (non-target).\n",
    "\n",
    "# We could do this by using the LabelEncoder from sklearn. The LabelEncoder will convert n-distinct values\n",
    "# to 0,..,n-1 values in this case giving us what we want. We assume that our training set contains both\n",
    "# labels and that this mapping will be valid. However, we have no control \n",
    "# over which value is represented by 1 and which is represented by 0.\n",
    "# Therefore it is easier (in terms of subsequent interpretation) to do this\n",
    "# manually. Recall the problem, we want our target variable (1) to be '>50k'\n",
    "\n",
    "# To do this (your variable y is a pandas.Series object, use the replace method):\n",
    "# 1) update all values '<=50K' within y to equal 0\n",
    "# 2) update all values '>50K' within y to equal 1\n",
    "\n",
    "y.replace(to_replace = '<=50K', value = 0, inplace = True)\n",
    "y.replace(to_replace = '>50K', value = 1, inplace = True)"
   ]
  },
  {
   "cell_type": "code",
   "execution_count": 7,
   "metadata": {
    "colab": {
     "base_uri": "https://localhost:8080/"
    },
    "id": "EANPirgxuwwV",
    "outputId": "9cd4ffbd-9783-4bea-f5d3-0d85d764d284"
   },
   "outputs": [
    {
     "data": {
      "text/plain": [
       "array([0, 1])"
      ]
     },
     "execution_count": 7,
     "metadata": {},
     "output_type": "execute_result"
    }
   ],
   "source": [
    "# Check your y varaible now only contains 0 and 1\n",
    "y.unique()"
   ]
  },
  {
   "cell_type": "code",
   "execution_count": 8,
   "metadata": {
    "id": "HD5c-EeDn1wB"
   },
   "outputs": [],
   "source": [
    "# Since we are going to automatically tune our model parameters \n",
    "# we need to split our data into training and testing sets. \n",
    "# Do this here. \n",
    "\n",
    "# Keep 90% of the data for training \n",
    "# Use a random_state of 42\n",
    "\n",
    "# Use the following variable names:\n",
    "# X_train : The input features for the training set\n",
    "# y_train : The output feature for the training set\n",
    "# X_test : The input features for the test set\n",
    "# y_test : The output feature for the test set\n",
    "\n",
    "from sklearn.model_selection import train_test_split\n",
    "\n",
    "X_train, X_test, y_train, y_test = train_test_split(X, y, test_size=0.90, random_state=42)"
   ]
  },
  {
   "cell_type": "markdown",
   "metadata": {
    "id": "nvCADsTGn1wF"
   },
   "source": [
    "# 2. Model setup"
   ]
  },
  {
   "cell_type": "code",
   "execution_count": 9,
   "metadata": {
    "id": "JFVMzEran1wG"
   },
   "outputs": [],
   "source": [
    "# Setup the majority classifier (DummyClassifier from sklearn)\n",
    "#p.s. A simple majority classifier is one where every point is assigned to \n",
    "#whichever class is in the majority in the training set. \n",
    "#(If there is no majority, one of the classes is chosen arbitrarily). \n",
    "#This classifier is often used as a baseline for comparing other machine learning techniques.\n",
    "# The dummy classifier will still need to be wrapped in a Onehot encoder pipeline.\n",
    "# (sklearn consistantly doesn't like to handle categorical variables natively)\n",
    "# We do not need to wrap it in a gridsearch as there are no parameters to tune\n",
    "\n",
    "from sklearn.pipeline import Pipeline\n",
    "from sklearn.dummy import DummyClassifier\n",
    "\n",
    "steps = [\n",
    "    ('onehot',OneHotEncoder(handle_unknown='indicator')),  # will automatically pick string columns (could have specified)\n",
    "    ('model',DummyClassifier())\n",
    "]\n",
    "\n",
    "dc = Pipeline( steps = steps )"
   ]
  },
  {
   "cell_type": "code",
   "execution_count": 10,
   "metadata": {
    "colab": {
     "base_uri": "https://localhost:8080/"
    },
    "id": "LlIrQQq9n1wJ",
    "outputId": "895545eb-659f-41a7-a8b3-4ed7146442c3"
   },
   "outputs": [
    {
     "name": "stdout",
     "output_type": "stream",
     "text": [
      "{'dc:': 'Acc: 0.76, Prec: 1.00, Recall: 0.00'}\n"
     ]
    }
   ],
   "source": [
    "# Train and test the dummy classifier\n",
    "# Print the accuracy, precision and recall (sensitivity). \n",
    "# The methods for these are in sklearn.metrics\n",
    "\n",
    "from sklearn.metrics import accuracy_score, precision_score, recall_score\n",
    "\n",
    "dc.fit(X_train,y_train)\n",
    "dc_pred = dc.predict(X_test)\n",
    "results = {}\n",
    "\n",
    "results['dc:'] = 'Acc: {:.2f}, Prec: {:.2f}, Recall: {:.2f}'.format(accuracy_score(y_test, dc_pred),\n",
    "                                                                    precision_score(y_test, dc_pred,zero_division=1),\n",
    "                                                                    recall_score(y_test, dc_pred,zero_division=1)) \n",
    "print(results)"
   ]
  },
  {
   "cell_type": "code",
   "execution_count": 1,
   "metadata": {
    "id": "07k9P5ywn1wM"
   },
   "outputs": [],
   "source": [
    "# In the next few steps we are going to use GridSearch via cross-validation with a validation set.\n",
    "# This will be done across three models (1) logistic regression, (2) linear SVM & (3) RBF SVM\n",
    "# In order to be directly comparable the internal cross-validation should use the same random splits.\n",
    "# Create this fixed random split (KFold object) here so we can re-use in the GridSearchCV.\n",
    "\n",
    "from sklearn.model_selection import KFold\n",
    "\n",
    "folds = KFold(n_splits=3, shuffle=True, random_state=0)"
   ]
  },
  {
   "cell_type": "code",
   "execution_count": 12,
   "metadata": {
    "id": "iqn6bO_yn1wR"
   },
   "outputs": [],
   "source": [
    "# Setup the logistic regression baseline pipeline wrapped in a cross-validation grid search\n",
    "# The pipeline should be of the form: \n",
    "# =================\n",
    "# One-hot encoding (from category_encoders NOT sklearn)\n",
    "# Standardization (sklearn StandardScalar)\n",
    "# Logistic regressor (sklearn LogisticRegression)\n",
    "# ================\n",
    "# When listing the parameters for the grid search to search over remember that\n",
    "# to specify parameters within a pipeline use:\n",
    "# 'pipelineStageName__parameter'\n",
    "# TIP: include the parameter n_jobs = X when creating the GridSearchCV object\n",
    "#      this will use multiple cores (you have 4 hyperthreaded to act like 8)\n",
    "#      What's a good number? Pick 6 or 7. That uses ~3 out of 4 cores leaving \n",
    "#      one (or at least one thread) to run your interface.\n",
    "#\n",
    "# TIP: Always pick the same number of meta-parameters as your number of cores\n",
    "#      or a multiple of.\n",
    "#\n",
    "# TIP: Start with the grid 'model__C':[0.001, 0.01, 0.1, 1, 10, 100, 1000]\n",
    "#      with n_jobs = 7\n",
    "\n",
    "from sklearn.linear_model import LogisticRegression\n",
    "from sklearn.preprocessing import StandardScaler\n",
    "from category_encoders.one_hot import OneHotEncoder\n",
    "from sklearn.model_selection import GridSearchCV\n",
    "\n",
    "\n",
    "steps = [\n",
    "    ('onehot',OneHotEncoder(handle_unknown='indicator')),  # will automatically pick string columns (could have specified)\n",
    "    ('standardize', StandardScaler()), # will convert everything (can't specify which columns but all columns are fine)\n",
    "    ('model',LogisticRegression() )\n",
    "]\n",
    "\n",
    "lr_pipe = Pipeline( steps = steps )\n",
    "\n",
    "param_grid = [{'model__C':[0.001, 0.01, 0.1, 1, 10, 100, 1000]}]\n",
    "\n",
    "\n",
    "lr = GridSearchCV( lr_pipe, param_grid, n_jobs = 7, cv = folds  )"
   ]
  },
  {
   "cell_type": "code",
   "execution_count": 13,
   "metadata": {
    "colab": {
     "base_uri": "https://localhost:8080/"
    },
    "id": "3S6xAHTsn1wU",
    "outputId": "02972cce-9ca4-40cc-d2a6-56f1bde6ba8f"
   },
   "outputs": [
    {
     "data": {
      "text/plain": [
       "GridSearchCV(cv=KFold(n_splits=3, random_state=0, shuffle=True),\n",
       "             estimator=Pipeline(steps=[('onehot',\n",
       "                                        OneHotEncoder(handle_unknown='indicator')),\n",
       "                                       ('standardize', StandardScaler()),\n",
       "                                       ('model', LogisticRegression())]),\n",
       "             n_jobs=7,\n",
       "             param_grid=[{'model__C': [0.001, 0.01, 0.1, 1, 10, 100, 1000]}])"
      ]
     },
     "execution_count": 13,
     "metadata": {},
     "output_type": "execute_result"
    }
   ],
   "source": [
    "# Train the logistic regressor classifier\n",
    "lr.fit(X_train,y_train)"
   ]
  },
  {
   "cell_type": "code",
   "execution_count": 14,
   "metadata": {
    "colab": {
     "base_uri": "https://localhost:8080/"
    },
    "id": "q9HGl2Ubn1wW",
    "outputId": "276c0d08-12d8-4b86-cf31-44ea0ad7d030"
   },
   "outputs": [
    {
     "name": "stdout",
     "output_type": "stream",
     "text": [
      "{'model__C': 0.01}, 0.8266666666666667\n"
     ]
    }
   ],
   "source": [
    "# Print the meta-parameters that were found to be best. \n",
    "# If they were at the boundary of your grid search then\n",
    "# we may not have found the best parameters. Keeping the\n",
    "# same number of parameters to explore (for speed) explore more\n",
    "# parameters.\n",
    "\n",
    "print('{}, {}'.format(lr.best_params_,lr.best_score_))"
   ]
  },
  {
   "cell_type": "code",
   "execution_count": 15,
   "metadata": {
    "colab": {
     "base_uri": "https://localhost:8080/"
    },
    "id": "ObQL05ZVn1wY",
    "outputId": "4ea13fda-acea-475e-eb25-182e4130337e"
   },
   "outputs": [
    {
     "name": "stdout",
     "output_type": "stream",
     "text": [
      "{'dc:': 'Acc: 0.76, Prec: 1.00, Recall: 0.00', 'lr:': 'Acc: 0.83, Prec: 0.73, Recall: 0.47'}\n"
     ]
    }
   ],
   "source": [
    "# Test the logistic regressor classifier\n",
    "# Print the accuracy, precision and recall (sensitivity). \n",
    "\n",
    "lr_pred = lr.predict(X_test)\n",
    "from sklearn.metrics import accuracy_score, precision_score, recall_score\n",
    "\n",
    "results['lr:'] = 'Acc: {:.2f}, Prec: {:.2f}, Recall: {:.2f}'.format(accuracy_score(y_test, lr_pred),\n",
    "                                                                    precision_score(y_test, lr_pred),\n",
    "                                                                    recall_score(y_test, lr_pred)) \n",
    "\n",
    "print(results)"
   ]
  },
  {
   "cell_type": "code",
   "execution_count": 16,
   "metadata": {
    "id": "c4Y69cbVn1wa"
   },
   "outputs": [],
   "source": [
    "# Setup the linear SVM pipeline wrapped in a cross-validation grid search\n",
    "# The pipeline should be of the form: \n",
    "# =================\n",
    "# One-hot encoding (from category_encoders NOT sklearn)\n",
    "# Standardization (sklearn StandardScalar)\n",
    "# Linear SVM (use sklearn SVC with a linear kernel)\n",
    "# ================\n",
    "# Make sure to set the cv equal to the same fold split as before\n",
    "\n",
    "from sklearn.svm import LinearSVC\n",
    "\n",
    "steps = [\n",
    "    ('onehot',OneHotEncoder(handle_unknown='indicator')),  # will automatically pick string columns (could have specified)\n",
    "    ('standardize', StandardScaler()), # will convert everything (can't specify which columns but all columns are fine)\n",
    "    ('model',LinearSVC(max_iter=30000) )\n",
    "]\n",
    "\n",
    "lsvm_pipe = Pipeline( steps = steps )\n",
    "\n",
    "param_grid = [{'model__C':[0.001,  0.1, 1, 100, 1000]}]\n",
    "\n",
    "lsvm = GridSearchCV( lsvm_pipe, param_grid, n_jobs = 5, cv = folds )"
   ]
  },
  {
   "cell_type": "code",
   "execution_count": 17,
   "metadata": {
    "colab": {
     "base_uri": "https://localhost:8080/"
    },
    "id": "u09A6yT-n1we",
    "outputId": "4e27b692-b298-40ff-a8ee-a73d95aad9b8"
   },
   "outputs": [
    {
     "name": "stdout",
     "output_type": "stream",
     "text": [
      "{'model__C': 1}, 0.8188888888888889\n"
     ]
    }
   ],
   "source": [
    "# Train the linear SVM classifier\n",
    "# Print the meta-parameters that were found to be best. \n",
    "# If they were at the boundary of your grid search then\n",
    "# we may not have found the best parameters. Keeping the\n",
    "# same number of parameters to explore (for speed) explore more\n",
    "# parameters.\n",
    "\n",
    "lsvm.fit(X_train,y_train)\n",
    "print('{}, {}'.format(lsvm.best_params_,lsvm.best_score_))"
   ]
  },
  {
   "cell_type": "code",
   "execution_count": null,
   "metadata": {
    "id": "YlDux_lR2cql"
   },
   "outputs": [],
   "source": [
    "# Was there a warning? Perhaps a \"ConvergenceWarning\"? Follow the suggestion and increase the number of iterations."
   ]
  },
  {
   "cell_type": "code",
   "execution_count": 18,
   "metadata": {
    "colab": {
     "base_uri": "https://localhost:8080/"
    },
    "id": "Woxsw-YXn1wg",
    "outputId": "97f8db28-fed4-4443-d73c-ae2fe23a5af1"
   },
   "outputs": [
    {
     "name": "stdout",
     "output_type": "stream",
     "text": [
      "     dc:| Acc: 0.76, Prec: 1.00, Recall: 0.00\n",
      "     lr:| Acc: 0.83, Prec: 0.73, Recall: 0.47\n",
      "   lsvm:| Acc: 0.84, Prec: 0.68, Recall: 0.64\n"
     ]
    }
   ],
   "source": [
    "# Test the linear SVM classifier\n",
    "# Print the accuracy, precision and recall (sensitivity). \n",
    "\n",
    "lsvm_pred = lsvm.predict(X_test)\n",
    "\n",
    "results['lsvm:'] = 'Acc: {:.2f}, Prec: {:.2f}, Recall: {:.2f}'.format(accuracy_score(y_test, lsvm_pred),\n",
    "                                                                    precision_score(y_test, lsvm_pred),\n",
    "                                                                    recall_score(y_test, lsvm_pred)) \n",
    "\n",
    "for k, v in results.items():\n",
    "  print('{0:>8}| {1}'.format(k,v))"
   ]
  },
  {
   "cell_type": "code",
   "execution_count": 19,
   "metadata": {
    "id": "bIIl-_ajn1wj"
   },
   "outputs": [],
   "source": [
    "# Setup the rbf SVM pipeline wrapped in a cross-validation grid search\n",
    "# The pipeline should be of the form: \n",
    "# =================\n",
    "# One-hot encoding (from category_encoders NOT sklearn)\n",
    "# Standardization (sklearn StandardScalar)\n",
    "# RBF SVM (use sklearn SVC with a rbf kernel)\n",
    "# ================\n",
    "## Make sure to set the cv equal to the same fold split as before\n",
    "\n",
    "from sklearn.svm import SVC\n",
    "\n",
    "steps = [\n",
    "    ('onehot',OneHotEncoder(handle_unknown='indicator')),  # will automatically pick string columns (could have specified)\n",
    "    ('standardize', StandardScaler()), # will convert everything (can't specify which columns but all columns are fine)\n",
    "    ('model',SVC(kernel='rbf') )\n",
    "]\n",
    "\n",
    "rbfsvm_pipe = Pipeline( steps = steps )\n",
    "\n",
    "param_grid = [{'model__C':[1000, 1100, 1250, 1350, 1500, 2500, 5000], 'model__gamma':[0.000001, 0.00001,0.00005,0.00008, 0.0001]}]\n",
    "\n",
    "rbfsvm = GridSearchCV( rbfsvm_pipe, param_grid, n_jobs = 6, cv = folds )"
   ]
  },
  {
   "cell_type": "code",
   "execution_count": 20,
   "metadata": {
    "colab": {
     "base_uri": "https://localhost:8080/"
    },
    "id": "7g7GCn9vn1wl",
    "outputId": "4200bce6-62df-4743-ef75-65cd42627e75"
   },
   "outputs": [
    {
     "name": "stdout",
     "output_type": "stream",
     "text": [
      "{'model__C': 1350, 'model__gamma': 5e-05}, 0.8377777777777777\n"
     ]
    }
   ],
   "source": [
    "# Train the RBF SVM classifier\n",
    "# Print the meta-parameters that were found to be best. \n",
    "# If they were at the boundary of your grid search then\n",
    "# we may not have found the best parameters. Keeping the\n",
    "# same number of parameters to explore (for speed) explore more\n",
    "# parameters.\n",
    "\n",
    "rbfsvm.fit(X_train,y_train)\n",
    "print('{}, {}'.format(rbfsvm.best_params_,rbfsvm.best_score_))"
   ]
  },
  {
   "cell_type": "code",
   "execution_count": 21,
   "metadata": {
    "colab": {
     "base_uri": "https://localhost:8080/"
    },
    "id": "KBVepHYfn1wn",
    "outputId": "00acc28e-bf71-4871-811c-4b907ec4dda8"
   },
   "outputs": [
    {
     "name": "stdout",
     "output_type": "stream",
     "text": [
      "     dc:| Acc: 0.76, Prec: 1.00, Recall: 0.00\n",
      "     lr:| Acc: 0.83, Prec: 0.73, Recall: 0.47\n",
      "   lsvm:| Acc: 0.84, Prec: 0.68, Recall: 0.64\n",
      " rbfsvm:| Acc: 0.84, Prec: 0.69, Recall: 0.61\n"
     ]
    }
   ],
   "source": [
    "# Test the RBF SVM classifier\n",
    "# Print the accuracy, precision and recall (sensitivity). \n",
    "\n",
    "rbfsvm_pred = rbfsvm.predict(X_test)\n",
    "\n",
    "results['rbfsvm:'] = 'Acc: {:.2f}, Prec: {:.2f}, Recall: {:.2f}'.format(accuracy_score(y_test, rbfsvm_pred),\n",
    "                                                                    precision_score(y_test, rbfsvm_pred),\n",
    "                                                                    recall_score(y_test, rbfsvm_pred)) \n",
    "\n",
    "for k, v in results.items():\n",
    "  print('{0:>8}| {1}'.format(k,v))"
   ]
  },
  {
   "cell_type": "markdown",
   "metadata": {
    "id": "-Iqi8qaNn1wp"
   },
   "source": [
    "# 3. Final training of best model"
   ]
  },
  {
   "cell_type": "code",
   "execution_count": 83,
   "metadata": {
    "colab": {
     "base_uri": "https://localhost:8080/"
    },
    "id": "omqVYS_Wn1wq",
    "outputId": "f87b0b22-449c-47a5-fef5-58845d67aca4"
   },
   "outputs": [
    {
     "name": "stderr",
     "output_type": "stream",
     "text": [
      "/usr/local/lib/python3.7/dist-packages/sklearn/model_selection/_search.py:972: UserWarning: One or more of the test scores are non-finite: [nan nan nan nan nan nan nan nan nan nan nan nan]\n",
      "  category=UserWarning,\n"
     ]
    },
    {
     "data": {
      "text/plain": [
       "GridSearchCV(cv=KFold(n_splits=3, random_state=0, shuffle=True),\n",
       "             estimator=Pipeline(steps=[('onehot',\n",
       "                                        OneHotEncoder(handle_unknown='ignore')),\n",
       "                                       ('standardize', StandardScaler()),\n",
       "                                       ('model', SVC())]),\n",
       "             n_jobs=5,\n",
       "             param_grid=[{'model__C': [1100, 1250, 1350, 1500],\n",
       "                          'model__gamma': [1e-05, 5e-05, 8e-05]}])"
      ]
     },
     "execution_count": 83,
     "metadata": {},
     "output_type": "execute_result"
    }
   ],
   "source": [
    "# Which performed the best? \n",
    "# Train the best performing model (logistic Regression, Linear SVM, RBF SVM) based on all our data.\n",
    "\n",
    "\n",
    "steps = [\n",
    "    ('onehot',OneHotEncoder(handle_unknown='indicator')),  # will automatically pick string columns (could have specified)\n",
    "    ('standardize', StandardScaler()), # will convert everything (can't specify which columns but all columns are fine)\n",
    "    ('model',SVC(kernel='rbf') )\n",
    "]\n",
    "\n",
    "rbfsvm = Pipeline( steps = steps )\n",
    "\n",
    "param_grid = [{'model__C':[1100, 1250, 1350, 1500], 'model__gamma':[0.00001,0.00005,0.00008]}]\n",
    "\n",
    "model_final = GridSearchCV( rbfsvm, param_grid, n_jobs = 5, cv = folds )\n",
    "\n",
    "model_final.fit(X,y)"
   ]
  },
  {
   "cell_type": "markdown",
   "metadata": {
    "id": "UID7UKsVn1ws"
   },
   "source": [
    "# 4. In the future: Checking model performance\n",
    "3 months later you decide to check how your model is performing. You manually collect ground truth labels for a new set of data:<br>[http://www.cs.nott.ac.uk/~pszgss/teaching/ML/Prac3/adult.test](http://www.cs.nott.ac.uk/~pszgss/teaching/ML/Prac3/adult.test)"
   ]
  },
  {
   "cell_type": "code",
   "execution_count": null,
   "metadata": {
    "colab": {
     "base_uri": "https://localhost:8080/",
     "height": 204
    },
    "id": "-m0VmDykn1wt",
    "outputId": "f0d8d36e-f685-49e9-c545-690c3694b0d4"
   },
   "outputs": [
    {
     "data": {
      "text/html": [
       "<div>\n",
       "<style scoped>\n",
       "    .dataframe tbody tr th:only-of-type {\n",
       "        vertical-align: middle;\n",
       "    }\n",
       "\n",
       "    .dataframe tbody tr th {\n",
       "        vertical-align: top;\n",
       "    }\n",
       "\n",
       "    .dataframe thead th {\n",
       "        text-align: right;\n",
       "    }\n",
       "</style>\n",
       "<table border=\"1\" class=\"dataframe\">\n",
       "  <thead>\n",
       "    <tr style=\"text-align: right;\">\n",
       "      <th></th>\n",
       "      <th>age</th>\n",
       "      <th>workclass</th>\n",
       "      <th>fnlwgt</th>\n",
       "      <th>education</th>\n",
       "      <th>education-num</th>\n",
       "      <th>matrial-status</th>\n",
       "      <th>occupation</th>\n",
       "      <th>relationship</th>\n",
       "      <th>race</th>\n",
       "      <th>sex</th>\n",
       "      <th>captial-gain</th>\n",
       "      <th>captial-loss</th>\n",
       "      <th>hours-per-week</th>\n",
       "      <th>native-counrty</th>\n",
       "      <th>salary</th>\n",
       "    </tr>\n",
       "  </thead>\n",
       "  <tbody>\n",
       "    <tr>\n",
       "      <th>0</th>\n",
       "      <td>25</td>\n",
       "      <td>Private</td>\n",
       "      <td>226802</td>\n",
       "      <td>11th</td>\n",
       "      <td>7</td>\n",
       "      <td>Never-married</td>\n",
       "      <td>Machine-op-inspct</td>\n",
       "      <td>Own-child</td>\n",
       "      <td>Black</td>\n",
       "      <td>Male</td>\n",
       "      <td>0</td>\n",
       "      <td>0</td>\n",
       "      <td>40</td>\n",
       "      <td>United-States</td>\n",
       "      <td>&lt;=50K</td>\n",
       "    </tr>\n",
       "    <tr>\n",
       "      <th>1</th>\n",
       "      <td>38</td>\n",
       "      <td>Private</td>\n",
       "      <td>89814</td>\n",
       "      <td>HS-grad</td>\n",
       "      <td>9</td>\n",
       "      <td>Married-civ-spouse</td>\n",
       "      <td>Farming-fishing</td>\n",
       "      <td>Husband</td>\n",
       "      <td>White</td>\n",
       "      <td>Male</td>\n",
       "      <td>0</td>\n",
       "      <td>0</td>\n",
       "      <td>50</td>\n",
       "      <td>United-States</td>\n",
       "      <td>&lt;=50K</td>\n",
       "    </tr>\n",
       "    <tr>\n",
       "      <th>2</th>\n",
       "      <td>28</td>\n",
       "      <td>Local-gov</td>\n",
       "      <td>336951</td>\n",
       "      <td>Assoc-acdm</td>\n",
       "      <td>12</td>\n",
       "      <td>Married-civ-spouse</td>\n",
       "      <td>Protective-serv</td>\n",
       "      <td>Husband</td>\n",
       "      <td>White</td>\n",
       "      <td>Male</td>\n",
       "      <td>0</td>\n",
       "      <td>0</td>\n",
       "      <td>40</td>\n",
       "      <td>United-States</td>\n",
       "      <td>&gt;50K</td>\n",
       "    </tr>\n",
       "    <tr>\n",
       "      <th>3</th>\n",
       "      <td>44</td>\n",
       "      <td>Private</td>\n",
       "      <td>160323</td>\n",
       "      <td>Some-college</td>\n",
       "      <td>10</td>\n",
       "      <td>Married-civ-spouse</td>\n",
       "      <td>Machine-op-inspct</td>\n",
       "      <td>Husband</td>\n",
       "      <td>Black</td>\n",
       "      <td>Male</td>\n",
       "      <td>7688</td>\n",
       "      <td>0</td>\n",
       "      <td>40</td>\n",
       "      <td>United-States</td>\n",
       "      <td>&gt;50K</td>\n",
       "    </tr>\n",
       "    <tr>\n",
       "      <th>4</th>\n",
       "      <td>18</td>\n",
       "      <td>?</td>\n",
       "      <td>103497</td>\n",
       "      <td>Some-college</td>\n",
       "      <td>10</td>\n",
       "      <td>Never-married</td>\n",
       "      <td>?</td>\n",
       "      <td>Own-child</td>\n",
       "      <td>White</td>\n",
       "      <td>Female</td>\n",
       "      <td>0</td>\n",
       "      <td>0</td>\n",
       "      <td>30</td>\n",
       "      <td>United-States</td>\n",
       "      <td>&lt;=50K</td>\n",
       "    </tr>\n",
       "  </tbody>\n",
       "</table>\n",
       "</div>"
      ],
      "text/plain": [
       "   age   workclass  fnlwgt      education  education-num       matrial-status  \\\n",
       "0   25     Private  226802           11th              7        Never-married   \n",
       "1   38     Private   89814        HS-grad              9   Married-civ-spouse   \n",
       "2   28   Local-gov  336951     Assoc-acdm             12   Married-civ-spouse   \n",
       "3   44     Private  160323   Some-college             10   Married-civ-spouse   \n",
       "4   18           ?  103497   Some-college             10        Never-married   \n",
       "\n",
       "           occupation relationship    race      sex  captial-gain  \\\n",
       "0   Machine-op-inspct    Own-child   Black     Male             0   \n",
       "1     Farming-fishing      Husband   White     Male             0   \n",
       "2     Protective-serv      Husband   White     Male             0   \n",
       "3   Machine-op-inspct      Husband   Black     Male          7688   \n",
       "4                   ?    Own-child   White   Female             0   \n",
       "\n",
       "   captial-loss  hours-per-week  native-counrty salary  \n",
       "0             0              40   United-States  <=50K  \n",
       "1             0              50   United-States  <=50K  \n",
       "2             0              40   United-States   >50K  \n",
       "3             0              40   United-States   >50K  \n",
       "4             0              30   United-States  <=50K  "
      ]
     },
     "execution_count": 25,
     "metadata": {
      "tags": []
     },
     "output_type": "execute_result"
    }
   ],
   "source": [
    "# Load the data, check it is correct\n",
    "data_test = pandas.read_csv('http://www.cs.nott.ac.uk/~pszgss/teaching/ML/Prac3/adult.test', skiprows = 1, names = ['age','workclass','fnlwgt','education','education-num','matrial-status','occupation','relationship','race','sex','captial-gain','captial-loss','hours-per-week','native-counrty','salary'])\n",
    "\n",
    "# Check the DataFrame, does it look correct?\n",
    "data_test.head(5)"
   ]
  },
  {
   "cell_type": "code",
   "execution_count": null,
   "metadata": {
    "id": "qDhx0teAn1ww"
   },
   "outputs": [],
   "source": [
    "# Define our input features and our output feature\n",
    "# Encode our labels\n",
    "\n",
    "X_new = data_test.drop('salary',axis = 1) # 0 rows, 1 cols\n",
    "y_new = data_test.salary\n",
    "                        \n",
    "y_new.replace(to_replace = '<=50K', value = 0, inplace = True)\n",
    "y_new.replace(to_replace = '>50K', value = 1, inplace = True)"
   ]
  },
  {
   "cell_type": "code",
   "execution_count": null,
   "metadata": {
    "colab": {
     "base_uri": "https://localhost:8080/",
     "height": 71
    },
    "id": "Xi6hwlU-n1wy",
    "outputId": "c7477ea6-27c9-49e2-e8af-459f3e8810d1"
   },
   "outputs": [
    {
     "name": "stderr",
     "output_type": "stream",
     "text": [
      "/usr/local/lib/python3.6/dist-packages/sklearn/pipeline.py:331: DataConversionWarning: Data with input dtype int64 were all converted to float64 by StandardScaler.\n",
      "  Xt = transform.transform(Xt)\n"
     ]
    },
    {
     "data": {
      "text/plain": [
       "'Acc: 0.85, Prec: 0.74, Recall: 0.59'"
      ]
     },
     "execution_count": 27,
     "metadata": {
      "tags": []
     },
     "output_type": "execute_result"
    }
   ],
   "source": [
    "# Make the predictions using the model and evaluate them\n",
    "\n",
    "results = model_final.predict(X_new)\n",
    "\n",
    "'Acc: {:.2f}, Prec: {:.2f}, Recall: {:.2f}'.format(accuracy_score(y_new, results),\n",
    "                                                                    precision_score(y_new, results),\n",
    "                                                                    recall_score(y_new, results)) \n",
    "\n"
   ]
  },
  {
   "cell_type": "markdown",
   "metadata": {
    "id": "p7oBIypqn1w0"
   },
   "source": [
    "# Well done. \n",
    "Still got time? Remember we only used a single split in our outter loop. Start fresh in a cell below and use a cross-validation outer loop to pick the best model. Then train using the full data set. Finally make your predictions on the separately provided \"Future\" set."
   ]
  }
 ],
 "metadata": {
  "colab": {
   "collapsed_sections": [],
   "name": "Lab3 Solution 2022.ipynb",
   "provenance": []
  },
  "kernelspec": {
   "display_name": "Python 3 (ipykernel)",
   "language": "python",
   "name": "python3"
  },
  "language_info": {
   "codemirror_mode": {
    "name": "ipython",
    "version": 3
   },
   "file_extension": ".py",
   "mimetype": "text/x-python",
   "name": "python",
   "nbconvert_exporter": "python",
   "pygments_lexer": "ipython3",
   "version": "3.9.13"
  }
 },
 "nbformat": 4,
 "nbformat_minor": 1
}
