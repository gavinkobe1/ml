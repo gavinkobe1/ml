{
 "cells": [
  {
   "cell_type": "markdown",
   "metadata": {
    "colab_type": "text",
    "id": "J7qyFeIxUnj0"
   },
   "source": [
    "![title](http://cs.nott.ac.uk/~pszgss/teaching/nlab.png)\n",
    "<p style=\"text-align: center;\">\n",
    "<big><big><big><b>Practical 9: Recurrent Neural Networks & Convolutional Neural Networks</b></big></big></big>\n",
    "</p>\n",
    "\n",
    "\n",
    "## Task 1\n",
    "For today's problem we are going to be considering next step univariate prediction.\n",
    "\n",
    "The data is a pre-normalized version of House Sales data across the US.\n",
    "\n",
    "\n",
    "## Requirements: \n",
    "If you haven't already installed tensorflow you will need to do this via pip3:\n",
    "\n",
    "`sudo pip3 install tensorflow`\n",
    "\n",
    "Keras is also required. Install it via:\n",
    "\n",
    "`sudo pip3 install keras`\n",
    "\n",
    "If you are using your own computer and have used Anaconda please use conda instead of pip3."
   ]
  },
  {
   "cell_type": "markdown",
   "metadata": {
    "colab_type": "text",
    "id": "WA_zNBNYCojy"
   },
   "source": [
    "First, let's ensure we import everything. Since we're using a Neural Network we are going to use a MinMaxScaler to scale our time series in addition to the imports we saw in the slides.\n",
    "\n",
    "While we're at it, let's also set the random seed to we can replicate what we're doing."
   ]
  },
  {
   "cell_type": "code",
   "execution_count": 1,
   "metadata": {
    "colab": {},
    "colab_type": "code",
    "id": "ag6mogXbKpec"
   },
   "outputs": [],
   "source": [
    "from sklearn.metrics import mean_absolute_error\n",
    "import numpy as np\n",
    "import pandas as pd\n",
    "import matplotlib.pyplot as plt\n",
    "from keras.models import Sequential\n",
    "from keras.layers import Dense\n",
    "from keras.layers import LSTM\n",
    "\n",
    "#-- fix the random seed for replication\n",
    "np.random.seed(0)\n"
   ]
  },
  {
   "cell_type": "markdown",
   "metadata": {
    "colab_type": "text",
    "id": "REy-hBkDDpQK"
   },
   "source": [
    "Next, the standard **read our data in...**. This is filled in for you with the correct URL to read the data from.\n",
    "\n",
    "Since it is a single time series we are going to first ensure it is ordered by date, and the delete the date column so we are just left with our univariate time series. \n",
    "\n",
    "**NOTE:** In practice we probably should check to ensure that we were not missing time points (how? read the pandas docs.)\n",
    "\n",
    "**What we are left with is a DataFrame (matrix) with a single column (remember this is a time series)**.\n",
    "\n",
    "We'll then convert the data into a 1D array for easier manipulation (optional).\n",
    "\n",
    "The time series is already normalized, so we will leave it as is. It is also already ordered (first row is the the oldest record)."
   ]
  },
  {
   "cell_type": "code",
   "execution_count": 2,
   "metadata": {
    "colab": {},
    "colab_type": "code",
    "id": "6mJyx3t2Kww6"
   },
   "outputs": [],
   "source": [
    "#-- Let's read our univariate timeseries in\n",
    "data = pd.read_csv('practical_11.csv', header = None).values\n",
    "\n",
    "# We're also going to use a history length of 7, so let's define this\n",
    "HISTORY = 7"
   ]
  },
  {
   "cell_type": "markdown",
   "metadata": {
    "colab_type": "text",
    "id": "f5Pe91oYGdql"
   },
   "source": [
    "Now your turn. Having listened to the lecture you should now know what to do.  Split the data into training and test set.\n",
    "\n",
    "**HINT:** Check your input data format. It is **not** the same as in the example on the slides. You need to adapt that example to this format. \n",
    "\n"
   ]
  },
  {
   "cell_type": "code",
   "execution_count": 3,
   "metadata": {
    "colab": {},
    "colab_type": "code",
    "id": "7EBVFH0nVI5K"
   },
   "outputs": [],
   "source": [
    "#-- create the test and training sets.\n",
    "#-- Train your model using all data except the last 33 points.\n",
    "#-- Evaluate your model by predicting (next step prediction) the last 33 points. \n",
    "#-- Do not retrain your model between predictions.\n",
    "#-- Recall your model is predicting the next time point given 7 lagged features.\n",
    "\n",
    "X = []\n",
    "y = []\n",
    "\n",
    "# for each ref date from the first possible to the last\n",
    "for ref_date in range(HISTORY,len(data)):\n",
    "    y.append( data[ref_date] )\n",
    "    X.append( data[(ref_date-HISTORY):ref_date] )"
   ]
  },
  {
   "cell_type": "code",
   "execution_count": 4,
   "metadata": {},
   "outputs": [],
   "source": [
    "## split the data into training and testing dataset\n",
    "X_train = X[0:76]\n",
    "X_test = X[76:]\n",
    "y_train = y[0:76]\n",
    "y_test = y[76:]"
   ]
  },
  {
   "cell_type": "markdown",
   "metadata": {
    "colab_type": "text",
    "id": "J4mG7cEXVKWK"
   },
   "source": [
    "Generate the testing and training sets. Ensure they are numpy arrays with the correct shape.\n",
    "\n",
    "**RECALL:** The shape for X_train should be (num_instances, history length, dimension per time point)"
   ]
  },
  {
   "cell_type": "code",
   "execution_count": 5,
   "metadata": {
    "colab": {},
    "colab_type": "code",
    "id": "nErn5ijCGSjA"
   },
   "outputs": [],
   "source": [
    "## transform the list format into array\n",
    "X_train = np.asarray(X_train)\n",
    "X_test = np.asarray(X_test)\n",
    "y_train = np.asarray(y_train)\n",
    "y_test = np.asarray(y_test)"
   ]
  },
  {
   "cell_type": "markdown",
   "metadata": {
    "colab_type": "text",
    "id": "R6IaATBLVnEG"
   },
   "source": [
    "Define the nework.\n",
    "\n",
    "HINT: \n",
    "\n",
    "Start with: model = Sequential()\n",
    "\n",
    "End with: model.compile(...)\n"
   ]
  },
  {
   "cell_type": "code",
   "execution_count": 6,
   "metadata": {
    "colab": {},
    "colab_type": "code",
    "id": "YLdqSSi47h5W"
   },
   "outputs": [],
   "source": [
    "\n",
    "#-- create and fit the LSTM network - first a sequential model (a linear stack of layers)\n",
    "model = Sequential()\n",
    "\n",
    "#-- next add an LSTM layer, specifying the hidden nodes and the input size \n",
    "NODES = 12\n",
    "model.add(LSTM(NODES, activation='elu', input_shape=(HISTORY,1)))\n",
    "\n",
    "#-- add an output layer, producing a single output prediction\n",
    "model.add(Dense(1,activation='elu'))\n",
    "\n",
    "# compile and then fit the model\n",
    "model.compile(loss='mean_squared_error', optimizer='adam')"
   ]
  },
  {
   "cell_type": "markdown",
   "metadata": {
    "colab_type": "text",
    "id": "kFwblGEwV9YW"
   },
   "source": [
    "Fit the model and make your prediction on your test set!!"
   ]
  },
  {
   "cell_type": "code",
   "execution_count": 7,
   "metadata": {
    "colab": {
     "base_uri": "https://localhost:8080/",
     "height": 1835
    },
    "colab_type": "code",
    "executionInfo": {
     "elapsed": 66111,
     "status": "ok",
     "timestamp": 1557762871662,
     "user": {
      "displayName": "Gavin Smith",
      "photoUrl": "https://lh6.googleusercontent.com/-MPfuP35KnlE/AAAAAAAAAAI/AAAAAAAAeyQ/4HBAUtTU0Fo/s64/photo.jpg",
      "userId": "15532507572227638867"
     },
     "user_tz": -60
    },
    "id": "yjbSAsZBV-DY",
    "outputId": "92fbc4bf-a167-4f86-b7a1-00e2b48e3bd6"
   },
   "outputs": [
    {
     "name": "stdout",
     "output_type": "stream",
     "text": [
      "Epoch 1/50\n",
      "76/76 - 2s - loss: 0.0066\n",
      "Epoch 2/50\n",
      "76/76 - 0s - loss: 0.0043\n",
      "Epoch 3/50\n",
      "76/76 - 0s - loss: 0.0040\n",
      "Epoch 4/50\n",
      "76/76 - 0s - loss: 0.0039\n",
      "Epoch 5/50\n",
      "76/76 - 0s - loss: 0.0037\n",
      "Epoch 6/50\n",
      "76/76 - 0s - loss: 0.0038\n",
      "Epoch 7/50\n",
      "76/76 - 0s - loss: 0.0035\n",
      "Epoch 8/50\n",
      "76/76 - 0s - loss: 0.0035\n",
      "Epoch 9/50\n",
      "76/76 - 0s - loss: 0.0034\n",
      "Epoch 10/50\n",
      "76/76 - 0s - loss: 0.0034\n",
      "Epoch 11/50\n",
      "76/76 - 0s - loss: 0.0032\n",
      "Epoch 12/50\n",
      "76/76 - 0s - loss: 0.0033\n",
      "Epoch 13/50\n",
      "76/76 - 0s - loss: 0.0034\n",
      "Epoch 14/50\n",
      "76/76 - 0s - loss: 0.0031\n",
      "Epoch 15/50\n",
      "76/76 - 0s - loss: 0.0031\n",
      "Epoch 16/50\n",
      "76/76 - 0s - loss: 0.0030\n",
      "Epoch 17/50\n",
      "76/76 - 0s - loss: 0.0029\n",
      "Epoch 18/50\n",
      "76/76 - 0s - loss: 0.0031\n",
      "Epoch 19/50\n",
      "76/76 - 0s - loss: 0.0028\n",
      "Epoch 20/50\n",
      "76/76 - 0s - loss: 0.0028\n",
      "Epoch 21/50\n",
      "76/76 - 0s - loss: 0.0027\n",
      "Epoch 22/50\n",
      "76/76 - 0s - loss: 0.0027\n",
      "Epoch 23/50\n",
      "76/76 - 0s - loss: 0.0025\n",
      "Epoch 24/50\n",
      "76/76 - 0s - loss: 0.0025\n",
      "Epoch 25/50\n",
      "76/76 - 0s - loss: 0.0025\n",
      "Epoch 26/50\n",
      "76/76 - 0s - loss: 0.0025\n",
      "Epoch 27/50\n",
      "76/76 - 0s - loss: 0.0023\n",
      "Epoch 28/50\n",
      "76/76 - 0s - loss: 0.0023\n",
      "Epoch 29/50\n",
      "76/76 - 0s - loss: 0.0022\n",
      "Epoch 30/50\n",
      "76/76 - 0s - loss: 0.0021\n",
      "Epoch 31/50\n",
      "76/76 - 0s - loss: 0.0021\n",
      "Epoch 32/50\n",
      "76/76 - 0s - loss: 0.0022\n",
      "Epoch 33/50\n",
      "76/76 - 0s - loss: 0.0020\n",
      "Epoch 34/50\n",
      "76/76 - 0s - loss: 0.0019\n",
      "Epoch 35/50\n",
      "76/76 - 0s - loss: 0.0019\n",
      "Epoch 36/50\n",
      "76/76 - 0s - loss: 0.0019\n",
      "Epoch 37/50\n",
      "76/76 - 0s - loss: 0.0017\n",
      "Epoch 38/50\n",
      "76/76 - 0s - loss: 0.0018\n",
      "Epoch 39/50\n",
      "76/76 - 0s - loss: 0.0017\n",
      "Epoch 40/50\n",
      "76/76 - 0s - loss: 0.0017\n",
      "Epoch 41/50\n",
      "76/76 - 0s - loss: 0.0016\n",
      "Epoch 42/50\n",
      "76/76 - 0s - loss: 0.0015\n",
      "Epoch 43/50\n",
      "76/76 - 0s - loss: 0.0015\n",
      "Epoch 44/50\n",
      "76/76 - 0s - loss: 0.0016\n",
      "Epoch 45/50\n",
      "76/76 - 0s - loss: 0.0015\n",
      "Epoch 46/50\n",
      "76/76 - 0s - loss: 0.0015\n",
      "Epoch 47/50\n",
      "76/76 - 0s - loss: 0.0014\n",
      "Epoch 48/50\n",
      "76/76 - 0s - loss: 0.0015\n",
      "Epoch 49/50\n",
      "76/76 - 0s - loss: 0.0014\n",
      "Epoch 50/50\n",
      "76/76 - 0s - loss: 0.0013\n"
     ]
    },
    {
     "data": {
      "text/plain": [
       "<tensorflow.python.keras.callbacks.History at 0x7fd83c5b2a60>"
      ]
     },
     "execution_count": 7,
     "metadata": {},
     "output_type": "execute_result"
    }
   ],
   "source": [
    "# -- fit the model\n",
    "model.fit(X_train, y_train, epochs=50, batch_size=1, verbose=2)"
   ]
  },
  {
   "cell_type": "code",
   "execution_count": 8,
   "metadata": {
    "colab": {},
    "colab_type": "code",
    "id": "V7BD79N2woQW"
   },
   "outputs": [],
   "source": [
    "#-- make predictions\n",
    "test_predict = model.predict(X_test)"
   ]
  },
  {
   "cell_type": "markdown",
   "metadata": {
    "colab_type": "text",
    "id": "tD2ZNekiWE9C"
   },
   "source": [
    "Evaluate your predictions"
   ]
  },
  {
   "cell_type": "code",
   "execution_count": 9,
   "metadata": {
    "colab": {
     "base_uri": "https://localhost:8080/",
     "height": 35
    },
    "colab_type": "code",
    "executionInfo": {
     "elapsed": 61995,
     "status": "ok",
     "timestamp": 1557762871668,
     "user": {
      "displayName": "Gavin Smith",
      "photoUrl": "https://lh6.googleusercontent.com/-MPfuP35KnlE/AAAAAAAAAAI/AAAAAAAAeyQ/4HBAUtTU0Fo/s64/photo.jpg",
      "userId": "15532507572227638867"
     },
     "user_tz": -60
    },
    "id": "3R0AIvDrWKsE",
    "outputId": "6443b6e8-90e5-401b-bd0a-77e8d97508e4"
   },
   "outputs": [
    {
     "name": "stdout",
     "output_type": "stream",
     "text": [
      "Test Error: 0.06202250434057942\n"
     ]
    }
   ],
   "source": [
    "t_e = mean_absolute_error(y_test, test_predict)\n",
    "print('Test Error: {}'.format(t_e))"
   ]
  },
  {
   "cell_type": "markdown",
   "metadata": {
    "colab_type": "text",
    "id": "6Lt1oh5SXTg7"
   },
   "source": [
    "Now let's plot the predictions. I've included the code to plot the data if you used the same variables as me when I implemented the solution. You may need to change it to fit your variables. "
   ]
  },
  {
   "cell_type": "code",
   "execution_count": 10,
   "metadata": {
    "colab": {
     "base_uri": "https://localhost:8080/",
     "height": 269
    },
    "colab_type": "code",
    "executionInfo": {
     "elapsed": 60468,
     "status": "ok",
     "timestamp": 1557762871669,
     "user": {
      "displayName": "Gavin Smith",
      "photoUrl": "https://lh6.googleusercontent.com/-MPfuP35KnlE/AAAAAAAAAAI/AAAAAAAAeyQ/4HBAUtTU0Fo/s64/photo.jpg",
      "userId": "15532507572227638867"
     },
     "user_tz": -60
    },
    "id": "gWlroJGRtwBh",
    "outputId": "fc836128-f80e-410a-d348-b96ccb3f4996"
   },
   "outputs": [
    {
     "data": {
      "image/png": "[encoded data removed]",
      "text/plain": [
       "<Figure size 432x288 with 1 Axes>"
      ]
     },
     "metadata": {
      "needs_background": "light"
     },
     "output_type": "display_data"
    }
   ],
   "source": [
    "# First lets also predict the training section so we can plot that too\n",
    "train_predict = model.predict(X_train)\n",
    "\n",
    "plt.plot(data)\n",
    "\n",
    "# plot the fit of the model to the training set\n",
    "lead = [[np.nan]] * (HISTORY)\n",
    "train_predict = np.concatenate((lead, train_predict), axis=0)\n",
    "plt.plot(train_predict, color='g')\n",
    "\n",
    "#-- plot the fit of the model to the test set\n",
    "lead = [[np.nan]] * (76 + HISTORY)\n",
    "test_predict = np.concatenate((lead, test_predict), axis=0)\n",
    "plt.plot(test_predict, color='r')\n",
    "\n",
    "#-- show the results on screen\n",
    "plt.show()"
   ]
  },
  {
   "cell_type": "markdown",
   "metadata": {},
   "source": [
    "## Task2: Image Classification With CNN"
   ]
  },
  {
   "cell_type": "markdown",
   "metadata": {},
   "source": [
    "The MNIST database of handwritten digits is a collection of labeled images that has been used to evaluate machine learning techniques since the '90's. The core application of the MNIST data is to train computer vision systems to recognize handwritten text. The post office, for example, is a major user of such systems---addresses on letters and packages are all photographed, read, and routed digitally, with only a few ambiguous cases verified by a human.\n",
    "\n",
    "The MNIST data set has also become a reliable benchmark for learning methods. It's small, but not tiny, and the data dimensionality (28x28 pixels) is big enough to cause some \"curse of dimensionality\" issues. Also, the problem is highly non-linear, meaning a linear classification methods (like linear regression, but for predicting discete categories) don't perform so well on the raw data. The MNIST website reports an extensive list of results obtained by different machine learning models, including neural nets, SVM, nearest neighbors, and others.\n",
    "\n",
    "The data consists of 60,000 training images and 10,000 test images. Each image is a 28x28 pixel, grayscale picture of a digit written either by a highschool student or an employee of the US Census Bureau. The images have all been preprocessed to be clean and regular: only one digit appears in each image, and it appears directly in the center of the image.\n",
    "\n",
    "The goal of the benchmark is to fit a model to the training set, and then use that model to predict which digit is in each of the test images. The best results achieve a classification error rate of less than half of one percent. This is often described as the \"human error rate,\" because if you ask people to classify the images, they will also find about 0.5% of them to be comepletely inscutable."
   ]
  },
  {
   "cell_type": "code",
   "execution_count": 11,
   "metadata": {},
   "outputs": [],
   "source": [
    "## loading the data with format .mat using io.loadmat\n",
    "import scipy.io as io\n",
    "mnist=io.loadmat('mnist-original.mat')"
   ]
  },
  {
   "cell_type": "code",
   "execution_count": 12,
   "metadata": {},
   "outputs": [
    {
     "data": {
      "text/plain": [
       "{'__header__': b'MATLAB 5.0 MAT-file Platform: posix, Created on: Sun Mar 30 03:19:02 2014',\n",
       " '__version__': '1.0',\n",
       " '__globals__': [],\n",
       " 'mldata_descr_ordering': array([[array(['label'], dtype='<U5'), array(['data'], dtype='<U4')]],\n",
       "       dtype=object),\n",
       " 'data': array([[0, 0, 0, ..., 0, 0, 0],\n",
       "        [0, 0, 0, ..., 0, 0, 0],\n",
       "        [0, 0, 0, ..., 0, 0, 0],\n",
       "        ...,\n",
       "        [0, 0, 0, ..., 0, 0, 0],\n",
       "        [0, 0, 0, ..., 0, 0, 0],\n",
       "        [0, 0, 0, ..., 0, 0, 0]], dtype=uint8),\n",
       " 'label': array([[0., 0., 0., ..., 9., 9., 9.]])}"
      ]
     },
     "execution_count": 12,
     "metadata": {},
     "output_type": "execute_result"
    }
   ],
   "source": [
    "## mnist is a dictionary, it indicate several info. the main part of data were stored in mnist['data'] and mnist['label']\n",
    "## mnist['data'] are a set of vetors between 0 to 1. They are (28 pixels * 28pixels) size images. \n",
    "## The images are handwrittings digits, i.e., 0,1,2,3,...9\n",
    "mnist"
   ]
  },
  {
   "cell_type": "code",
   "execution_count": 13,
   "metadata": {},
   "outputs": [
    {
     "data": {
      "text/plain": [
       "(784, 70000)"
      ]
     },
     "execution_count": 13,
     "metadata": {},
     "output_type": "execute_result"
    }
   ],
   "source": [
    "mnist['data'].shape\n",
    "\n",
    "## looking at the shape the mnist data, we can see there 70000 images in this data dateset\n",
    "## 784=28*28, the 1D vector is the flattened 2D image pixels."
   ]
  },
  {
   "cell_type": "code",
   "execution_count": 14,
   "metadata": {},
   "outputs": [
    {
     "data": {
      "image/png": "[encoded data removed]",
      "text/plain": [
       "<Figure size 432x288 with 1 Axes>"
      ]
     },
     "metadata": {
      "needs_background": "light"
     },
     "output_type": "display_data"
    }
   ],
   "source": [
    "## random select a data point from the dataset, transform the 1D vector into (28,28) 2D matrix\n",
    "img=mnist['data'].transpose().reshape(70000,28,28)\n",
    "label=mnist['label'].transpose()\n",
    "\n",
    "## plot the matrix to show the digits. \n",
    "img_select=img[56000]\n",
    "plt.imshow(img_select.reshape(28, 28), cmap=\"Greys\")\n",
    "plt.show()"
   ]
  },
  {
   "cell_type": "code",
   "execution_count": 15,
   "metadata": {},
   "outputs": [],
   "source": [
    "## split the data into train and test dataset\n",
    "X_train, X_test, y_train, y_test = img[:60000], img[60000:], label[:60000],label[60000:]"
   ]
  },
  {
   "cell_type": "code",
   "execution_count": 16,
   "metadata": {},
   "outputs": [],
   "source": [
    "## the orignal dataset is stored in ascending order, so we need to permutate the data points order.\n",
    "shuffle_index =  np.random.permutation(60000)\n",
    "X_train = X_train[shuffle_index]\n",
    "y_train = y_train[shuffle_index]"
   ]
  },
  {
   "cell_type": "markdown",
   "metadata": {},
   "source": [
    "Before feeding the data into the CNN, we'd better scale the data into 0 to 1. Because they are already fitted, we will skip the normalization step."
   ]
  },
  {
   "cell_type": "markdown",
   "metadata": {},
   "source": [
    "## Build the model with basic dence layer\n",
    "\n",
    "Building the neural network requires configuring the layers of the model, then compiling the model."
   ]
  },
  {
   "cell_type": "markdown",
   "metadata": {},
   "source": [
    "### Set up the layers\n",
    "\n",
    "The basic building block of a neural network is the *layer*. Layers extract representations from the data fed into them. Hopefully, these representations are meaningful for the problem at hand.\n",
    "\n"
   ]
  },
  {
   "cell_type": "code",
   "execution_count": 17,
   "metadata": {},
   "outputs": [],
   "source": [
    "## We use the Flatten to transform the 2D matrix into 1D vector to fit the dense layer\n",
    "\n",
    "from keras.layers import Dense,Flatten\n",
    "\n",
    "model = Sequential([\n",
    "    Flatten(input_shape=(28, 28)),\n",
    "    Dense(128, activation='relu'),\n",
    "    Dense(10)\n",
    "])"
   ]
  },
  {
   "cell_type": "code",
   "execution_count": 18,
   "metadata": {},
   "outputs": [],
   "source": [
    "## compile the model\n",
    "from keras.losses import SparseCategoricalCrossentropy\n",
    "model.compile(optimizer='adam',\n",
    "              loss=SparseCategoricalCrossentropy(from_logits=True),\n",
    "              metrics=['accuracy'])"
   ]
  },
  {
   "cell_type": "code",
   "execution_count": 19,
   "metadata": {},
   "outputs": [
    {
     "name": "stdout",
     "output_type": "stream",
     "text": [
      "Epoch 1/10\n",
      "1875/1875 [==============================] - 6s 3ms/step - loss: 7.1455 - accuracy: 0.8235\n",
      "Epoch 2/10\n",
      "1875/1875 [==============================] - 4s 2ms/step - loss: 0.3972 - accuracy: 0.9037\n",
      "Epoch 3/10\n",
      "1875/1875 [==============================] - 4s 2ms/step - loss: 0.2730 - accuracy: 0.9284\n",
      "Epoch 4/10\n",
      "1875/1875 [==============================] - 4s 2ms/step - loss: 0.2551 - accuracy: 0.9338\n",
      "Epoch 5/10\n",
      "1875/1875 [==============================] - 4s 2ms/step - loss: 0.2310 - accuracy: 0.9401\n",
      "Epoch 6/10\n",
      "1875/1875 [==============================] - 6s 3ms/step - loss: 0.2038 - accuracy: 0.9478\n",
      "Epoch 7/10\n",
      "1875/1875 [==============================] - 5s 3ms/step - loss: 0.2043 - accuracy: 0.9479\n",
      "Epoch 8/10\n",
      "1875/1875 [==============================] - 5s 2ms/step - loss: 0.1969 - accuracy: 0.9523\n",
      "Epoch 9/10\n",
      "1875/1875 [==============================] - 4s 2ms/step - loss: 0.1790 - accuracy: 0.9548\n",
      "Epoch 10/10\n",
      "1875/1875 [==============================] - 4s 2ms/step - loss: 0.1712 - accuracy: 0.9568\n"
     ]
    },
    {
     "data": {
      "text/plain": [
       "<tensorflow.python.keras.callbacks.History at 0x7fd822b309a0>"
      ]
     },
     "execution_count": 19,
     "metadata": {},
     "output_type": "execute_result"
    }
   ],
   "source": [
    "## train the model\n",
    "model.fit(X_train, y_train, epochs=10)"
   ]
  },
  {
   "cell_type": "code",
   "execution_count": 20,
   "metadata": {},
   "outputs": [
    {
     "name": "stdout",
     "output_type": "stream",
     "text": [
      "313/313 - 0s - loss: 0.2584 - accuracy: 0.9481\n",
      "Test accuracy: 0.9480999708175659\n"
     ]
    }
   ],
   "source": [
    "## evalute the accuray\n",
    "test_loss, test_acc = model.evaluate(X_test,  y_test, verbose=2)\n",
    "\n",
    "print('Test accuracy:', test_acc)"
   ]
  },
  {
   "cell_type": "markdown",
   "metadata": {},
   "source": [
    "# Build the CNN model\n",
    "\n",
    "The model consists of two convolution blocks with a max pool layer in each of them.\n",
    "you can use\n",
    "\n",
    "`Conv2D(filters=16,kernel_size=(3,3),strides=(1,1), input_shape=(28,28,1), padding='same', activation='relu')`\n",
    "\n",
    "and \n",
    "\n",
    "`MaxPooling2D()`\n",
    "\n",
    "think about the what's the meaning of parameters here"
   ]
  },
  {
   "cell_type": "code",
   "execution_count": 21,
   "metadata": {},
   "outputs": [],
   "source": [
    "num_classes = 10\n",
    "from keras.layers import Conv2D, Flatten, MaxPooling2D\n",
    "model = Sequential([\n",
    "  Conv2D(filters=16,kernel_size=(3,3),strides=(1,1), input_shape=(28,28,1), padding='same', activation='relu'),\n",
    "  MaxPooling2D(),\n",
    "  Conv2D(32,kernel_size=(3,3), padding='same', activation='relu'),\n",
    "  MaxPooling2D(),\n",
    "  Flatten(),\n",
    "  Dense(num_classes)\n",
    "])"
   ]
  },
  {
   "cell_type": "markdown",
   "metadata": {},
   "source": [
    "## Model summary\n",
    "\n",
    "View all the layers of the network using the model's `summary` method:"
   ]
  },
  {
   "cell_type": "code",
   "execution_count": 22,
   "metadata": {
    "scrolled": true
   },
   "outputs": [
    {
     "name": "stdout",
     "output_type": "stream",
     "text": [
      "Model: \"sequential_2\"\n",
      "_________________________________________________________________\n",
      "Layer (type)                 Output Shape              Param #   \n",
      "=================================================================\n",
      "conv2d (Conv2D)              (None, 28, 28, 16)        160       \n",
      "_________________________________________________________________\n",
      "max_pooling2d (MaxPooling2D) (None, 14, 14, 16)        0         \n",
      "_________________________________________________________________\n",
      "conv2d_1 (Conv2D)            (None, 14, 14, 32)        4640      \n",
      "_________________________________________________________________\n",
      "max_pooling2d_1 (MaxPooling2 (None, 7, 7, 32)          0         \n",
      "_________________________________________________________________\n",
      "flatten_1 (Flatten)          (None, 1568)              0         \n",
      "_________________________________________________________________\n",
      "dense_3 (Dense)              (None, 10)                15690     \n",
      "=================================================================\n",
      "Total params: 20,490\n",
      "Trainable params: 20,490\n",
      "Non-trainable params: 0\n",
      "_________________________________________________________________\n"
     ]
    }
   ],
   "source": [
    "model.summary()"
   ]
  },
  {
   "cell_type": "code",
   "execution_count": 23,
   "metadata": {},
   "outputs": [],
   "source": [
    "## compile the data\n",
    "model.compile(optimizer='adam',\n",
    "              loss=SparseCategoricalCrossentropy(from_logits=True),\n",
    "              metrics=['accuracy'])"
   ]
  },
  {
   "cell_type": "code",
   "execution_count": 24,
   "metadata": {},
   "outputs": [],
   "source": [
    "## add new dimension at the end of X_train and X_test, because the default the input dimension should be 4\n",
    "## the meaning of each dimension is [batch_size, image_height, image_weight, image_channel]\n",
    "## for grayscale channel, it only contains 1 channel. For RGB colorful pictures, it will contains 3 channels.\n",
    "X_train_new=X_train[:,:,:,None].astype('float32')\n",
    "X_test_new=X_test[:,:,:,None].astype('float32')"
   ]
  },
  {
   "cell_type": "code",
   "execution_count": null,
   "metadata": {},
   "outputs": [
    {
     "name": "stdout",
     "output_type": "stream",
     "text": [
      "Epoch 1/8\n",
      "2000/2000 [==============================] - 35s 17ms/step - loss: 1.4896 - accuracy: 0.8739 - val_loss: 0.0785 - val_accuracy: 0.9748\n",
      "Epoch 2/8\n",
      "2000/2000 [==============================] - 37s 18ms/step - loss: 0.0787 - accuracy: 0.9762 - val_loss: 0.0693 - val_accuracy: 0.9794\n",
      "Epoch 3/8\n",
      "2000/2000 [==============================] - 27s 13ms/step - loss: 0.0597 - accuracy: 0.9817 - val_loss: 0.0860 - val_accuracy: 0.9740\n",
      "Epoch 4/8\n",
      "2000/2000 [==============================] - 33s 16ms/step - loss: 0.0472 - accuracy: 0.9857 - val_loss: 0.0668 - val_accuracy: 0.9802\n",
      "Epoch 5/8\n",
      "2000/2000 [==============================] - 32s 16ms/step - loss: 0.0436 - accuracy: 0.9863 - val_loss: 0.0548 - val_accuracy: 0.9846\n",
      "Epoch 6/8\n",
      "1961/2000 [============================>.] - ETA: 0s - loss: 0.0367 - accuracy: 0.9885"
     ]
    }
   ],
   "source": [
    "epochs=8\n",
    "\n",
    "history = model.fit(X_train_new,y_train,\n",
    "    batch_size=30,\n",
    "    validation_data=(X_test_new,y_test),\n",
    "    epochs=epochs\n",
    ")"
   ]
  },
  {
   "cell_type": "code",
   "execution_count": 51,
   "metadata": {},
   "outputs": [
    {
     "name": "stdout",
     "output_type": "stream",
     "text": [
      "313/313 - 1s - loss: 0.0661 - accuracy: 0.9841\n",
      "Test accuracy: 0.9840999841690063\n"
     ]
    }
   ],
   "source": [
    "## evalute the accuray\n",
    "test_loss, test_acc = model.evaluate(X_test_new,  y_test, verbose=2)\n",
    "print('Test accuracy:', test_acc)"
   ]
  },
  {
   "cell_type": "code",
   "execution_count": 53,
   "metadata": {},
   "outputs": [
    {
     "data": {
      "text/plain": [
       "<tensorflow.python.keras.callbacks.History at 0x14864be80>"
      ]
     },
     "execution_count": 53,
     "metadata": {},
     "output_type": "execute_result"
    }
   ],
   "source": [
    "history"
   ]
  },
  {
   "cell_type": "code",
   "execution_count": 56,
   "metadata": {},
   "outputs": [
    {
     "data": {
      "text/plain": [
       "(0.0, 1.1)"
      ]
     },
     "execution_count": 56,
     "metadata": {},
     "output_type": "execute_result"
    },
    {
     "data": {
      "image/png": "[encoded data removed]",
      "text/plain": [
       "<Figure size 576x360 with 1 Axes>"
      ]
     },
     "metadata": {
      "needs_background": "light"
     },
     "output_type": "display_data"
    }
   ],
   "source": [
    "## plot your model\n",
    "pd.DataFrame(history.history).plot(figsize=(8, 5))\n",
    "plt.gca().set_ylim(0, 1.1)"
   ]
  },
  {
   "cell_type": "code",
   "execution_count": null,
   "metadata": {},
   "outputs": [],
   "source": []
  }
 ],
 "metadata": {
  "accelerator": "GPU",
  "colab": {
   "collapsed_sections": [],
   "name": "ML: Practical 11 [Soln].ipynb",
   "provenance": []
  },
  "kernelspec": {
   "display_name": "Python 3",
   "language": "python",
   "name": "python3"
  },
  "language_info": {
   "codemirror_mode": {
    "name": "ipython",
    "version": 3
   },
   "file_extension": ".py",
   "mimetype": "text/x-python",
   "name": "python",
   "nbconvert_exporter": "python",
   "pygments_lexer": "ipython3",
   "version": "3.8.2"
  }
 },
 "nbformat": 4,
 "nbformat_minor": 1
}
