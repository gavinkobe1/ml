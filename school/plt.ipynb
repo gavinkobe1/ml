{
 "cells": [
  {
   "cell_type": "markdown",
   "metadata": {},
   "source": [
    "\n",
    "## Analytics Specializations & Applications - Week 2\n",
    "\n",
    "# Charge-off Analysis - Captial One Example Case Study\n",
    "----------\n",
    "\n",
    "In this task we are going to \"upgrade\" the last tutorial we did in FBA. \n",
    "\n",
    "Recall the task - when Capital One's customers come in financial difficulties, they risk having to \"write-off\" their debt (losing the company money). Now, that fall into financial problems does not usually happen at once, and Capital One try to predict that it might happen, so that they can intervene. \n",
    "\n",
    "There are several indicators which can be used to anticipate the final outcome, such as late payments, calls to the customer services, enquiries about the products, a different browsing pattern on the web or mobile app. By using these features in our analysis, it can be possible to prevent, or at least guide the process and provide a better service for the customer as well as reduced risks for companies like Capital one.\n",
    "\n",
    "## Scenario:\n",
    "So we are going to first refresh on this exercise, to re-friend you with sklearn, and python (which we will continue to use for the whole of the ASA module!). We are again going to predict defaulting, but the objective is very much to cement the knowledge you should already have in the locker with a real world application, before we move on to pastures new in the coming weeks!\n",
    "\n",
    "As such you need to ensure that you have a full grasp of this exercise before next week. Credit Analysis was selected to start us off on the course given that it is a specialization where they predominantly apply concepts we've already learned - however, as you may have noted, they are rapidly branching out to media and text mining analytics, which are coming up soon.\n",
    "\n",
    "Ok, so the same dataset we used before containing some historical features for a range of customers is availabe on the ASA moodle site (credit_card_history.csv), and we will unpick those in order to produce a model that can help the credit agency recognize that the \"charge-off\" might be ahead for any particular customer.\n",
    "\n",
    "### Task 1: Preparing the data\n",
    "First we need to examine and prepare our dataset (\"credit_card_history.csv\") which has been provided in the same folder as this case study. I have left in the code to do this below in several instances, so you can fast track through it - but ensure that you *understand* what it is doing (consider it revision!).\n",
    "\n",
    "<span style=\"font-weight:bold; color:green;\">&rarr; Your first task is to complete the script below, load in the dataset and put the input features and output features (the last field in the file) into their own variables, X and Y respectively:<span/>\n",
    "\n",
    "Refer to previous examples from FBA if needed... but better still look up the pandas read_csv documentation on Google."
   ]
  },
  {
   "cell_type": "code",
   "execution_count": 18,
   "metadata": {},
   "outputs": [
    {
     "name": "stdout",
     "output_type": "stream",
     "text": [
      "Number of Datapoints: 30000\n",
      "Number of Input Features: 23\n"
     ]
    }
   ],
   "source": [
    "import pandas\n",
    "\n",
    "#-- load in the data\n",
    "filename = \"credit_card_history.csv\"\n",
    "data = pandas.read_csv(filename)\n",
    "\n",
    "#-- let's have a look at the features\n",
    "X = data[data.columns[:-1]]\n",
    "Y = data[data.columns[-1]]\n",
    "\n",
    "print(\"Number of Datapoints:\", X.shape[0])\n",
    "print(\"Number of Input Features:\", X.shape[1])\n"
   ]
  },
  {
   "cell_type": "markdown",
   "metadata": {},
   "source": [
    "### Task 2a:  Examining the credit card data\n",
    "Great. As before you should see we have 23 features and 30000 datapoints (i.e. histories of 30000 customers). Use your knowledge of pandas dataframes to print out the head of the file - the first 5 lines should do:"
   ]
  },
  {
   "cell_type": "code",
   "execution_count": 19,
   "metadata": {},
   "outputs": [
    {
     "name": "stdout",
     "output_type": "stream",
     "text": [
      "   LIMIT  SEX  EDUCATION  MARRIAGE  AGE  STATUS_JAN  STATUS_FEB  STATUS_MAR  \\\n",
      "0    500    2          2         1   24           2           2          -1   \n",
      "1   2900    2          2         2   26          -1           2           0   \n",
      "2   1700    1          2         2   30           1           2           2   \n",
      "3    500    1          1         2   24           0           0           2   \n",
      "4   2900    2          2         1   39          -1          -1          -1   \n",
      "\n",
      "   STATUS_APR  STATUS_MAY  ...  BILL_APR  BILL_MAY  BILL_JUN  PAY_JAN  \\\n",
      "0          -1          -2  ...     0.000     0.000     0.000    0.000   \n",
      "1           0           0  ...    78.528    82.920    78.264    0.000   \n",
      "2           0           0  ...  1602.768   867.288   885.456   76.800   \n",
      "3           2           2  ...   440.112   429.720   458.496   76.800   \n",
      "4          -1          -1  ...     0.000    15.168     7.584    7.584   \n",
      "\n",
      "   PAY_FEB  PAY_MAR  PAY_APR  PAY_MAY  PAY_JUN  DEFAULTED  \n",
      "0   16.536      0.0    0.000    0.000      0.0          1  \n",
      "1   24.000     24.0   24.000    0.000     48.0          1  \n",
      "2    0.000     72.0   72.000   36.000      0.0          1  \n",
      "3    0.000     36.0    0.000   39.600      0.0          1  \n",
      "4    7.584      0.0   15.168    7.584      0.0          1  \n",
      "\n",
      "[5 rows x 24 columns]\n"
     ]
    }
   ],
   "source": [
    "#-- this you should definitely remember how to do!\n",
    "print(data.head(5))"
   ]
  },
  {
   "cell_type": "markdown",
   "metadata": {},
   "source": [
    "You'll have noticed that the target class \"DEFAULTED\" is a binary variable and already in the format we need, which is great. The rest of the schema is as follows:"
   ]
  },
  {
   "cell_type": "code",
   "execution_count": 20,
   "metadata": {},
   "outputs": [],
   "source": [
    "\n",
    "#    ----------------------------------------------------------------------------------------\n",
    "#    Name                 Description        \n",
    "#    -------------------- -------------------------------------------------------------------\n",
    "#    LIMIT                Credit limit available to the customer (£): \n",
    "#                        \n",
    "#    SEX                  Gender (1 = male; 2 = female)\n",
    "#   \n",
    "#    EDUCATION            Education (1 = postgrad; 2 = undergrad; 3 = high school; 4 = others)\n",
    "#   \n",
    "#    MARRIAGE             Marital status (1 = married; 2 = single; 3 = others)\n",
    "#   \n",
    "#    AGE                  Age (years)\n",
    "#   \n",
    "#    STATUS_[]            How far or ahead the credit card holder was on their payments for\n",
    "#                         each month from JAN to JUN (giving us 5 fields here). The measurement \n",
    "#                          is in months, as follows:\n",
    "#                         -1 = one month ahead of payments\n",
    "#                         0 = up to date with payments\n",
    "#                         1 = one month behind on payments\n",
    "#                         2 = two months behind on payments\n",
    "#                         ...\n",
    "#                        \n",
    "#    BILL_[]              Amount on the credit card statement for the specified month, from\n",
    "#                         JAN to JUN (£), so again 5 fields.\n",
    "#                         \n",
    "#    PAY_[]               Amount the credit card holder paid that month, from JAN to JUN (£).\n",
    "#\n",
    "#    DEFAULTED            Whether the credit card user then went on to default the next month\n",
    "#                         (0 = no, 1 = yes)\n",
    "#    ----------------------------------------------------------------------------------------\n"
   ]
  },
  {
   "cell_type": "markdown",
   "metadata": {},
   "source": [
    "I've left this as a comment, as it's always useful to have the description of elements in your code for future reference. I recommend you do this yourself too, as it saves a lot of looking up schemas in other documents.\n",
    "\n",
    "\n",
    "### Task 2b: Tidying up the different feature categories\n",
    "As with the FICO categorizations for credit analytics that were mentioned in the lecture, these fields fit into different categories. The first 5 fields let's call \"demographics\" (despite including \"limit\" too), then fields 5 to 10 the \"statuses\" for the last five months available, fields 11-16 are the \"bills\" for each of the last 5 months, and then finally we have payments. \n",
    " \n",
    "<span style=\"font-weight:bold; color:green;\">&rarr; Separate some field names into their own lists - this will be useful later:<span/>\n"
   ]
  },
  {
   "cell_type": "code",
   "execution_count": 21,
   "metadata": {},
   "outputs": [
    {
     "name": "stdout",
     "output_type": "stream",
     "text": [
      "   LIMIT  SEX  EDUCATION  MARRIAGE  AGE\n",
      "0    500    2          2         1   24\n",
      "1   2900    2          2         2   26\n",
      "2   1700    1          2         2   30\n",
      "3    500    1          1         2   24\n",
      "4   2900    2          2         1   39\n",
      "   STATUS_JAN  STATUS_FEB  STATUS_MAR  STATUS_APR  STATUS_MAY  STATUS_JUN\n",
      "0           2           2          -1          -1          -2          -2\n",
      "1          -1           2           0           0           0           2\n",
      "2           1           2           2           0           0           2\n",
      "3           0           0           2           2           2           2\n",
      "4          -1          -1          -1          -1          -1          -1\n",
      "5           2           0           0           2           2           2\n",
      "6          -2          -2          -2          -2          -2          -2\n",
      "7           1          -2          -1          -1          -1          -1\n",
      "8           2           0           0           0           0           0\n",
      "9           1          -1          -1          -2          -2          -2\n"
     ]
    }
   ],
   "source": [
    "#-- just to help us analyse let's set up some column name sets\n",
    "demographics = data.columns[0:5]\n",
    "statuses = data.columns[5:11]\n",
    "bills = data.columns[11:17]\n",
    "payments = data.columns[17:23]\n",
    "\n",
    "#-- have a look at the demographic features\n",
    "print(data[demographics].head(5))\n",
    "\n",
    "#-- now let's consider the payment status histories for the last 6 months\n",
    "print(data[statuses].head(10))"
   ]
  },
  {
   "cell_type": "markdown",
   "metadata": {},
   "source": [
    "### Task 2c: Summarizing the data with Graphs\n",
    "\n",
    "Great, now lets get a sense of the variables visually. This is really easy in a script, but it's a bit fiddly, so as before I've done it inline for you below."
   ]
  },
  {
   "cell_type": "code",
   "execution_count": 22,
   "metadata": {},
   "outputs": [
    {
     "data": {
      "image/png": "[encoded data removed]",
      "text/plain": [
       "<Figure size 1080x720 with 6 Axes>"
      ]
     },
     "metadata": {},
     "output_type": "display_data"
    }
   ],
   "source": [
    "#-- and get a sense of them visually\n",
    "%matplotlib inline\n",
    "import matplotlib.pyplot as plt\n",
    "\n",
    "#-- use a nice style\n",
    "plt.style.use('ggplot')\n",
    "\n",
    "#-- set the size of the figure and the font size\n",
    "plt.rcParams['figure.figsize'] = (20.0, 20.0)\n",
    "plt.rcParams.update({'font.size': 10})\n",
    "\n",
    "#-- setup the layout of the figure as 2 rows and 3 columns\n",
    "fig, ax = plt.subplots(2,3)\n",
    "fig.set_size_inches(15,10)\n",
    "\n",
    "#-- loop through each of the \"PAY\" features and plot counts\n",
    "for i, feature in enumerate(statuses):\n",
    "   \n",
    "   #-- use the pandas counting function to get the no. items in the field\n",
    "   counts  = data[feature].value_counts()\n",
    "\n",
    "   #-- calculate the  row and column of the current sub-figure\n",
    "   row, col = int(i / 3), i % 3\n",
    "    \n",
    "   #-- for the current sub-figure create a bar chart\n",
    "   ax[row, col].bar(counts.index, counts, align='center')\n",
    "   ax[row, col].set_title(feature)\n",
    "\n",
    "#-- show the results on screen\n",
    "plt.tight_layout(pad=3.0, w_pad=0.5, h_pad=1.0)\n",
    "plt.show()"
   ]
  },
  {
   "cell_type": "markdown",
   "metadata": {},
   "source": [
    "Really make sure you undestand what this code is doing - play around with it, find out what \"enumerate\" does and ensure you understand what the loop is doing. Once you do, create some graphs yourself, but this time for the payments, with two per row...and make the graphs purple (N/LAB's favourite non-spectral colour!).\n",
    "\n",
    "<span style=\"font-weight:bold; color:green;\">&rarr; Create some more graphs here yourself, but this time for the \"payments\" colunns.:</span>"
   ]
  },
  {
   "cell_type": "code",
   "execution_count": 23,
   "metadata": {},
   "outputs": [
    {
     "data": {
      "image/png": "[encoded data removed]",
      "text/plain": [
       "<Figure size 1080x720 with 6 Axes>"
      ]
     },
     "metadata": {},
     "output_type": "display_data"
    }
   ],
   "source": [
    "#-- create some more graphs yourself here, but this time for payments.\n",
    "#-- see if you can do it from scratch without referring to the previous example as much as possible.\n",
    "#-- coming up with anything yourself, is better than simply cutting and pasting!\n",
    "\n",
    "%matplotlib inline\n",
    "import matplotlib.pyplot as plt\n",
    "\n",
    "plt.style.use('ggplot')\n",
    "plt.rcParams['figure.figsize'] = (20.0, 20.0)\n",
    "plt.rcParams.update({'font.size':10})\n",
    "\n",
    "fig,ax = plt.subplots(3,2)\n",
    "fig.set_size_inches(15,10)\n",
    "\n",
    "for i, feature in enumerate(payments):\n",
    "    counts = data[feature]\n",
    "    row, col = int(i/2), i%2\n",
    "    \n",
    "    ax[row,col].hist(counts,bins=20, color='purple')\n",
    "    ax[row,col].set_title(feature)\n",
    "    \n",
    "plt.tight_layout(pad=3.0, w_pad=0.5, h_pad=1.0)\n",
    "plt.show()"
   ]
  },
  {
   "cell_type": "markdown",
   "metadata": {},
   "source": [
    "### Task 2d: Creating some nice summary Histograms Value\n",
    "Again, let's just rush through making some histograms too - they paint a great picture of the distribution of the data. Lool up the matplotlib hist() function on Google and produce one. \n",
    "\n",
    "<span style=\"font-weight:bold; color:green;\">&rarr; Recalculate the lifetime value of customers following OPTION A and OPTION_B using a loop for each:</span>"
   ]
  },
  {
   "cell_type": "code",
   "execution_count": 24,
   "metadata": {},
   "outputs": [
    {
     "data": {
      "image/png": "[encoded data removed]",
      "text/plain": [
       "<Figure size 1440x360 with 1 Axes>"
      ]
     },
     "metadata": {},
     "output_type": "display_data"
    }
   ],
   "source": [
    "#-- for each person what's the average on their account each month?\n",
    "plt.rcParams['figure.figsize'] = (20.0, 5.0)\n",
    "\n",
    "#-- add your histogram line here!\n",
    "plt.hist(data[bills].mean(axis=1), 20)\n",
    "\n",
    "#-- some labelling.\n",
    "plt.xlabel(\"average bill amount (£)\")\n",
    "plt.ylabel(\"number of people\")\n",
    "plt.show()\n"
   ]
  },
  {
   "cell_type": "markdown",
   "metadata": {},
   "source": [
    "<span style=\"font-weight:bold; color:green;\">&rarr;  And if you've managed that, let's view one for peoples \"LIMIT\" field, with 50 bins and using the colour purple:</span>"
   ]
  },
  {
   "cell_type": "code",
   "execution_count": 25,
   "metadata": {},
   "outputs": [
    {
     "data": {
      "image/png": "[encoded data removed]",
      "text/plain": [
       "<Figure size 1440x360 with 1 Axes>"
      ]
     },
     "metadata": {},
     "output_type": "display_data"
    }
   ],
   "source": [
    "#-- and let's have a look at the limit balance's people have too\n",
    "counts, bins, patches = plt.hist(data[\"LIMIT\"], 50, color='purple')\n",
    "plt.xlabel(\"credit limit category (£)\")\n",
    "plt.ylabel(\"number of people\")\n",
    "plt.show()"
   ]
  },
  {
   "cell_type": "markdown",
   "metadata": {},
   "source": [
    "### Task 2e: Explore the Charge-off rate (\"DEFAULTED\")\n",
    "\n",
    "Great, we have some good summaries there, and now lets make predictions. First off, let's start with an overarching view of the problem. We want to predict defaulting, Let's answer the following questions:\n",
    "\n",
    "* How many cases do we have on our dataset to work with?\n",
    "* What is the breakdown depending on some of the variables available?"
   ]
  },
  {
   "cell_type": "code",
   "execution_count": 26,
   "metadata": {},
   "outputs": [
    {
     "name": "stdout",
     "output_type": "stream",
     "text": [
      "defaulting accounts are 22.12% out of 30000 observations\n"
     ]
    },
    {
     "data": {
      "image/png": "[encoded data removed]",
      "text/plain": [
       "<Figure size 360x360 with 1 Axes>"
      ]
     },
     "metadata": {},
     "output_type": "display_data"
    }
   ],
   "source": [
    "fig = plt.figure()\n",
    "fig.set_size_inches(5,5)\n",
    "\n",
    "#-- group the defatulted variable into it's two classes and count them\n",
    "d = data.groupby(['DEFAULTED']).size()\n",
    "\n",
    "print(\"defaulting accounts are {}% out of {} observations\".format(100* d[1]/(d[1]+d[0]), d[1]+d[0]))\n",
    "\n",
    "#-- consider the different kinds of \"plot\" in the online documenation and have a play around\n",
    "p = d.plot(kind='barh', color='orange')"
   ]
  },
  {
   "cell_type": "markdown",
   "metadata": {},
   "source": [
    "### Task 2f: Explore some other statistics!\n",
    "Let's have a look at a number of histograms to see how defaulting is correlated with the categorical variables available, before that let's make use of categorical features of pandas:\n",
    "\n",
    "<span style=\"font-weight:bold; color:green;\">&rarr;  Make sure you understand what is going on here and the complete the middle graph:</span>"
   ]
  },
  {
   "cell_type": "code",
   "execution_count": 27,
   "metadata": {},
   "outputs": [
    {
     "data": {
      "image/png": "[encoded data removed]",
      "text/plain": [
       "<Figure size 1440x360 with 3 Axes>"
      ]
     },
     "metadata": {},
     "output_type": "display_data"
    }
   ],
   "source": [
    "fig, ax = plt.subplots(1,3)\n",
    "fig.set_size_inches(20,5)\n",
    "fig.suptitle('Defaulting by absolute numbers, for various demographics')\n",
    "\n",
    "#-- create a plot for split by gender\n",
    "d = data.groupby(['DEFAULTED', 'SEX']).size()\n",
    "p = d.unstack(level=1).plot(kind='bar', ax=ax[0])\n",
    "\n",
    "#-- create another plot for \"MARRIAGE\"\n",
    "d = data.groupby(['DEFAULTED', 'MARRIAGE']).size()\n",
    "p = d.unstack(level=1).plot(kind='bar', ax=ax[1])\n",
    "\n",
    "#-- create a plot for split by \"AGE\"\n",
    "data['AGE'] = pandas.cut(data['AGE'], range(0, 100, 10), right=False)\n",
    "d = data.groupby(['DEFAULTED', 'AGE']).size()\n",
    "p = d.unstack(level=1).plot(kind='bar', ax=ax[2])"
   ]
  },
  {
   "cell_type": "markdown",
   "metadata": {},
   "source": [
    "Note, how pandas let us really easily cut up the age into categories using the \"cut()\" function. Remember you never need to memorize these - just know they exist and then refer to prior examples or the web documentation.\n",
    "\n",
    "\n",
    "> This concludes our refresher of pandas, seaborn and what we looked at in FBA. Time to move on!"
   ]
  },
  {
   "cell_type": "code",
   "execution_count": 15,
   "metadata": {},
   "outputs": [
    {
     "name": "stdout",
     "output_type": "stream",
     "text": [
      "<-- pat self momentarily on the back\n"
     ]
    }
   ],
   "source": [
    "print(\"<-- pat self momentarily on the back\")"
   ]
  },
  {
   "cell_type": "markdown",
   "metadata": {},
   "source": [
    "\n",
    "\n",
    "\n",
    "\n",
    "### Task 3a: Moving on to Feature engineering\n",
    "We now begin to extend what we did previously. When you analyse data from CSV's often it's not about blind feature conversion to values between 0 and 1 - it's about understanding data, and working out how best to input it into your models. \n",
    "\n",
    "To that end, let's first create some aggregate variables. Use the .mean() and .std() methods which will use a paramater of axis=1 (to indicate that you want the column averaged not the row) to do this below:\n",
    "\n",
    "<span style=\"font-weight:bold; color:green;\">&rarr; Create the following new features:</span>"
   ]
  },
  {
   "cell_type": "code",
   "execution_count": 16,
   "metadata": {},
   "outputs": [
    {
     "data": {
      "text/html": [
       "<div>\n",
       "<style scoped>\n",
       "    .dataframe tbody tr th:only-of-type {\n",
       "        vertical-align: middle;\n",
       "    }\n",
       "\n",
       "    .dataframe tbody tr th {\n",
       "        vertical-align: top;\n",
       "    }\n",
       "\n",
       "    .dataframe thead th {\n",
       "        text-align: right;\n",
       "    }\n",
       "</style>\n",
       "<table border=\"1\" class=\"dataframe\">\n",
       "  <thead>\n",
       "    <tr style=\"text-align: right;\">\n",
       "      <th></th>\n",
       "      <th>LIMIT</th>\n",
       "      <th>SEX</th>\n",
       "      <th>EDUCATION</th>\n",
       "      <th>MARRIAGE</th>\n",
       "      <th>AGE</th>\n",
       "      <th>STATUS_JAN</th>\n",
       "      <th>STATUS_FEB</th>\n",
       "      <th>STATUS_MAR</th>\n",
       "      <th>STATUS_APR</th>\n",
       "      <th>STATUS_MAY</th>\n",
       "      <th>...</th>\n",
       "      <th>PAY_MAR</th>\n",
       "      <th>PAY_APR</th>\n",
       "      <th>PAY_MAY</th>\n",
       "      <th>PAY_JUN</th>\n",
       "      <th>STATUS_MEAN</th>\n",
       "      <th>STATUS_STD</th>\n",
       "      <th>BILL_MEAN</th>\n",
       "      <th>BILL_STD</th>\n",
       "      <th>PAY_MEAN</th>\n",
       "      <th>PAY_STD</th>\n",
       "    </tr>\n",
       "  </thead>\n",
       "  <tbody>\n",
       "    <tr>\n",
       "      <th>count</th>\n",
       "      <td>30000.000000</td>\n",
       "      <td>30000.000000</td>\n",
       "      <td>30000.000000</td>\n",
       "      <td>30000.000000</td>\n",
       "      <td>30000.000000</td>\n",
       "      <td>30000.000000</td>\n",
       "      <td>30000.000000</td>\n",
       "      <td>30000.000000</td>\n",
       "      <td>30000.000000</td>\n",
       "      <td>30000.000000</td>\n",
       "      <td>...</td>\n",
       "      <td>30000.000000</td>\n",
       "      <td>30000.000000</td>\n",
       "      <td>30000.000000</td>\n",
       "      <td>30000.000000</td>\n",
       "      <td>30000.000000</td>\n",
       "      <td>30000.000000</td>\n",
       "      <td>30000.000000</td>\n",
       "      <td>30000.000000</td>\n",
       "      <td>30000.000000</td>\n",
       "      <td>30000.000000</td>\n",
       "    </tr>\n",
       "    <tr>\n",
       "      <th>mean</th>\n",
       "      <td>4016.316667</td>\n",
       "      <td>1.603733</td>\n",
       "      <td>1.853133</td>\n",
       "      <td>1.551867</td>\n",
       "      <td>35.485500</td>\n",
       "      <td>-0.016700</td>\n",
       "      <td>-0.133767</td>\n",
       "      <td>-0.166200</td>\n",
       "      <td>-0.220667</td>\n",
       "      <td>-0.266200</td>\n",
       "      <td>...</td>\n",
       "      <td>125.416356</td>\n",
       "      <td>115.825845</td>\n",
       "      <td>115.185303</td>\n",
       "      <td>125.172062</td>\n",
       "      <td>-0.182439</td>\n",
       "      <td>0.454326</td>\n",
       "      <td>1079.446685</td>\n",
       "      <td>289.866901</td>\n",
       "      <td>126.605570</td>\n",
       "      <td>139.318044</td>\n",
       "    </tr>\n",
       "    <tr>\n",
       "      <th>std</th>\n",
       "      <td>3113.527887</td>\n",
       "      <td>0.489129</td>\n",
       "      <td>0.790349</td>\n",
       "      <td>0.521970</td>\n",
       "      <td>9.217904</td>\n",
       "      <td>1.123802</td>\n",
       "      <td>1.197186</td>\n",
       "      <td>1.196868</td>\n",
       "      <td>1.169139</td>\n",
       "      <td>1.133187</td>\n",
       "      <td>...</td>\n",
       "      <td>422.567075</td>\n",
       "      <td>375.987834</td>\n",
       "      <td>366.679336</td>\n",
       "      <td>426.659179</td>\n",
       "      <td>0.982176</td>\n",
       "      <td>0.516221</td>\n",
       "      <td>1518.257325</td>\n",
       "      <td>487.251580</td>\n",
       "      <td>243.310712</td>\n",
       "      <td>360.154535</td>\n",
       "    </tr>\n",
       "    <tr>\n",
       "      <th>min</th>\n",
       "      <td>200.000000</td>\n",
       "      <td>1.000000</td>\n",
       "      <td>0.000000</td>\n",
       "      <td>0.000000</td>\n",
       "      <td>21.000000</td>\n",
       "      <td>-2.000000</td>\n",
       "      <td>-2.000000</td>\n",
       "      <td>-2.000000</td>\n",
       "      <td>-2.000000</td>\n",
       "      <td>-2.000000</td>\n",
       "      <td>...</td>\n",
       "      <td>0.000000</td>\n",
       "      <td>0.000000</td>\n",
       "      <td>0.000000</td>\n",
       "      <td>0.000000</td>\n",
       "      <td>-2.000000</td>\n",
       "      <td>0.000000</td>\n",
       "      <td>-1345.036000</td>\n",
       "      <td>0.000000</td>\n",
       "      <td>0.000000</td>\n",
       "      <td>0.000000</td>\n",
       "    </tr>\n",
       "    <tr>\n",
       "      <th>25%</th>\n",
       "      <td>1200.000000</td>\n",
       "      <td>1.000000</td>\n",
       "      <td>1.000000</td>\n",
       "      <td>1.000000</td>\n",
       "      <td>28.000000</td>\n",
       "      <td>-1.000000</td>\n",
       "      <td>-1.000000</td>\n",
       "      <td>-1.000000</td>\n",
       "      <td>-1.000000</td>\n",
       "      <td>-1.000000</td>\n",
       "      <td>...</td>\n",
       "      <td>9.360000</td>\n",
       "      <td>7.104000</td>\n",
       "      <td>6.060000</td>\n",
       "      <td>2.826000</td>\n",
       "      <td>-0.833333</td>\n",
       "      <td>0.000000</td>\n",
       "      <td>114.752000</td>\n",
       "      <td>37.198445</td>\n",
       "      <td>26.719000</td>\n",
       "      <td>14.768488</td>\n",
       "    </tr>\n",
       "    <tr>\n",
       "      <th>50%</th>\n",
       "      <td>3400.000000</td>\n",
       "      <td>2.000000</td>\n",
       "      <td>2.000000</td>\n",
       "      <td>2.000000</td>\n",
       "      <td>34.000000</td>\n",
       "      <td>0.000000</td>\n",
       "      <td>0.000000</td>\n",
       "      <td>0.000000</td>\n",
       "      <td>0.000000</td>\n",
       "      <td>0.000000</td>\n",
       "      <td>...</td>\n",
       "      <td>43.200000</td>\n",
       "      <td>36.000000</td>\n",
       "      <td>36.000000</td>\n",
       "      <td>36.000000</td>\n",
       "      <td>0.000000</td>\n",
       "      <td>0.408248</td>\n",
       "      <td>505.244000</td>\n",
       "      <td>109.911892</td>\n",
       "      <td>57.532000</td>\n",
       "      <td>33.928659</td>\n",
       "    </tr>\n",
       "    <tr>\n",
       "      <th>75%</th>\n",
       "      <td>5800.000000</td>\n",
       "      <td>2.000000</td>\n",
       "      <td>2.000000</td>\n",
       "      <td>2.000000</td>\n",
       "      <td>41.000000</td>\n",
       "      <td>0.000000</td>\n",
       "      <td>0.000000</td>\n",
       "      <td>0.000000</td>\n",
       "      <td>0.000000</td>\n",
       "      <td>0.000000</td>\n",
       "      <td>...</td>\n",
       "      <td>108.120000</td>\n",
       "      <td>96.318000</td>\n",
       "      <td>96.756000</td>\n",
       "      <td>96.000000</td>\n",
       "      <td>0.000000</td>\n",
       "      <td>0.836660</td>\n",
       "      <td>1370.506000</td>\n",
       "      <td>344.454230</td>\n",
       "      <td>134.014000</td>\n",
       "      <td>99.046983</td>\n",
       "    </tr>\n",
       "    <tr>\n",
       "      <th>max</th>\n",
       "      <td>24000.000000</td>\n",
       "      <td>2.000000</td>\n",
       "      <td>6.000000</td>\n",
       "      <td>3.000000</td>\n",
       "      <td>79.000000</td>\n",
       "      <td>8.000000</td>\n",
       "      <td>8.000000</td>\n",
       "      <td>8.000000</td>\n",
       "      <td>8.000000</td>\n",
       "      <td>8.000000</td>\n",
       "      <td>...</td>\n",
       "      <td>21504.960000</td>\n",
       "      <td>14904.000000</td>\n",
       "      <td>10236.696000</td>\n",
       "      <td>12687.984000</td>\n",
       "      <td>6.000000</td>\n",
       "      <td>3.204164</td>\n",
       "      <td>21055.532000</td>\n",
       "      <td>15546.913226</td>\n",
       "      <td>15056.264000</td>\n",
       "      <td>15602.360132</td>\n",
       "    </tr>\n",
       "  </tbody>\n",
       "</table>\n",
       "<p>8 rows × 29 columns</p>\n",
       "</div>"
      ],
      "text/plain": [
       "              LIMIT           SEX     EDUCATION      MARRIAGE           AGE  \\\n",
       "count  30000.000000  30000.000000  30000.000000  30000.000000  30000.000000   \n",
       "mean    4016.316667      1.603733      1.853133      1.551867     35.485500   \n",
       "std     3113.527887      0.489129      0.790349      0.521970      9.217904   \n",
       "min      200.000000      1.000000      0.000000      0.000000     21.000000   \n",
       "25%     1200.000000      1.000000      1.000000      1.000000     28.000000   \n",
       "50%     3400.000000      2.000000      2.000000      2.000000     34.000000   \n",
       "75%     5800.000000      2.000000      2.000000      2.000000     41.000000   \n",
       "max    24000.000000      2.000000      6.000000      3.000000     79.000000   \n",
       "\n",
       "         STATUS_JAN    STATUS_FEB    STATUS_MAR    STATUS_APR    STATUS_MAY  \\\n",
       "count  30000.000000  30000.000000  30000.000000  30000.000000  30000.000000   \n",
       "mean      -0.016700     -0.133767     -0.166200     -0.220667     -0.266200   \n",
       "std        1.123802      1.197186      1.196868      1.169139      1.133187   \n",
       "min       -2.000000     -2.000000     -2.000000     -2.000000     -2.000000   \n",
       "25%       -1.000000     -1.000000     -1.000000     -1.000000     -1.000000   \n",
       "50%        0.000000      0.000000      0.000000      0.000000      0.000000   \n",
       "75%        0.000000      0.000000      0.000000      0.000000      0.000000   \n",
       "max        8.000000      8.000000      8.000000      8.000000      8.000000   \n",
       "\n",
       "       ...       PAY_MAR       PAY_APR       PAY_MAY       PAY_JUN  \\\n",
       "count  ...  30000.000000  30000.000000  30000.000000  30000.000000   \n",
       "mean   ...    125.416356    115.825845    115.185303    125.172062   \n",
       "std    ...    422.567075    375.987834    366.679336    426.659179   \n",
       "min    ...      0.000000      0.000000      0.000000      0.000000   \n",
       "25%    ...      9.360000      7.104000      6.060000      2.826000   \n",
       "50%    ...     43.200000     36.000000     36.000000     36.000000   \n",
       "75%    ...    108.120000     96.318000     96.756000     96.000000   \n",
       "max    ...  21504.960000  14904.000000  10236.696000  12687.984000   \n",
       "\n",
       "        STATUS_MEAN    STATUS_STD     BILL_MEAN      BILL_STD      PAY_MEAN  \\\n",
       "count  30000.000000  30000.000000  30000.000000  30000.000000  30000.000000   \n",
       "mean      -0.182439      0.454326   1079.446685    289.866901    126.605570   \n",
       "std        0.982176      0.516221   1518.257325    487.251580    243.310712   \n",
       "min       -2.000000      0.000000  -1345.036000      0.000000      0.000000   \n",
       "25%       -0.833333      0.000000    114.752000     37.198445     26.719000   \n",
       "50%        0.000000      0.408248    505.244000    109.911892     57.532000   \n",
       "75%        0.000000      0.836660   1370.506000    344.454230    134.014000   \n",
       "max        6.000000      3.204164  21055.532000  15546.913226  15056.264000   \n",
       "\n",
       "            PAY_STD  \n",
       "count  30000.000000  \n",
       "mean     139.318044  \n",
       "std      360.154535  \n",
       "min        0.000000  \n",
       "25%       14.768488  \n",
       "50%       33.928659  \n",
       "75%       99.046983  \n",
       "max    15602.360132  \n",
       "\n",
       "[8 rows x 29 columns]"
      ]
     },
     "execution_count": 16,
     "metadata": {},
     "output_type": "execute_result"
    }
   ],
   "source": [
    "X['STATUS_MEAN'] = data[statuses].mean(axis=1)\n",
    "X['STATUS_STD'] = data[statuses].std(axis=1)\n",
    "\n",
    "X['BILL_MEAN'] = data[bills].mean(axis=1)\n",
    "X['BILL_STD'] = data[bills].std(axis=1)\n",
    "\n",
    "X['PAY_MEAN'] = data[payments].mean(axis=1)\n",
    "X['PAY_STD'] = data[payments].std(axis=1)\n",
    "\n",
    "X.describe()"
   ]
  },
  {
   "cell_type": "markdown",
   "metadata": {},
   "source": [
    "### Task 3b - Examining Variable Importance\n",
    "While we're here, lets do something that's very useful. Finding out what the most important variables are for the problem! To do this we use a special sklearn command called SelectKBest. This works as follows - remember it, and make sure you understand it, as it's a very useful item to avoid the curse of dimensionality."
   ]
  },
  {
   "cell_type": "code",
   "execution_count": 17,
   "metadata": {},
   "outputs": [
    {
     "name": "stderr",
     "output_type": "stream",
     "text": [
      "/Users/gavinshi/opt/anaconda3/lib/python3.8/site-packages/sklearn/utils/validation.py:70: FutureWarning: Pass k=5 as keyword args. From version 1.0 (renaming of 0.25) passing these as positional arguments will result in an error\n",
      "  warnings.warn(f\"Pass {args_msg} as keyword args. From version \"\n"
     ]
    },
    {
     "data": {
      "text/plain": [
       "SelectKBest(k=5)"
      ]
     },
     "execution_count": 17,
     "metadata": {},
     "output_type": "execute_result"
    }
   ],
   "source": [
    "from sklearn.feature_selection import SelectKBest, f_classif\n",
    "\n",
    "#-- let's select the best 5 features - n.b. here we just tell the tool to use the \"f_classif\" function\n",
    "#-- when it does it's job to measure what is best (There are other options such as mututal information). \n",
    "#-- We don't call that function though, we just supply its name as a parameter.\n",
    "selector = SelectKBest(f_classif, 5)\n",
    "\n",
    "#-- having parameterized the tool, let's fit the data\n",
    "selector.fit(X, Y)"
   ]
  },
  {
   "cell_type": "markdown",
   "metadata": {},
   "source": [
    "Our model is fit so let's have a look at it's scores:"
   ]
  },
  {
   "cell_type": "code",
   "execution_count": 18,
   "metadata": {},
   "outputs": [
    {
     "name": "stdout",
     "output_type": "stream",
     "text": [
      "[7.23454111e+02 4.79788543e+01 2.35471118e+01 1.77812714e+01\n",
      " 5.78855582e+00 3.53771497e+03 2.23916914e+03 1.75746644e+03\n",
      " 1.47684597e+03 1.30459118e+03 1.08540249e+03 1.15805315e+01\n",
      " 6.04423789e+00 5.94438771e+00 3.09474518e+00 1.37108740e+00\n",
      " 8.65820292e-01 1.60403810e+02 1.03291524e+02 9.52180109e+01\n",
      " 9.71880005e+01 9.14298008e+01 8.50890453e+01 2.59075319e+03\n",
      " 1.98152735e+03 4.83257470e+00 1.92457893e+02 3.17598973e+02\n",
      " 1.65291839e+02]\n"
     ]
    }
   ],
   "source": [
    "print(selector.scores_)"
   ]
  },
  {
   "cell_type": "markdown",
   "metadata": {},
   "source": [
    "The **scores_** attribute just tells us (in order) how important the tool thinks our variables are. To put the names of the most important features in order based on these results try the following:"
   ]
  },
  {
   "cell_type": "code",
   "execution_count": 19,
   "metadata": {},
   "outputs": [
    {
     "name": "stdout",
     "output_type": "stream",
     "text": [
      "Index(['STATUS_JAN', 'STATUS_MEAN', 'STATUS_FEB', 'STATUS_STD', 'STATUS_MAR',\n",
      "       'STATUS_APR', 'STATUS_MAY', 'STATUS_JUN', 'LIMIT', 'PAY_MEAN',\n",
      "       'BILL_STD', 'PAY_STD', 'PAY_JAN', 'PAY_FEB', 'PAY_APR', 'PAY_MAR',\n",
      "       'PAY_MAY', 'PAY_JUN', 'SEX', 'EDUCATION', 'MARRIAGE', 'BILL_JAN',\n",
      "       'BILL_FEB', 'BILL_MAR', 'AGE'],\n",
      "      dtype='object')\n"
     ]
    }
   ],
   "source": [
    "import numpy as np\n",
    "\n",
    "#-- this is a relatively complicated line that creates an order set of indeces of the best variables\n",
    "#-- don't worry about it for now - just work out what its creating and cut and paste it when you need it.\n",
    "top_indices = np.nan_to_num(selector.scores_).argsort()[-25:][::-1]\n",
    "print(X.columns[top_indices])\n"
   ]
  },
  {
   "cell_type": "markdown",
   "metadata": {},
   "source": [
    "We can see the STATUS temporal variables appear important, as do how volatile it is. If we wanted to reduce our features then we could use this information to select the best variables (and avoid the curse of dimensionality). For now, let's leave them all in, but you may want to try building your models again at some point with less variables, to see if it improves results.\n",
    "\n",
    "### Task 4a: Building your predictive models - including a Boosted Machine!\n",
    "Ok, great we have our features, some understanding of them (although we've decided to leave them all in the mix). Now lets do some prediction. \n",
    "\n",
    "You should be pretty well versed in this at this point, so I'm going to let you have a go yourself with the following classifiers (note this may take jupyter some time to run):\n",
    "\n",
    "* dummy (for a baseline comparison - very important!)\n",
    "* linear regression (What capital one previously used)\n",
    "* adaboost (the boosted model that capital one now uses)\n",
    "* a decision tree (just to serve as comparison)\n",
    "\n",
    "Good luck, and ask for help if needed (and you will likely have to wait a couple of minutes for this to complete!)."
   ]
  },
  {
   "cell_type": "code",
   "execution_count": 20,
   "metadata": {},
   "outputs": [],
   "source": [
    "from sklearn import linear_model\n",
    "from sklearn import tree\n",
    "from sklearn import ensemble\n",
    "from sklearn import dummy\n",
    "from sklearn.model_selection import KFold\n",
    "from sklearn.model_selection import cross_val_score\n",
    "\n",
    "#-- setup our testing strategy (go for 5 folds)\n",
    "folds = KFold(n_splits=5, shuffle=True, random_state=0)"
   ]
  },
  {
   "cell_type": "code",
   "execution_count": 21,
   "metadata": {},
   "outputs": [
    {
     "name": "stderr",
     "output_type": "stream",
     "text": [
      "/Users/gavinshi/opt/anaconda3/lib/python3.8/site-packages/sklearn/linear_model/_logistic.py:763: ConvergenceWarning: lbfgs failed to converge (status=1):\n",
      "STOP: TOTAL NO. of ITERATIONS REACHED LIMIT.\n",
      "\n",
      "Increase the number of iterations (max_iter) or scale the data as shown in:\n",
      "    https://scikit-learn.org/stable/modules/preprocessing.html\n",
      "Please also refer to the documentation for alternative solver options:\n",
      "    https://scikit-learn.org/stable/modules/linear_model.html#logistic-regression\n",
      "  n_iter_i = _check_optimize_result(\n",
      "/Users/gavinshi/opt/anaconda3/lib/python3.8/site-packages/sklearn/linear_model/_logistic.py:763: ConvergenceWarning: lbfgs failed to converge (status=1):\n",
      "STOP: TOTAL NO. of ITERATIONS REACHED LIMIT.\n",
      "\n",
      "Increase the number of iterations (max_iter) or scale the data as shown in:\n",
      "    https://scikit-learn.org/stable/modules/preprocessing.html\n",
      "Please also refer to the documentation for alternative solver options:\n",
      "    https://scikit-learn.org/stable/modules/linear_model.html#logistic-regression\n",
      "  n_iter_i = _check_optimize_result(\n",
      "/Users/gavinshi/opt/anaconda3/lib/python3.8/site-packages/sklearn/linear_model/_logistic.py:763: ConvergenceWarning: lbfgs failed to converge (status=1):\n",
      "STOP: TOTAL NO. of ITERATIONS REACHED LIMIT.\n",
      "\n",
      "Increase the number of iterations (max_iter) or scale the data as shown in:\n",
      "    https://scikit-learn.org/stable/modules/preprocessing.html\n",
      "Please also refer to the documentation for alternative solver options:\n",
      "    https://scikit-learn.org/stable/modules/linear_model.html#logistic-regression\n",
      "  n_iter_i = _check_optimize_result(\n",
      "/Users/gavinshi/opt/anaconda3/lib/python3.8/site-packages/sklearn/linear_model/_logistic.py:763: ConvergenceWarning: lbfgs failed to converge (status=1):\n",
      "STOP: TOTAL NO. of ITERATIONS REACHED LIMIT.\n",
      "\n",
      "Increase the number of iterations (max_iter) or scale the data as shown in:\n",
      "    https://scikit-learn.org/stable/modules/preprocessing.html\n",
      "Please also refer to the documentation for alternative solver options:\n",
      "    https://scikit-learn.org/stable/modules/linear_model.html#logistic-regression\n",
      "  n_iter_i = _check_optimize_result(\n"
     ]
    },
    {
     "name": "stdout",
     "output_type": "stream",
     "text": [
      "Mean LR Accuracy: 0.7793333333333333\n"
     ]
    },
    {
     "name": "stderr",
     "output_type": "stream",
     "text": [
      "/Users/gavinshi/opt/anaconda3/lib/python3.8/site-packages/sklearn/linear_model/_logistic.py:763: ConvergenceWarning: lbfgs failed to converge (status=1):\n",
      "STOP: TOTAL NO. of ITERATIONS REACHED LIMIT.\n",
      "\n",
      "Increase the number of iterations (max_iter) or scale the data as shown in:\n",
      "    https://scikit-learn.org/stable/modules/preprocessing.html\n",
      "Please also refer to the documentation for alternative solver options:\n",
      "    https://scikit-learn.org/stable/modules/linear_model.html#logistic-regression\n",
      "  n_iter_i = _check_optimize_result(\n"
     ]
    }
   ],
   "source": [
    "#-- test a logistic regression model\n",
    "lr = linear_model.LogisticRegression()\n",
    "lr_scores = cross_val_score(lr, X, Y, cv=folds)\n",
    "print(\"Mean LR Accuracy:\", np.mean(lr_scores))"
   ]
  },
  {
   "cell_type": "code",
   "execution_count": 25,
   "metadata": {},
   "outputs": [
    {
     "name": "stdout",
     "output_type": "stream",
     "text": [
      "Mean DT Accuracy: 0.7625666666666666\n"
     ]
    }
   ],
   "source": [
    "#-- test a decision tree model\n",
    "dt = tree.DecisionTreeClassifier(max_depth=20, min_samples_leaf=7)\n",
    "dt_scores = cross_val_score(dt, X, Y, cv=folds)\n",
    "print(\"Mean DT Accuracy:\", np.mean(dt_scores))"
   ]
  },
  {
   "cell_type": "code",
   "execution_count": 26,
   "metadata": {},
   "outputs": [
    {
     "name": "stdout",
     "output_type": "stream",
     "text": [
      "Mean AB Accuracy: 0.8176333333333334\n"
     ]
    }
   ],
   "source": [
    "#-- test an adaboost model\n",
    "ab = ensemble.AdaBoostClassifier(n_estimators=300, learning_rate=1)\n",
    "ab_scores = cross_val_score(ab, X, Y, cv=folds)\n",
    "print(\"Mean AB Accuracy:\", np.mean(ab_scores))"
   ]
  },
  {
   "cell_type": "code",
   "execution_count": 27,
   "metadata": {},
   "outputs": [
    {
     "name": "stdout",
     "output_type": "stream",
     "text": [
      "Baseline Accuracy: 0.7788\n"
     ]
    }
   ],
   "source": [
    "#-- and so we can guage how well we are doing overall run a baseline dummy model\n",
    "dc = dummy.DummyClassifier()\n",
    "dc_scores = cross_val_score(dc, X, Y, cv=folds)\n",
    "print(\"Baseline Accuracy:\", np.mean(dc_scores))"
   ]
  },
  {
   "cell_type": "markdown",
   "metadata": {},
   "source": [
    "Well done. Which was the winner? Did Adaboost win? (it should have shown you the best accuracy, but if not don't panic - it will do if you sculpt it correctly and give it the right features). And note we have done a baseline to show how much improvement is made - giving us a strong argument that the company should be using our model. \n",
    "\n",
    "### Task 4b - Undertanding why Adaboost won, when a decision tree was so poor:\n",
    "\n",
    "The reason that we have got a better model than logistic regression here for the business here, is not simply due to using an ensemble method (which traditionally bags data, giving individual predictors only a sample of the original data to ensure they generalize), but because we are *boosting*. Each simple classifier tries to fix the mistakes of the one that preceded it sequentially. \n",
    "\n",
    "This is possible because we weight the likelihood of \"mistaken predictions\" being sent to the next classifier's training data, to ensure it is more likely to focus on those problems! Gradually the overall model get's better and better - in our 300 small stumps each trying to fix the issues of the one that preceded it:\n",
    "\n",
    "\n",
    "<img src=\"boosting.png\" width=\"75%\" clear=\"both\">\n",
    "\n",
    "\n",
    "You may have noticed that this makes training slower - such is the cost of improved models!\n",
    "\n",
    "\n",
    "\n",
    "### Task 4c: Statistical Testing - let's be sure\n",
    "\n",
    "Now, we haven't created a confusion matrix here, and are just considering classification accuracy. But a win is a win. However, the results should have been close in the above example - let's make sure this is a *real* win, and isn't just coming from random chance that the test sets nicely suited ADABOOST.\n",
    "\n",
    "To do that we can run a statistical test, as mentioned in the lecture slides...\n",
    "\n",
    "Running a statistical test is easy as pie in Python thanks to the \"scipy\" module - we just call the appropriate test from that statistics module, and compare our results for each fold for logistic regression (lr_scores) against those for adaboost (ab_scores).\n",
    "\n",
    "Lets try a Paired t-test first, and we will make a justifiable target of being 95% confident that our results are real differences between the models (So we need a p-value that is less than 0.05):"
   ]
  },
  {
   "cell_type": "code",
   "execution_count": 28,
   "metadata": {},
   "outputs": [
    {
     "name": "stdout",
     "output_type": "stream",
     "text": [
      "1.1887062556278575e-06\n"
     ]
    }
   ],
   "source": [
    "from scipy.stats import ttest_rel\n",
    "\n",
    "stat, p = ttest_rel(lr_scores, ab_scores)\n",
    "print(p)"
   ]
  },
  {
   "cell_type": "markdown",
   "metadata": {},
   "source": [
    "Superb!. Our p-value is way below 0.05, meaning that we have rejected our null hypothesis that the models are likely drawing results from the same distribution - their difference appears real (within a 5% confidence). \n",
    "\n",
    "But wait - *there is an important problem here*. Recall from the lecture that the problem here, is that the paired t-test performed above assumes that normal distribution. But the data might not be normally distributed.\n",
    "\n",
    "### Task 4d: Apply a non-parametric test instead\n",
    "While sometimes you can get away with doing this, its better to be safe than sorry. So instead let's use a non-parametric test that makes no such assumptions. I recommend you use the **wilcoxon test**, which is illustrated below:"
   ]
  },
  {
   "cell_type": "code",
   "execution_count": 29,
   "metadata": {},
   "outputs": [
    {
     "name": "stdout",
     "output_type": "stream",
     "text": [
      "0.0625\n"
     ]
    }
   ],
   "source": [
    "from scipy.stats import wilcoxon\n",
    "\n",
    "stat, p = wilcoxon(lr_scores, ab_scores)\n",
    "print(p)"
   ]
  },
  {
   "cell_type": "markdown",
   "metadata": {},
   "source": [
    "Super! Our p value remains lower than 0.05 (ignore any warnings you get - checks for normality are not relevent to non-parametric models). \n",
    "\n",
    "So, we remain confident that our adaboost model is better than the logistic regression, and this has not occurred just by random chance, but is to do with the generalization power - and hence real-world business effectivenes - of the model."
   ]
  },
  {
   "cell_type": "markdown",
   "metadata": {},
   "source": [
    "### Task 5: Assessing your progress\n",
    "Review what you have covered in this exercise. You should now be able to understand:\n",
    "\n",
    "* Loading in your data and splitting data into a test and training set.\n",
    "* The ability to use temporal data in \"bins\" as individual features (e.g. STATUS_JAN, STATUS_FEB, ...).\n",
    "* To create summary statistics via pandas **groupby()** function.\n",
    "* To visualize those statistics as graphs using pandas inbuilt plot functions (as an alternative to calling matplotlib directly)\n",
    "* To create several test predictive models, including **Adaboost**, a boosted decision tree technique.\n",
    "* To set up a validation strategy with sklearn's **KFolds()** tool.\n",
    "* To obtain aggregate performance results using sklean's **cross_val_score()** function.\n",
    "* To generate a finer grained confusion matrix using sklearn's **cross_val_predict()** function and **confusion_matrix()** tools.\n",
    "* To visualize those results using a heatmap.\n",
    "\n",
    "Remember that it is not necessarily memorizing these items which is key - but having an understanding of how to use them as a process, knowing how to refind examples of their usage, and how to look up documentation when you are not sure."
   ]
  },
  {
   "cell_type": "code",
   "execution_count": null,
   "metadata": {},
   "outputs": [],
   "source": []
  }
 ],
 "metadata": {
  "kernelspec": {
   "display_name": "Python 3 (ipykernel)",
   "language": "python",
   "name": "python3"
  },
  "language_info": {
   "codemirror_mode": {
    "name": "ipython",
    "version": 3
   },
   "file_extension": ".py",
   "mimetype": "text/x-python",
   "name": "python",
   "nbconvert_exporter": "python",
   "pygments_lexer": "ipython3",
   "version": "3.9.13"
  }
 },
 "nbformat": 4,
 "nbformat_minor": 2
}
