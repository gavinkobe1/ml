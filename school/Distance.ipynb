{
 "cells": [
  {
   "cell_type": "markdown",
   "metadata": {},
   "source": [
    "\n",
    "## Analytics Specializations & Applications - Week 6\n",
    "\n",
    "# Recommender Systems - Example Case Study\n",
    "----------\n",
    "\n",
    "Not that long ago, companies acted over much smaller locatalities. Many shops knew their customers personally and could make recommendations to them based on their experience of what they liked (based on their prior purchases and reactions). This led to a completely different customer experience (CX) than we currently are used to - the customer received better interactions, while sellers could able to reap the benefits of brand loyalty given that they better understood their customer’s needs, preferences, and even their budget. We used to have **personalized consumption experiences**.\n",
    "\n",
    "Recommendation systems have brought the capability to bring back this sort of personalization - it is something that all companies are currently interested (including Boots, as this was the basis of their talk in many ways - the aim to generate personalized targeted marketing). Recommender systems can be used to personalize everything frm the content of websites tailord to each visitor, to deriving better product recommendations for customers, and their use has snowballed since the inception of web. In this session we will get a firm ground in their underpinnings.\n",
    "\n",
    "## Scenario:\n",
    "This week we consider the logic behin a working recommendation system, that is able to take in user ratings data about products and retun us recommendations about what new items a customer might like that, that they simply haven't tried before. We'll use the setting of Music store, which has ratings from its customers about some of their prior purchases.\n",
    "\n",
    "\n",
    "### Task 6a: Getting some customer ratings into the system\n",
    "As ever we need some information to underpin our decision making. Just to break from the norm, let's not load in a .csv for once and just consider that we have been provided with a python dictionary full of data. This dictionary is keyed by a particular person's name, and contains information about how they have rated each product.\n",
    "\n",
    "<span style=\"font-weight:bold; color:green;\">&rarr; run the following code to load the product ratings up into memory, and check you have some information for 10 customers:<span/>"
   ]
  },
  {
   "cell_type": "code",
   "execution_count": 1,
   "metadata": {},
   "outputs": [
    {
     "name": "stdout",
     "output_type": "stream",
     "text": [
      "Our python dictionary has data for 10 people in it\n"
     ]
    }
   ],
   "source": [
    "customers = {\n",
    "     \"Andrew\": {\n",
    "         \"Tame Impala\": 5.0,\n",
    "         \"Broken Bells\": 2.0,\n",
    "         \"Adele\": 3.0,\n",
    "         \"Radiohead\": 5.0,\n",
    "         \"Tenacious D\": 4.0,\n",
    "         \"The Strokes\": 5.0\n",
    "     },\n",
    "     \"Gavin\": {\n",
    "        \"Tame Impala\": 2.0, \n",
    "        \"Broken Bells\": 3.5, \n",
    "        \"Skrillex\": 4.0, \n",
    "        \"Radiohead\": 2.0,\n",
    "        \"Tenacious D\": 3.5, \n",
    "        \"Vampire Weekend\": 3.0\n",
    "     },\n",
    "     \"Jennifer\": {\n",
    "        \"Tame Impala\": 3.5, \n",
    "        \"Broken Bells\": 2.0, \n",
    "        \"Adele\": 4.5, \n",
    "        \"Radiohead\": 5.0, \n",
    "        \"Tenacious D\": 1.5, \n",
    "        \"The Strokes\": 2.5, \n",
    "        \"Vampire Weekend\": 2.0\n",
    "     },\n",
    "     \"Chan\": {\n",
    "         \"Tame Impala\": 5.0, \n",
    "         \"Broken Bells\": 1.0,\n",
    "         \"Skrillex\": 1.0, \n",
    "         \"Adele\": 3.0,\n",
    "         \"Radiohead\": 5, \n",
    "         \"Tenacious D\": 1.0},\n",
    "     \"Dan\": {\n",
    "         \"Tame Impala\": 3.0,\n",
    "         \"Broken Bells\": 4.0,\n",
    "         \"Skrillex\": 4.5, \n",
    "         \"Radiohead\": 3.0,\n",
    "         \"Tenacious D\": 4.5, \n",
    "         \"The Strokes\": 4.0,\n",
    "         \"Vampire Weekend\": 2.0\n",
    "     },\n",
    "     \"Valerie\": {\n",
    "         \"Broken Bells\": 4.0, \n",
    "         \"Skrillex\": 1.0,\n",
    "         \"Adele\": 4.0,\n",
    "         \"The Strokes\": 4.0,\n",
    "         \"Vampire Weekend\": 1.0\n",
    "     },\n",
    "     \"Gordon\": {\n",
    "         \"Broken Bells\": 4.5,\n",
    "         \"Skrillex\": 4.0, \n",
    "         \"Adele\": 5.0,\n",
    "         \"Radiohead\": 5.0,\n",
    "         \"Tenacious D\": 4.5,\n",
    "         \"The Strokes\": 4.0,\n",
    "         \"Vampire Weekend\": 4.0\n",
    "     },\n",
    "     \"Veronica\": {\n",
    "         \"Tame Impala\": 3.0, \n",
    "         \"Adele\": 5.0,\n",
    "         \"Radiohead\": 4.0, \n",
    "         \"Tenacious D\": 2.5, \n",
    "         \"The Strokes\": 3.0\n",
    "          },\n",
    "     \"Clara\": {\n",
    "         \"Tame Impala\": 4.75, \n",
    "         \"Adele\": 4.5,\n",
    "         \"Radiohead\": 5.0, \n",
    "         \"The Strokes\": 4.25,\n",
    "         \"Jay-Z\": 4\n",
    "    },\n",
    "     \"Robert\": {\n",
    "         \"Tame Impala\": 4.0, \n",
    "         \"Adele\": 3.0,\n",
    "         \"Radiohead\": 5.0, \n",
    "         \"The Strokes\": 2.0,\n",
    "         \"Jay-Z\": 1.0\n",
    "     }\n",
    "}\n",
    "\n",
    "print(\"Our python dictionary has data for {} people in it\".format(len(customers)))"
   ]
  },
  {
   "cell_type": "markdown",
   "metadata": {},
   "source": [
    "<span style=\"font-weight:bold; color:green;\">&rarr; Print out the data for Veronica to check your customer data is loaded in correctly:<span/>"
   ]
  },
  {
   "cell_type": "code",
   "execution_count": 2,
   "metadata": {},
   "outputs": [
    {
     "name": "stdout",
     "output_type": "stream",
     "text": [
      "{'Tame Impala': 3.0, 'Adele': 5.0, 'Radiohead': 4.0, 'Tenacious D': 2.5, 'The Strokes': 3.0}\n"
     ]
    }
   ],
   "source": [
    "print(customers[\"Veronica\"])"
   ]
  },
  {
   "cell_type": "markdown",
   "metadata": {},
   "source": [
    "Veronica appears to be a big Adele fan.\n",
    "\n",
    "### Task 6b: Taking a peek at the customer ratings\n",
    "Now python dictionaries are fine, but we've got used to being able to manipulate data in pandas. It's very easy to convert into that format, so let's do that below, and have a look at our customer ratings in a nice neat table\n",
    "\n",
    "<span style=\"font-weight:bold; color:green;\">&rarr; run the following code to create a pandas DataFrame representation:<span/>"
   ]
  },
  {
   "cell_type": "code",
   "execution_count": 3,
   "metadata": {},
   "outputs": [
    {
     "data": {
      "text/html": [
       "<div>\n",
       "<style scoped>\n",
       "    .dataframe tbody tr th:only-of-type {\n",
       "        vertical-align: middle;\n",
       "    }\n",
       "\n",
       "    .dataframe tbody tr th {\n",
       "        vertical-align: top;\n",
       "    }\n",
       "\n",
       "    .dataframe thead th {\n",
       "        text-align: right;\n",
       "    }\n",
       "</style>\n",
       "<table border=\"1\" class=\"dataframe\">\n",
       "  <thead>\n",
       "    <tr style=\"text-align: right;\">\n",
       "      <th></th>\n",
       "      <th>Tame Impala</th>\n",
       "      <th>Broken Bells</th>\n",
       "      <th>Adele</th>\n",
       "      <th>Radiohead</th>\n",
       "      <th>Tenacious D</th>\n",
       "      <th>The Strokes</th>\n",
       "      <th>Skrillex</th>\n",
       "      <th>Vampire Weekend</th>\n",
       "      <th>Jay-Z</th>\n",
       "    </tr>\n",
       "  </thead>\n",
       "  <tbody>\n",
       "    <tr>\n",
       "      <th>Andrew</th>\n",
       "      <td>5.00</td>\n",
       "      <td>2.0</td>\n",
       "      <td>3.0</td>\n",
       "      <td>5.0</td>\n",
       "      <td>4.0</td>\n",
       "      <td>5.00</td>\n",
       "      <td>NaN</td>\n",
       "      <td>NaN</td>\n",
       "      <td>NaN</td>\n",
       "    </tr>\n",
       "    <tr>\n",
       "      <th>Chan</th>\n",
       "      <td>5.00</td>\n",
       "      <td>1.0</td>\n",
       "      <td>3.0</td>\n",
       "      <td>5.0</td>\n",
       "      <td>1.0</td>\n",
       "      <td>NaN</td>\n",
       "      <td>1.0</td>\n",
       "      <td>NaN</td>\n",
       "      <td>NaN</td>\n",
       "    </tr>\n",
       "    <tr>\n",
       "      <th>Clara</th>\n",
       "      <td>4.75</td>\n",
       "      <td>NaN</td>\n",
       "      <td>4.5</td>\n",
       "      <td>5.0</td>\n",
       "      <td>NaN</td>\n",
       "      <td>4.25</td>\n",
       "      <td>NaN</td>\n",
       "      <td>NaN</td>\n",
       "      <td>4.0</td>\n",
       "    </tr>\n",
       "    <tr>\n",
       "      <th>Dan</th>\n",
       "      <td>3.00</td>\n",
       "      <td>4.0</td>\n",
       "      <td>NaN</td>\n",
       "      <td>3.0</td>\n",
       "      <td>4.5</td>\n",
       "      <td>4.00</td>\n",
       "      <td>4.5</td>\n",
       "      <td>2.0</td>\n",
       "      <td>NaN</td>\n",
       "    </tr>\n",
       "    <tr>\n",
       "      <th>Gavin</th>\n",
       "      <td>2.00</td>\n",
       "      <td>3.5</td>\n",
       "      <td>NaN</td>\n",
       "      <td>2.0</td>\n",
       "      <td>3.5</td>\n",
       "      <td>NaN</td>\n",
       "      <td>4.0</td>\n",
       "      <td>3.0</td>\n",
       "      <td>NaN</td>\n",
       "    </tr>\n",
       "    <tr>\n",
       "      <th>Gordon</th>\n",
       "      <td>NaN</td>\n",
       "      <td>4.5</td>\n",
       "      <td>5.0</td>\n",
       "      <td>5.0</td>\n",
       "      <td>4.5</td>\n",
       "      <td>4.00</td>\n",
       "      <td>4.0</td>\n",
       "      <td>4.0</td>\n",
       "      <td>NaN</td>\n",
       "    </tr>\n",
       "    <tr>\n",
       "      <th>Jennifer</th>\n",
       "      <td>3.50</td>\n",
       "      <td>2.0</td>\n",
       "      <td>4.5</td>\n",
       "      <td>5.0</td>\n",
       "      <td>1.5</td>\n",
       "      <td>2.50</td>\n",
       "      <td>NaN</td>\n",
       "      <td>2.0</td>\n",
       "      <td>NaN</td>\n",
       "    </tr>\n",
       "    <tr>\n",
       "      <th>Robert</th>\n",
       "      <td>4.00</td>\n",
       "      <td>NaN</td>\n",
       "      <td>3.0</td>\n",
       "      <td>5.0</td>\n",
       "      <td>NaN</td>\n",
       "      <td>2.00</td>\n",
       "      <td>NaN</td>\n",
       "      <td>NaN</td>\n",
       "      <td>1.0</td>\n",
       "    </tr>\n",
       "    <tr>\n",
       "      <th>Valerie</th>\n",
       "      <td>NaN</td>\n",
       "      <td>4.0</td>\n",
       "      <td>4.0</td>\n",
       "      <td>NaN</td>\n",
       "      <td>NaN</td>\n",
       "      <td>4.00</td>\n",
       "      <td>1.0</td>\n",
       "      <td>1.0</td>\n",
       "      <td>NaN</td>\n",
       "    </tr>\n",
       "    <tr>\n",
       "      <th>Veronica</th>\n",
       "      <td>3.00</td>\n",
       "      <td>NaN</td>\n",
       "      <td>5.0</td>\n",
       "      <td>4.0</td>\n",
       "      <td>2.5</td>\n",
       "      <td>3.00</td>\n",
       "      <td>NaN</td>\n",
       "      <td>NaN</td>\n",
       "      <td>NaN</td>\n",
       "    </tr>\n",
       "  </tbody>\n",
       "</table>\n",
       "</div>"
      ],
      "text/plain": [
       "          Tame Impala  Broken Bells  Adele  Radiohead  Tenacious D  \\\n",
       "Andrew           5.00           2.0    3.0        5.0          4.0   \n",
       "Chan             5.00           1.0    3.0        5.0          1.0   \n",
       "Clara            4.75           NaN    4.5        5.0          NaN   \n",
       "Dan              3.00           4.0    NaN        3.0          4.5   \n",
       "Gavin            2.00           3.5    NaN        2.0          3.5   \n",
       "Gordon            NaN           4.5    5.0        5.0          4.5   \n",
       "Jennifer         3.50           2.0    4.5        5.0          1.5   \n",
       "Robert           4.00           NaN    3.0        5.0          NaN   \n",
       "Valerie           NaN           4.0    4.0        NaN          NaN   \n",
       "Veronica         3.00           NaN    5.0        4.0          2.5   \n",
       "\n",
       "          The Strokes  Skrillex  Vampire Weekend  Jay-Z  \n",
       "Andrew           5.00       NaN              NaN    NaN  \n",
       "Chan              NaN       1.0              NaN    NaN  \n",
       "Clara            4.25       NaN              NaN    4.0  \n",
       "Dan              4.00       4.5              2.0    NaN  \n",
       "Gavin             NaN       4.0              3.0    NaN  \n",
       "Gordon           4.00       4.0              4.0    NaN  \n",
       "Jennifer         2.50       NaN              2.0    NaN  \n",
       "Robert           2.00       NaN              NaN    1.0  \n",
       "Valerie          4.00       1.0              1.0    NaN  \n",
       "Veronica         3.00       NaN              NaN    NaN  "
      ]
     },
     "execution_count": 3,
     "metadata": {},
     "output_type": "execute_result"
    }
   ],
   "source": [
    "import pandas\n",
    "data = pandas.DataFrame.from_dict(customers, orient=\"index\")\n",
    "data"
   ]
  },
  {
   "cell_type": "markdown",
   "metadata": {},
   "source": [
    "Ther are two things worthy of note here:\n",
    "1. Pandas used every artist name it saw and generated a colum for it - if a customer hadn't rated a particular artist then a NaN flag (\"Not a Number\") was put in instead.\n",
    "2. While our data doesn't actually have a field for a customer's name, pandas has used that information for the 'index' of the table. This is a bit like a row number, but in a label format.\n",
    "\n",
    "We can list these labels as follows:"
   ]
  },
  {
   "cell_type": "code",
   "execution_count": 4,
   "metadata": {},
   "outputs": [
    {
     "data": {
      "text/plain": [
       "Index(['Andrew', 'Chan', 'Clara', 'Dan', 'Gavin', 'Gordon', 'Jennifer',\n",
       "       'Robert', 'Valerie', 'Veronica'],\n",
       "      dtype='object')"
      ]
     },
     "execution_count": 4,
     "metadata": {},
     "output_type": "execute_result"
    }
   ],
   "source": [
    "data.index"
   ]
  },
  {
   "cell_type": "markdown",
   "metadata": {},
   "source": [
    "Having an index for each row can be very useful - for examp, to get at an individual users rating we can use the **loc[]** command and using their index, such as:"
   ]
  },
  {
   "cell_type": "code",
   "execution_count": 5,
   "metadata": {},
   "outputs": [
    {
     "data": {
      "text/plain": [
       "Tame Impala        5.0\n",
       "Broken Bells       2.0\n",
       "Adele              3.0\n",
       "Radiohead          5.0\n",
       "Tenacious D        4.0\n",
       "The Strokes        5.0\n",
       "Skrillex           NaN\n",
       "Vampire Weekend    NaN\n",
       "Jay-Z              NaN\n",
       "Name: Andrew, dtype: float64"
      ]
     },
     "execution_count": 5,
     "metadata": {},
     "output_type": "execute_result"
    }
   ],
   "source": [
    "data.loc['Andrew'] "
   ]
  },
  {
   "cell_type": "markdown",
   "metadata": {},
   "source": [
    "<span style=\"font-weight:bold; color:green;\">&rarr; print out the data for \"Gavin\":<span/>"
   ]
  },
  {
   "cell_type": "code",
   "execution_count": 6,
   "metadata": {},
   "outputs": [
    {
     "name": "stdout",
     "output_type": "stream",
     "text": [
      "Tame Impala        2.0\n",
      "Broken Bells       3.5\n",
      "Adele              NaN\n",
      "Radiohead          2.0\n",
      "Tenacious D        3.5\n",
      "The Strokes        NaN\n",
      "Skrillex           4.0\n",
      "Vampire Weekend    3.0\n",
      "Jay-Z              NaN\n",
      "Name: Gavin, dtype: float64\n"
     ]
    }
   ],
   "source": [
    "print(data.loc['Gavin'])"
   ]
  },
  {
   "cell_type": "markdown",
   "metadata": {},
   "source": [
    "### Task 6c: Finding which customers are similar to each other\n",
    "At the heard of any recommendation system, is finding similarities between either products (content-based recommendation) or customers (user-based recommendation). Let's focus on customers - what does it mean to say that two customers are similar (and hence one customer's purchases might be good recommendations for another?).\n",
    "\n",
    "Well, commonalities between their ratings seems like a good place to start. Pandas again makes us easy to do this:\n",
    "\n",
    "<span style=\"font-weight:bold; color:green;\">&rarr; Consider the code below that finds the difference between two customers:<span/>"
   ]
  },
  {
   "cell_type": "code",
   "execution_count": 7,
   "metadata": {},
   "outputs": [
    {
     "data": {
      "text/plain": [
       "Tame Impala       -3.0\n",
       "Broken Bells       1.5\n",
       "Adele              NaN\n",
       "Radiohead         -3.0\n",
       "Tenacious D       -0.5\n",
       "The Strokes        NaN\n",
       "Skrillex           NaN\n",
       "Vampire Weekend    NaN\n",
       "Jay-Z              NaN\n",
       "dtype: float64"
      ]
     },
     "execution_count": 7,
     "metadata": {},
     "output_type": "execute_result"
    }
   ],
   "source": [
    "data.loc['Gavin'] - data.loc['Andrew']"
   ]
  },
  {
   "cell_type": "markdown",
   "metadata": {},
   "source": [
    "What have we done here? Well we've actually taken one vector (Gavin's) and deducted another (Andrews's) from it. Hopefully this use of vectors to represent information will remind you of our text analytics week.\n",
    "\n",
    "What happens if we make these differences absolute (positive) and add them together? Well we have an old friend - manhattan distance!\n",
    "\n",
    "<span style=\"font-weight:bold; color:green;\">&rarr; Adjust the previous difference calculation by wrapping the result in np.abs()</span>"
   ]
  },
  {
   "cell_type": "code",
   "execution_count": 5,
   "metadata": {},
   "outputs": [
    {
     "name": "stdout",
     "output_type": "stream",
     "text": [
      "Tame Impala        3.0\n",
      "Broken Bells       1.5\n",
      "Adele              NaN\n",
      "Radiohead          3.0\n",
      "Tenacious D        0.5\n",
      "The Strokes        NaN\n",
      "Skrillex           NaN\n",
      "Vampire Weekend    NaN\n",
      "Jay-Z              NaN\n",
      "dtype: float64\n"
     ]
    }
   ],
   "source": [
    "import numpy as np\n",
    "\n",
    "difference = np.abs(data.loc['Gavin'] - data.loc['Andrew'])\n",
    "print(difference)"
   ]
  },
  {
   "cell_type": "markdown",
   "metadata": {},
   "source": [
    "<span style=\"font-weight:bold; color:green;\">&rarr; Find the difference between Andrew and Gavin's preferences by taking the difference calculated above and using np.sum()</span>"
   ]
  },
  {
   "cell_type": "code",
   "execution_count": 6,
   "metadata": {},
   "outputs": [
    {
     "name": "stdout",
     "output_type": "stream",
     "text": [
      "Andrew and Gavin are 8.0 apart\n"
     ]
    }
   ],
   "source": [
    "distance = np.sum(difference)\n",
    "print(\"Andrew and Gavin are {} apart\".format(distance))"
   ]
  },
  {
   "cell_type": "markdown",
   "metadata": {},
   "source": [
    "Now we don't want to type in all of the above every time we want to compare two customers, so let's create a function that will speed things up for us:\n",
    "\n",
    "<span style=\"font-weight:bold; color:green;\">&rarr; examine the following code, and make sure you understand what it is doing</span>"
   ]
  },
  {
   "cell_type": "code",
   "execution_count": 7,
   "metadata": {},
   "outputs": [
    {
     "data": {
      "text/plain": [
       "8.0"
      ]
     },
     "execution_count": 7,
     "metadata": {},
     "output_type": "execute_result"
    }
   ],
   "source": [
    "def manhattan_distance(user1, user2):\n",
    "    difference = np.abs(user1 - user2)\n",
    "    distance = np.sum(difference)\n",
    "    return distance\n",
    "\n",
    "manhattan_distance(data.loc['Andrew'], data.loc['Gavin'])\n"
   ]
  },
  {
   "cell_type": "markdown",
   "metadata": {},
   "source": [
    "Of course we know this is only one option - we could have created a euclidian version too. \n",
    "\n",
    "<span style=\"font-weight:bold; color:green;\">&rarr; OPTIONAL CHALLENGE - create a version of the above function, that calculates the euclidian distance between two customersexamine</span>"
   ]
  },
  {
   "cell_type": "code",
   "execution_count": 8,
   "metadata": {},
   "outputs": [
    {
     "data": {
      "text/plain": [
       "4.527692569068709"
      ]
     },
     "execution_count": 8,
     "metadata": {},
     "output_type": "execute_result"
    }
   ],
   "source": [
    "def euclidian_distance(user1, user2):\n",
    "    #-- square the differences between each user's rating\n",
    "    difference = np.square(user1 - user2)\n",
    "    \n",
    "    #-- add the squared differences together\n",
    "    distance = np.sum(difference)\n",
    "    \n",
    "    #-- and return the square root of that sum!\n",
    "    sqrt_result = np.sqrt(distance)\n",
    "    return sqrt_result\n",
    "    \n",
    "#-- test out the result by looking at the euclidian distance \n",
    "#-- between customers Andrew and Gavin\n",
    "euclidian_distance(data.loc['Andrew'], data.loc['Gavin'])"
   ]
  },
  {
   "cell_type": "markdown",
   "metadata": {},
   "source": [
    "### Task 6d: A flaw in our thinking?\n",
    "There is a subtle issue here that is occurring - the fact that some people don't have a rating at all means that it is just not included in our calculations. Let's quickly explore wht this means. To do this first finding the difference between Hailey and Gordon...\n",
    "\n",
    "<span style=\"font-weight:bold; color:green;\">&rarr; Use pen and paper to work out the manhattan distance between Valeria and Veronica</span>\n"
   ]
  },
  {
   "cell_type": "code",
   "execution_count": 12,
   "metadata": {},
   "outputs": [
    {
     "data": {
      "text/html": [
       "<div>\n",
       "<style>\n",
       "    .dataframe thead tr:only-child th {\n",
       "        text-align: right;\n",
       "    }\n",
       "\n",
       "    .dataframe thead th {\n",
       "        text-align: left;\n",
       "    }\n",
       "\n",
       "    .dataframe tbody tr th {\n",
       "        vertical-align: top;\n",
       "    }\n",
       "</style>\n",
       "<table border=\"1\" class=\"dataframe\">\n",
       "  <thead>\n",
       "    <tr style=\"text-align: right;\">\n",
       "      <th></th>\n",
       "      <th>Tame Impala</th>\n",
       "      <th>Broken Bells</th>\n",
       "      <th>Adele</th>\n",
       "      <th>Radiohead</th>\n",
       "      <th>Tenacious D</th>\n",
       "      <th>The Strokes</th>\n",
       "      <th>Skrillex</th>\n",
       "      <th>Vampire Weekend</th>\n",
       "      <th>Jay-Z</th>\n",
       "    </tr>\n",
       "  </thead>\n",
       "  <tbody>\n",
       "    <tr>\n",
       "      <th>Valerie</th>\n",
       "      <td>NaN</td>\n",
       "      <td>4.0</td>\n",
       "      <td>4.0</td>\n",
       "      <td>NaN</td>\n",
       "      <td>NaN</td>\n",
       "      <td>4.0</td>\n",
       "      <td>1.0</td>\n",
       "      <td>1.0</td>\n",
       "      <td>NaN</td>\n",
       "    </tr>\n",
       "    <tr>\n",
       "      <th>Veronica</th>\n",
       "      <td>3.0</td>\n",
       "      <td>NaN</td>\n",
       "      <td>5.0</td>\n",
       "      <td>4.0</td>\n",
       "      <td>2.5</td>\n",
       "      <td>3.0</td>\n",
       "      <td>NaN</td>\n",
       "      <td>NaN</td>\n",
       "      <td>NaN</td>\n",
       "    </tr>\n",
       "  </tbody>\n",
       "</table>\n",
       "</div>"
      ],
      "text/plain": [
       "          Tame Impala  Broken Bells  Adele  Radiohead  Tenacious D  \\\n",
       "Valerie           NaN           4.0    4.0        NaN          NaN   \n",
       "Veronica          3.0           NaN    5.0        4.0          2.5   \n",
       "\n",
       "          The Strokes  Skrillex  Vampire Weekend  Jay-Z  \n",
       "Valerie           4.0       1.0              1.0    NaN  \n",
       "Veronica          3.0       NaN              NaN    NaN  "
      ]
     },
     "execution_count": 12,
     "metadata": {},
     "output_type": "execute_result"
    }
   ],
   "source": [
    "data.loc[['Valerie','Veronica']]"
   ]
  },
  {
   "cell_type": "markdown",
   "metadata": {},
   "source": [
    "What result did you get? Notice that you just had to ignore any field that didn't have a rating for both customer's. How does this compare to the distance between Andrew and GAvin?\n",
    "\n",
    "<span style=\"font-weight:bold; color:green;\">&rarr; Use pen and paper to work out the manhattan distance between Andrew and Gavin</span>"
   ]
  },
  {
   "cell_type": "code",
   "execution_count": 13,
   "metadata": {},
   "outputs": [
    {
     "data": {
      "text/html": [
       "<div>\n",
       "<style>\n",
       "    .dataframe thead tr:only-child th {\n",
       "        text-align: right;\n",
       "    }\n",
       "\n",
       "    .dataframe thead th {\n",
       "        text-align: left;\n",
       "    }\n",
       "\n",
       "    .dataframe tbody tr th {\n",
       "        vertical-align: top;\n",
       "    }\n",
       "</style>\n",
       "<table border=\"1\" class=\"dataframe\">\n",
       "  <thead>\n",
       "    <tr style=\"text-align: right;\">\n",
       "      <th></th>\n",
       "      <th>Tame Impala</th>\n",
       "      <th>Broken Bells</th>\n",
       "      <th>Adele</th>\n",
       "      <th>Radiohead</th>\n",
       "      <th>Tenacious D</th>\n",
       "      <th>The Strokes</th>\n",
       "      <th>Skrillex</th>\n",
       "      <th>Vampire Weekend</th>\n",
       "      <th>Jay-Z</th>\n",
       "    </tr>\n",
       "  </thead>\n",
       "  <tbody>\n",
       "    <tr>\n",
       "      <th>Andrew</th>\n",
       "      <td>5.0</td>\n",
       "      <td>2.0</td>\n",
       "      <td>3.0</td>\n",
       "      <td>5.0</td>\n",
       "      <td>4.0</td>\n",
       "      <td>5.0</td>\n",
       "      <td>NaN</td>\n",
       "      <td>NaN</td>\n",
       "      <td>NaN</td>\n",
       "    </tr>\n",
       "    <tr>\n",
       "      <th>Gavin</th>\n",
       "      <td>2.0</td>\n",
       "      <td>3.5</td>\n",
       "      <td>NaN</td>\n",
       "      <td>2.0</td>\n",
       "      <td>3.5</td>\n",
       "      <td>NaN</td>\n",
       "      <td>4.0</td>\n",
       "      <td>3.0</td>\n",
       "      <td>NaN</td>\n",
       "    </tr>\n",
       "  </tbody>\n",
       "</table>\n",
       "</div>"
      ],
      "text/plain": [
       "        Tame Impala  Broken Bells  Adele  Radiohead  Tenacious D  The Strokes  \\\n",
       "Andrew          5.0           2.0    3.0        5.0          4.0          5.0   \n",
       "Gavin           2.0           3.5    NaN        2.0          3.5          NaN   \n",
       "\n",
       "        Skrillex  Vampire Weekend  Jay-Z  \n",
       "Andrew       NaN              NaN    NaN  \n",
       "Gavin        4.0              3.0    NaN  "
      ]
     },
     "execution_count": 13,
     "metadata": {},
     "output_type": "execute_result"
    }
   ],
   "source": [
    "data.loc[['Andrew','Gavin']]"
   ]
  },
  {
   "cell_type": "code",
   "execution_count": 9,
   "metadata": {},
   "outputs": [
    {
     "data": {
      "text/plain": [
       "8.0"
      ]
     },
     "execution_count": 9,
     "metadata": {},
     "output_type": "execute_result"
    }
   ],
   "source": [
    "manhattan_distance(data.loc['Andrew'], data.loc['Gavin'])"
   ]
  },
  {
   "cell_type": "code",
   "execution_count": 10,
   "metadata": {},
   "outputs": [
    {
     "data": {
      "text/plain": [
       "2.0"
      ]
     },
     "execution_count": 10,
     "metadata": {},
     "output_type": "execute_result"
    }
   ],
   "source": [
    "manhattan_distance(data.loc['Valerie'], data.loc['Veronica'])"
   ]
  },
  {
   "cell_type": "markdown",
   "metadata": {},
   "source": [
    "Who are closest - Andrew and Gavin, or Valerie and Veronica?\n",
    "\n",
    "We have found a potential flaw here, that occurs when using distance measures with real world data with all it's missing values. \n",
    "When we compute the distance between Valerie and Veronica, they only had two artists in common (Adele and The Strokes), whereas when we computed the distance between Gavin and Andrew there are lots - so they just innately are going to have a higher manhattan distance, as we are working it out in more dimensions. This seems to skew our distance measurements.\n",
    "\n",
    "Manhattan Distance and Euclidean Distance work best when there are no missing values. Dealing with missing values is an active area of research, and in a bit we will talk about how to deal with this problem. For now just be aware of the flaw as we continue our first exploration into building a recommendation platform."
   ]
  },
  {
   "cell_type": "markdown",
   "metadata": {},
   "source": [
    "### Task 6e: Finding the distances between all customers\n",
    "Ok, you should be capable at this point in your studies (with a bit of time, some frustrating debugging and a following wind) to be able to create a table that lists the distances between each customer. \n",
    "\n",
    "But time is short so instead, please examine the following code I've created for you to do just this:"
   ]
  },
  {
   "cell_type": "code",
   "execution_count": 14,
   "metadata": {},
   "outputs": [
    {
     "data": {
      "text/html": [
       "<div>\n",
       "<style>\n",
       "    .dataframe thead tr:only-child th {\n",
       "        text-align: right;\n",
       "    }\n",
       "\n",
       "    .dataframe thead th {\n",
       "        text-align: left;\n",
       "    }\n",
       "\n",
       "    .dataframe tbody tr th {\n",
       "        vertical-align: top;\n",
       "    }\n",
       "</style>\n",
       "<table border=\"1\" class=\"dataframe\">\n",
       "  <thead>\n",
       "    <tr style=\"text-align: right;\">\n",
       "      <th></th>\n",
       "      <th>Andrew</th>\n",
       "      <th>Chan</th>\n",
       "      <th>Clara</th>\n",
       "      <th>Dan</th>\n",
       "      <th>Gavin</th>\n",
       "      <th>Gordon</th>\n",
       "      <th>Jennifer</th>\n",
       "      <th>Robert</th>\n",
       "      <th>Valerie</th>\n",
       "      <th>Veronica</th>\n",
       "    </tr>\n",
       "  </thead>\n",
       "  <tbody>\n",
       "    <tr>\n",
       "      <th>Andrew</th>\n",
       "      <td>NaN</td>\n",
       "      <td>4.00</td>\n",
       "      <td>2.50</td>\n",
       "      <td>7.5</td>\n",
       "      <td>8.00</td>\n",
       "      <td>6.00</td>\n",
       "      <td>8.0</td>\n",
       "      <td>4.0</td>\n",
       "      <td>4.00</td>\n",
       "      <td>8.5</td>\n",
       "    </tr>\n",
       "    <tr>\n",
       "      <th>Chan</th>\n",
       "      <td>4.0</td>\n",
       "      <td>NaN</td>\n",
       "      <td>1.75</td>\n",
       "      <td>14.0</td>\n",
       "      <td>14.00</td>\n",
       "      <td>12.00</td>\n",
       "      <td>4.5</td>\n",
       "      <td>1.0</td>\n",
       "      <td>4.00</td>\n",
       "      <td>6.5</td>\n",
       "    </tr>\n",
       "    <tr>\n",
       "      <th>Clara</th>\n",
       "      <td>2.5</td>\n",
       "      <td>1.75</td>\n",
       "      <td>NaN</td>\n",
       "      <td>4.0</td>\n",
       "      <td>5.75</td>\n",
       "      <td>0.75</td>\n",
       "      <td>3.0</td>\n",
       "      <td>7.5</td>\n",
       "      <td>0.75</td>\n",
       "      <td>4.5</td>\n",
       "    </tr>\n",
       "    <tr>\n",
       "      <th>Dan</th>\n",
       "      <td>7.5</td>\n",
       "      <td>14.00</td>\n",
       "      <td>4.00</td>\n",
       "      <td>NaN</td>\n",
       "      <td>5.00</td>\n",
       "      <td>5.00</td>\n",
       "      <td>9.0</td>\n",
       "      <td>5.0</td>\n",
       "      <td>4.50</td>\n",
       "      <td>4.0</td>\n",
       "    </tr>\n",
       "    <tr>\n",
       "      <th>Gavin</th>\n",
       "      <td>8.0</td>\n",
       "      <td>14.00</td>\n",
       "      <td>5.75</td>\n",
       "      <td>5.0</td>\n",
       "      <td>NaN</td>\n",
       "      <td>6.00</td>\n",
       "      <td>9.0</td>\n",
       "      <td>5.0</td>\n",
       "      <td>5.50</td>\n",
       "      <td>4.0</td>\n",
       "    </tr>\n",
       "    <tr>\n",
       "      <th>Gordon</th>\n",
       "      <td>6.0</td>\n",
       "      <td>12.00</td>\n",
       "      <td>0.75</td>\n",
       "      <td>5.0</td>\n",
       "      <td>6.00</td>\n",
       "      <td>NaN</td>\n",
       "      <td>9.5</td>\n",
       "      <td>4.0</td>\n",
       "      <td>7.50</td>\n",
       "      <td>4.0</td>\n",
       "    </tr>\n",
       "    <tr>\n",
       "      <th>Jennifer</th>\n",
       "      <td>8.0</td>\n",
       "      <td>4.50</td>\n",
       "      <td>3.00</td>\n",
       "      <td>9.0</td>\n",
       "      <td>9.00</td>\n",
       "      <td>9.50</td>\n",
       "      <td>NaN</td>\n",
       "      <td>2.5</td>\n",
       "      <td>5.00</td>\n",
       "      <td>3.5</td>\n",
       "    </tr>\n",
       "    <tr>\n",
       "      <th>Robert</th>\n",
       "      <td>4.0</td>\n",
       "      <td>1.00</td>\n",
       "      <td>7.50</td>\n",
       "      <td>5.0</td>\n",
       "      <td>5.00</td>\n",
       "      <td>4.00</td>\n",
       "      <td>2.5</td>\n",
       "      <td>NaN</td>\n",
       "      <td>3.00</td>\n",
       "      <td>5.0</td>\n",
       "    </tr>\n",
       "    <tr>\n",
       "      <th>Valerie</th>\n",
       "      <td>4.0</td>\n",
       "      <td>4.00</td>\n",
       "      <td>0.75</td>\n",
       "      <td>4.5</td>\n",
       "      <td>5.50</td>\n",
       "      <td>7.50</td>\n",
       "      <td>5.0</td>\n",
       "      <td>3.0</td>\n",
       "      <td>NaN</td>\n",
       "      <td>2.0</td>\n",
       "    </tr>\n",
       "    <tr>\n",
       "      <th>Veronica</th>\n",
       "      <td>8.5</td>\n",
       "      <td>6.50</td>\n",
       "      <td>4.50</td>\n",
       "      <td>4.0</td>\n",
       "      <td>4.00</td>\n",
       "      <td>4.00</td>\n",
       "      <td>3.5</td>\n",
       "      <td>5.0</td>\n",
       "      <td>2.00</td>\n",
       "      <td>NaN</td>\n",
       "    </tr>\n",
       "  </tbody>\n",
       "</table>\n",
       "</div>"
      ],
      "text/plain": [
       "          Andrew   Chan  Clara   Dan  Gavin  Gordon  Jennifer  Robert  \\\n",
       "Andrew       NaN   4.00   2.50   7.5   8.00    6.00       8.0     4.0   \n",
       "Chan         4.0    NaN   1.75  14.0  14.00   12.00       4.5     1.0   \n",
       "Clara        2.5   1.75    NaN   4.0   5.75    0.75       3.0     7.5   \n",
       "Dan          7.5  14.00   4.00   NaN   5.00    5.00       9.0     5.0   \n",
       "Gavin        8.0  14.00   5.75   5.0    NaN    6.00       9.0     5.0   \n",
       "Gordon       6.0  12.00   0.75   5.0   6.00     NaN       9.5     4.0   \n",
       "Jennifer     8.0   4.50   3.00   9.0   9.00    9.50       NaN     2.5   \n",
       "Robert       4.0   1.00   7.50   5.0   5.00    4.00       2.5     NaN   \n",
       "Valerie      4.0   4.00   0.75   4.5   5.50    7.50       5.0     3.0   \n",
       "Veronica     8.5   6.50   4.50   4.0   4.00    4.00       3.5     5.0   \n",
       "\n",
       "          Valerie  Veronica  \n",
       "Andrew       4.00       8.5  \n",
       "Chan         4.00       6.5  \n",
       "Clara        0.75       4.5  \n",
       "Dan          4.50       4.0  \n",
       "Gavin        5.50       4.0  \n",
       "Gordon       7.50       4.0  \n",
       "Jennifer     5.00       3.5  \n",
       "Robert       3.00       5.0  \n",
       "Valerie       NaN       2.0  \n",
       "Veronica     2.00       NaN  "
      ]
     },
     "execution_count": 14,
     "metadata": {},
     "output_type": "execute_result"
    }
   ],
   "source": [
    "user_distances = {}\n",
    "\n",
    "#-- loop through all of the customers\n",
    "for i in data.index:\n",
    "    distances = {}\n",
    "    \n",
    "    #-- for the current customer loop through the others\n",
    "    for j in data.index:        \n",
    "        \n",
    "        #-- if they are different people calculate and store their distance \n",
    "        if i != j:\n",
    "            distances[j] = manhattan_distance(data.loc[i],data.loc[j])\n",
    "        #-- otherwise just add a \"not-a-number\" in the results table\n",
    "        else:\n",
    "            distances[j] = np.NaN\n",
    "            \n",
    "    #-- add the current customers differences to our final results \n",
    "    user_distances[i] = distances\n",
    "\n",
    "#-- cast the results as a pandas dataframe\n",
    "user_distances = pandas.DataFrame.from_dict(user_distances, orient=\"index\")\n",
    "user_distances"
   ]
  },
  {
   "cell_type": "markdown",
   "metadata": {},
   "source": [
    "Let's concentrate on getting some recommendations for Valerie. To do this we need to pick a customer that is similar. Reading off the table above you can probably see that Veronica is closest in her tasters to Clara, but we can do this in python using the \"sort_values()\" function:\n",
    "\n"
   ]
  },
  {
   "cell_type": "code",
   "execution_count": 15,
   "metadata": {},
   "outputs": [
    {
     "data": {
      "text/plain": [
       "Clara       0.75\n",
       "Veronica    2.00\n",
       "Robert      3.00\n",
       "Andrew      4.00\n",
       "Chan        4.00\n",
       "Dan         4.50\n",
       "Jennifer    5.00\n",
       "Gavin       5.50\n",
       "Gordon      7.50\n",
       "Valerie      NaN\n",
       "Name: Valerie, dtype: float64"
      ]
     },
     "execution_count": 15,
     "metadata": {},
     "output_type": "execute_result"
    }
   ],
   "source": [
    "user_distances.loc[\"Valerie\"].sort_values()"
   ]
  },
  {
   "cell_type": "markdown",
   "metadata": {
    "collapsed": true
   },
   "source": [
    "To make some recommendations to Valerie we need to know what Clara likes. We do this as follows:"
   ]
  },
  {
   "cell_type": "code",
   "execution_count": 16,
   "metadata": {},
   "outputs": [
    {
     "data": {
      "text/html": [
       "<div>\n",
       "<style>\n",
       "    .dataframe thead tr:only-child th {\n",
       "        text-align: right;\n",
       "    }\n",
       "\n",
       "    .dataframe thead th {\n",
       "        text-align: left;\n",
       "    }\n",
       "\n",
       "    .dataframe tbody tr th {\n",
       "        vertical-align: top;\n",
       "    }\n",
       "</style>\n",
       "<table border=\"1\" class=\"dataframe\">\n",
       "  <thead>\n",
       "    <tr style=\"text-align: right;\">\n",
       "      <th></th>\n",
       "      <th>Tame Impala</th>\n",
       "      <th>Broken Bells</th>\n",
       "      <th>Adele</th>\n",
       "      <th>Radiohead</th>\n",
       "      <th>Tenacious D</th>\n",
       "      <th>The Strokes</th>\n",
       "      <th>Skrillex</th>\n",
       "      <th>Vampire Weekend</th>\n",
       "      <th>Jay-Z</th>\n",
       "    </tr>\n",
       "  </thead>\n",
       "  <tbody>\n",
       "    <tr>\n",
       "      <th>Clara</th>\n",
       "      <td>4.75</td>\n",
       "      <td>NaN</td>\n",
       "      <td>4.5</td>\n",
       "      <td>5.0</td>\n",
       "      <td>NaN</td>\n",
       "      <td>4.25</td>\n",
       "      <td>NaN</td>\n",
       "      <td>NaN</td>\n",
       "      <td>4.0</td>\n",
       "    </tr>\n",
       "  </tbody>\n",
       "</table>\n",
       "</div>"
      ],
      "text/plain": [
       "       Tame Impala  Broken Bells  Adele  Radiohead  Tenacious D  The Strokes  \\\n",
       "Clara         4.75           NaN    4.5        5.0          NaN         4.25   \n",
       "\n",
       "       Skrillex  Vampire Weekend  Jay-Z  \n",
       "Clara       NaN              NaN    4.0  "
      ]
     },
     "execution_count": 16,
     "metadata": {},
     "output_type": "execute_result"
    }
   ],
   "source": [
    "#-- sort valeries distances, and keep the closest one\n",
    "closest = user_distances.loc[\"Valerie\"].sort_values()[:1]\n",
    "\n",
    "#-- extract Clara's scores from our original data\n",
    "closest_scores = data.loc[closest.index]\n",
    "closest_scores\n"
   ]
  },
  {
   "cell_type": "markdown",
   "metadata": {},
   "source": [
    "### Task 6F: Making a recommendation\n",
    "Given this data, what would you recommend? Well, we aren't going to recommend something that Valerie has already bought - rather we look where she has a \"NaN\" and find which of those Clara (someone with similar tastes) votes highly. Here is Valerie's data together with Clara's to help you pick:"
   ]
  },
  {
   "cell_type": "code",
   "execution_count": 17,
   "metadata": {},
   "outputs": [
    {
     "data": {
      "text/html": [
       "<div>\n",
       "<style>\n",
       "    .dataframe thead tr:only-child th {\n",
       "        text-align: right;\n",
       "    }\n",
       "\n",
       "    .dataframe thead th {\n",
       "        text-align: left;\n",
       "    }\n",
       "\n",
       "    .dataframe tbody tr th {\n",
       "        vertical-align: top;\n",
       "    }\n",
       "</style>\n",
       "<table border=\"1\" class=\"dataframe\">\n",
       "  <thead>\n",
       "    <tr style=\"text-align: right;\">\n",
       "      <th></th>\n",
       "      <th>Tame Impala</th>\n",
       "      <th>Broken Bells</th>\n",
       "      <th>Adele</th>\n",
       "      <th>Radiohead</th>\n",
       "      <th>Tenacious D</th>\n",
       "      <th>The Strokes</th>\n",
       "      <th>Skrillex</th>\n",
       "      <th>Vampire Weekend</th>\n",
       "      <th>Jay-Z</th>\n",
       "    </tr>\n",
       "  </thead>\n",
       "  <tbody>\n",
       "    <tr>\n",
       "      <th>Valerie</th>\n",
       "      <td>NaN</td>\n",
       "      <td>4.0</td>\n",
       "      <td>4.0</td>\n",
       "      <td>NaN</td>\n",
       "      <td>NaN</td>\n",
       "      <td>4.00</td>\n",
       "      <td>1.0</td>\n",
       "      <td>1.0</td>\n",
       "      <td>NaN</td>\n",
       "    </tr>\n",
       "    <tr>\n",
       "      <th>Clara</th>\n",
       "      <td>4.75</td>\n",
       "      <td>NaN</td>\n",
       "      <td>4.5</td>\n",
       "      <td>5.0</td>\n",
       "      <td>NaN</td>\n",
       "      <td>4.25</td>\n",
       "      <td>NaN</td>\n",
       "      <td>NaN</td>\n",
       "      <td>4.0</td>\n",
       "    </tr>\n",
       "  </tbody>\n",
       "</table>\n",
       "</div>"
      ],
      "text/plain": [
       "         Tame Impala  Broken Bells  Adele  Radiohead  Tenacious D  \\\n",
       "Valerie          NaN           4.0    4.0        NaN          NaN   \n",
       "Clara           4.75           NaN    4.5        5.0          NaN   \n",
       "\n",
       "         The Strokes  Skrillex  Vampire Weekend  Jay-Z  \n",
       "Valerie         4.00       1.0              1.0    NaN  \n",
       "Clara           4.25       NaN              NaN    4.0  "
      ]
     },
     "execution_count": 17,
     "metadata": {},
     "output_type": "execute_result"
    }
   ],
   "source": [
    " data.loc[[\"Valerie\", \"Clara\"]]"
   ]
  },
  {
   "cell_type": "markdown",
   "metadata": {},
   "source": [
    "Well I picked \"Pheonix\" - Valerie hasn't bought any of their music, and Clara though they were great. So either via a direct mail, or a message on a till receipt, or an offer voucher the business can now leverage this information to try and make a sale!\n",
    "\n",
    "Note however, this is a very limited viewpoint - maybe it was a quirk that Clara liked \"Pheonix\". Perhaps we should have used a bigger 'neighbourhood' and found a few more people who were simlar to Valerie and merged their results?\n"
   ]
  },
  {
   "cell_type": "code",
   "execution_count": 18,
   "metadata": {},
   "outputs": [
    {
     "data": {
      "text/html": [
       "<div>\n",
       "<style>\n",
       "    .dataframe thead tr:only-child th {\n",
       "        text-align: right;\n",
       "    }\n",
       "\n",
       "    .dataframe thead th {\n",
       "        text-align: left;\n",
       "    }\n",
       "\n",
       "    .dataframe tbody tr th {\n",
       "        vertical-align: top;\n",
       "    }\n",
       "</style>\n",
       "<table border=\"1\" class=\"dataframe\">\n",
       "  <thead>\n",
       "    <tr style=\"text-align: right;\">\n",
       "      <th></th>\n",
       "      <th>Tame Impala</th>\n",
       "      <th>Broken Bells</th>\n",
       "      <th>Adele</th>\n",
       "      <th>Radiohead</th>\n",
       "      <th>Tenacious D</th>\n",
       "      <th>The Strokes</th>\n",
       "      <th>Skrillex</th>\n",
       "      <th>Vampire Weekend</th>\n",
       "      <th>Jay-Z</th>\n",
       "    </tr>\n",
       "  </thead>\n",
       "  <tbody>\n",
       "    <tr>\n",
       "      <th>Clara</th>\n",
       "      <td>4.75</td>\n",
       "      <td>NaN</td>\n",
       "      <td>4.5</td>\n",
       "      <td>5.0</td>\n",
       "      <td>NaN</td>\n",
       "      <td>4.25</td>\n",
       "      <td>NaN</td>\n",
       "      <td>NaN</td>\n",
       "      <td>4.0</td>\n",
       "    </tr>\n",
       "    <tr>\n",
       "      <th>Veronica</th>\n",
       "      <td>3.00</td>\n",
       "      <td>NaN</td>\n",
       "      <td>5.0</td>\n",
       "      <td>4.0</td>\n",
       "      <td>2.5</td>\n",
       "      <td>3.00</td>\n",
       "      <td>NaN</td>\n",
       "      <td>NaN</td>\n",
       "      <td>NaN</td>\n",
       "    </tr>\n",
       "    <tr>\n",
       "      <th>Robert</th>\n",
       "      <td>4.00</td>\n",
       "      <td>NaN</td>\n",
       "      <td>3.0</td>\n",
       "      <td>5.0</td>\n",
       "      <td>NaN</td>\n",
       "      <td>2.00</td>\n",
       "      <td>NaN</td>\n",
       "      <td>NaN</td>\n",
       "      <td>1.0</td>\n",
       "    </tr>\n",
       "  </tbody>\n",
       "</table>\n",
       "</div>"
      ],
      "text/plain": [
       "          Tame Impala  Broken Bells  Adele  Radiohead  Tenacious D  \\\n",
       "Clara            4.75           NaN    4.5        5.0          NaN   \n",
       "Veronica         3.00           NaN    5.0        4.0          2.5   \n",
       "Robert           4.00           NaN    3.0        5.0          NaN   \n",
       "\n",
       "          The Strokes  Skrillex  Vampire Weekend  Jay-Z  \n",
       "Clara            4.25       NaN              NaN    4.0  \n",
       "Veronica         3.00       NaN              NaN    NaN  \n",
       "Robert           2.00       NaN              NaN    1.0  "
      ]
     },
     "execution_count": 18,
     "metadata": {},
     "output_type": "execute_result"
    }
   ],
   "source": [
    "#-- sort valeries distances, and keep the closest three this time!\n",
    "closest = user_distances.loc[\"Valerie\"].sort_values()[:3]\n",
    "\n",
    "#-- extract the scores for these 3 people from our original data\n",
    "closest_scores = data.loc[closest.index]\n",
    "closest_scores\n"
   ]
  },
  {
   "cell_type": "markdown",
   "metadata": {},
   "source": [
    "This time we want to take the mean of all these similar people's ratings, as this will give as smoothed picture of what Valerie might like:"
   ]
  },
  {
   "cell_type": "code",
   "execution_count": 19,
   "metadata": {},
   "outputs": [
    {
     "data": {
      "text/plain": [
       "Tame Impala        3.916667\n",
       "Broken Bells            NaN\n",
       "Adele              4.166667\n",
       "Radiohead          4.666667\n",
       "Tenacious D        2.500000\n",
       "The Strokes        3.083333\n",
       "Skrillex                NaN\n",
       "Vampire Weekend         NaN\n",
       "Jay-Z              2.500000\n",
       "dtype: float64"
      ]
     },
     "execution_count": 19,
     "metadata": {},
     "output_type": "execute_result"
    }
   ],
   "source": [
    "recommendations = np.mean(closest_scores)\n",
    "recommendations"
   ]
  },
  {
   "cell_type": "markdown",
   "metadata": {},
   "source": [
    "Let's put these predictions for what Valerie will like in descending order, and get rid of the bands for which noone had made any purchases (and which hence had an NaN)"
   ]
  },
  {
   "cell_type": "code",
   "execution_count": 20,
   "metadata": {},
   "outputs": [
    {
     "name": "stdout",
     "output_type": "stream",
     "text": [
      "Radiohead      4.666667\n",
      "Adele          4.166667\n",
      "Tame Impala    3.916667\n",
      "The Strokes    3.083333\n",
      "Jay-Z          2.500000\n",
      "Tenacious D    2.500000\n",
      "dtype: float64\n"
     ]
    }
   ],
   "source": [
    "recommendations = recommendations.sort_values(ascending=False).dropna()\n",
    "print(recommendations)"
   ]
  },
  {
   "cell_type": "markdown",
   "metadata": {},
   "source": [
    "One final step remains. To see which of these Valerie hasn't bought before. This time let's automate the process to drop out our final recommendations"
   ]
  },
  {
   "cell_type": "code",
   "execution_count": 21,
   "metadata": {},
   "outputs": [
    {
     "name": "stdout",
     "output_type": "stream",
     "text": [
      "Radiohead      4.666667\n",
      "Tame Impala    3.916667\n",
      "Jay-Z          2.500000\n",
      "Tenacious D    2.500000\n",
      "dtype: float64\n"
     ]
    }
   ],
   "source": [
    "# loop around every band\n",
    "for r in recommendations.index:\n",
    "    \n",
    "    #-- check if Valerie has never bought and rated this band's music before\n",
    "    if data.loc[\"Valerie\"][r] >= 0:\n",
    "        \n",
    "        #-- and if so remove it from our recommendations\n",
    "        recommendations = recommendations.drop(r)\n",
    "\n",
    "#-- leaving us with our final results, in order of what we'd recommend \n",
    "print(recommendations)\n"
   ]
  },
  {
   "cell_type": "markdown",
   "metadata": {},
   "source": [
    "We still recommend \"Radiohead\" but are less confident this time. Maybe we should also see if Valerie would like to give Tame Impala a try (as should you!)."
   ]
  },
  {
   "cell_type": "markdown",
   "metadata": {},
   "source": [
    "### Task 6g: The sparsity problem - Cosine Similarity to the rescue\n",
    "Remember we noted that our similarity measures were very dependent on how many items two people had in column - more so in fact than what they rated those items. Time to fix this with cosine similarity, which you should recall from the Week 4 lecture slides.\n",
    "\n",
    "The rows in our tables are essentially vectors, and we can measure the angle between two vectors to see how similar they are. Crucially this calculation - the cosine similarity - is **not** dependent on the **number** of items two people have in common, and so is preferable when we have sparse datasets. This tends to be the case in two scenarios - text and consumer purchases - so exactly what we need here. \n",
    "\n",
    "\n",
    "Find below a replacement function for the one we created for manhattan distance:"
   ]
  },
  {
   "cell_type": "code",
   "execution_count": 22,
   "metadata": {
    "collapsed": true
   },
   "outputs": [],
   "source": [
    "def cosine_distance(user1, user2):\n",
    "    dot_product = np.sum(user1 * user2)\n",
    "    norm1 = np.sqrt(np.sum(np.square(user1)))\n",
    "    norm2 = np.sqrt(np.sum(np.square(user2)))\n",
    "    return dot_product / (norm1 * norm2)\n"
   ]
  },
  {
   "cell_type": "markdown",
   "metadata": {},
   "source": [
    "<span style=\"font-weight:bold; color:green;\">&rarr; Recalculate the user distances table this time using this function for cosine similarity (and referring to the code in task 6d)</span>"
   ]
  },
  {
   "cell_type": "code",
   "execution_count": 23,
   "metadata": {},
   "outputs": [
    {
     "data": {
      "text/html": [
       "<div>\n",
       "<style>\n",
       "    .dataframe thead tr:only-child th {\n",
       "        text-align: right;\n",
       "    }\n",
       "\n",
       "    .dataframe thead th {\n",
       "        text-align: left;\n",
       "    }\n",
       "\n",
       "    .dataframe tbody tr th {\n",
       "        vertical-align: top;\n",
       "    }\n",
       "</style>\n",
       "<table border=\"1\" class=\"dataframe\">\n",
       "  <thead>\n",
       "    <tr style=\"text-align: right;\">\n",
       "      <th></th>\n",
       "      <th>Andrew</th>\n",
       "      <th>Chan</th>\n",
       "      <th>Clara</th>\n",
       "      <th>Dan</th>\n",
       "      <th>Gavin</th>\n",
       "      <th>Gordon</th>\n",
       "      <th>Jennifer</th>\n",
       "      <th>Robert</th>\n",
       "      <th>Valerie</th>\n",
       "      <th>Veronica</th>\n",
       "    </tr>\n",
       "  </thead>\n",
       "  <tbody>\n",
       "    <tr>\n",
       "      <th>Andrew</th>\n",
       "      <td>NaN</td>\n",
       "      <td>0.809470</td>\n",
       "      <td>0.811215</td>\n",
       "      <td>0.766622</td>\n",
       "      <td>0.530192</td>\n",
       "      <td>0.724899</td>\n",
       "      <td>0.894823</td>\n",
       "      <td>0.846217</td>\n",
       "      <td>0.554700</td>\n",
       "      <td>0.910446</td>\n",
       "    </tr>\n",
       "    <tr>\n",
       "      <th>Chan</th>\n",
       "      <td>0.809470</td>\n",
       "      <td>NaN</td>\n",
       "      <td>0.783267</td>\n",
       "      <td>0.561768</td>\n",
       "      <td>0.519197</td>\n",
       "      <td>0.571946</td>\n",
       "      <td>0.878426</td>\n",
       "      <td>0.924733</td>\n",
       "      <td>0.305329</td>\n",
       "      <td>0.825417</td>\n",
       "    </tr>\n",
       "    <tr>\n",
       "      <th>Clara</th>\n",
       "      <td>0.811215</td>\n",
       "      <td>0.783267</td>\n",
       "      <td>NaN</td>\n",
       "      <td>0.471370</td>\n",
       "      <td>0.254781</td>\n",
       "      <td>0.543001</td>\n",
       "      <td>0.835004</td>\n",
       "      <td>0.935153</td>\n",
       "      <td>0.490399</td>\n",
       "      <td>0.852434</td>\n",
       "    </tr>\n",
       "    <tr>\n",
       "      <th>Dan</th>\n",
       "      <td>0.766622</td>\n",
       "      <td>0.561768</td>\n",
       "      <td>0.471370</td>\n",
       "      <td>NaN</td>\n",
       "      <td>0.891961</td>\n",
       "      <td>0.832577</td>\n",
       "      <td>0.648736</td>\n",
       "      <td>0.485479</td>\n",
       "      <td>0.560093</td>\n",
       "      <td>0.563517</td>\n",
       "    </tr>\n",
       "    <tr>\n",
       "      <th>Gavin</th>\n",
       "      <td>0.530192</td>\n",
       "      <td>0.519197</td>\n",
       "      <td>0.254781</td>\n",
       "      <td>0.891961</td>\n",
       "      <td>NaN</td>\n",
       "      <td>0.778800</td>\n",
       "      <td>0.540393</td>\n",
       "      <td>0.320079</td>\n",
       "      <td>0.391652</td>\n",
       "      <td>0.371413</td>\n",
       "    </tr>\n",
       "    <tr>\n",
       "      <th>Gordon</th>\n",
       "      <td>0.724899</td>\n",
       "      <td>0.571946</td>\n",
       "      <td>0.543001</td>\n",
       "      <td>0.832577</td>\n",
       "      <td>0.778800</td>\n",
       "      <td>NaN</td>\n",
       "      <td>0.802569</td>\n",
       "      <td>0.549965</td>\n",
       "      <td>0.745044</td>\n",
       "      <td>0.717939</td>\n",
       "    </tr>\n",
       "    <tr>\n",
       "      <th>Jennifer</th>\n",
       "      <td>0.894823</td>\n",
       "      <td>0.878426</td>\n",
       "      <td>0.835004</td>\n",
       "      <td>0.648736</td>\n",
       "      <td>0.540393</td>\n",
       "      <td>0.802569</td>\n",
       "      <td>NaN</td>\n",
       "      <td>0.901303</td>\n",
       "      <td>0.624716</td>\n",
       "      <td>0.924628</td>\n",
       "    </tr>\n",
       "    <tr>\n",
       "      <th>Robert</th>\n",
       "      <td>0.846217</td>\n",
       "      <td>0.924733</td>\n",
       "      <td>0.935153</td>\n",
       "      <td>0.485479</td>\n",
       "      <td>0.320079</td>\n",
       "      <td>0.549965</td>\n",
       "      <td>0.901303</td>\n",
       "      <td>NaN</td>\n",
       "      <td>0.381385</td>\n",
       "      <td>0.884717</td>\n",
       "    </tr>\n",
       "    <tr>\n",
       "      <th>Valerie</th>\n",
       "      <td>0.554700</td>\n",
       "      <td>0.305329</td>\n",
       "      <td>0.490399</td>\n",
       "      <td>0.560093</td>\n",
       "      <td>0.391652</td>\n",
       "      <td>0.745044</td>\n",
       "      <td>0.624716</td>\n",
       "      <td>0.381385</td>\n",
       "      <td>NaN</td>\n",
       "      <td>0.560241</td>\n",
       "    </tr>\n",
       "    <tr>\n",
       "      <th>Veronica</th>\n",
       "      <td>0.910446</td>\n",
       "      <td>0.825417</td>\n",
       "      <td>0.852434</td>\n",
       "      <td>0.563517</td>\n",
       "      <td>0.371413</td>\n",
       "      <td>0.717939</td>\n",
       "      <td>0.924628</td>\n",
       "      <td>0.884717</td>\n",
       "      <td>0.560241</td>\n",
       "      <td>NaN</td>\n",
       "    </tr>\n",
       "  </tbody>\n",
       "</table>\n",
       "</div>"
      ],
      "text/plain": [
       "            Andrew      Chan     Clara       Dan     Gavin    Gordon  \\\n",
       "Andrew         NaN  0.809470  0.811215  0.766622  0.530192  0.724899   \n",
       "Chan      0.809470       NaN  0.783267  0.561768  0.519197  0.571946   \n",
       "Clara     0.811215  0.783267       NaN  0.471370  0.254781  0.543001   \n",
       "Dan       0.766622  0.561768  0.471370       NaN  0.891961  0.832577   \n",
       "Gavin     0.530192  0.519197  0.254781  0.891961       NaN  0.778800   \n",
       "Gordon    0.724899  0.571946  0.543001  0.832577  0.778800       NaN   \n",
       "Jennifer  0.894823  0.878426  0.835004  0.648736  0.540393  0.802569   \n",
       "Robert    0.846217  0.924733  0.935153  0.485479  0.320079  0.549965   \n",
       "Valerie   0.554700  0.305329  0.490399  0.560093  0.391652  0.745044   \n",
       "Veronica  0.910446  0.825417  0.852434  0.563517  0.371413  0.717939   \n",
       "\n",
       "          Jennifer    Robert   Valerie  Veronica  \n",
       "Andrew    0.894823  0.846217  0.554700  0.910446  \n",
       "Chan      0.878426  0.924733  0.305329  0.825417  \n",
       "Clara     0.835004  0.935153  0.490399  0.852434  \n",
       "Dan       0.648736  0.485479  0.560093  0.563517  \n",
       "Gavin     0.540393  0.320079  0.391652  0.371413  \n",
       "Gordon    0.802569  0.549965  0.745044  0.717939  \n",
       "Jennifer       NaN  0.901303  0.624716  0.924628  \n",
       "Robert    0.901303       NaN  0.381385  0.884717  \n",
       "Valerie   0.624716  0.381385       NaN  0.560241  \n",
       "Veronica  0.924628  0.884717  0.560241       NaN  "
      ]
     },
     "execution_count": 23,
     "metadata": {},
     "output_type": "execute_result"
    }
   ],
   "source": [
    "#-- generate new user_distances using cosine_distance rather than manhattan distance\n",
    "new_user_distances = {}\n",
    "\n",
    "#-- loop through all of the customers\n",
    "for i in data.index:\n",
    "    distances = {}\n",
    "    \n",
    "    #-- for the current customer loop through the others\n",
    "    for j in data.index:        \n",
    "        \n",
    "        #-- if they are different people calculate and store their distance \n",
    "        if i != j:\n",
    "            distances[j] = cosine_distance(data.loc[i],data.loc[j])\n",
    "        #-- otherwise just add a \"not-a-number\" in the results table\n",
    "        else:\n",
    "            distances[j] = np.NaN\n",
    "            \n",
    "    #-- add the current customers differences to our final results \n",
    "    new_user_distances[i] = distances\n",
    "\n",
    "#-- cast the results as a pandas dataframe\n",
    "new_user_distances = pandas.DataFrame.from_dict(new_user_distances, orient=\"index\")\n",
    "new_user_distances\n",
    "\n"
   ]
  },
  {
   "cell_type": "markdown",
   "metadata": {},
   "source": [
    "<span style=\"font-weight:bold; color:green;\">&rarr; Recalculate your recommendations for Valerie based on our new table</span>"
   ]
  },
  {
   "cell_type": "code",
   "execution_count": 24,
   "metadata": {},
   "outputs": [
    {
     "data": {
      "text/html": [
       "<div>\n",
       "<style>\n",
       "    .dataframe thead tr:only-child th {\n",
       "        text-align: right;\n",
       "    }\n",
       "\n",
       "    .dataframe thead th {\n",
       "        text-align: left;\n",
       "    }\n",
       "\n",
       "    .dataframe tbody tr th {\n",
       "        vertical-align: top;\n",
       "    }\n",
       "</style>\n",
       "<table border=\"1\" class=\"dataframe\">\n",
       "  <thead>\n",
       "    <tr style=\"text-align: right;\">\n",
       "      <th></th>\n",
       "      <th>Tame Impala</th>\n",
       "      <th>Broken Bells</th>\n",
       "      <th>Adele</th>\n",
       "      <th>Radiohead</th>\n",
       "      <th>Tenacious D</th>\n",
       "      <th>The Strokes</th>\n",
       "      <th>Skrillex</th>\n",
       "      <th>Vampire Weekend</th>\n",
       "      <th>Jay-Z</th>\n",
       "    </tr>\n",
       "  </thead>\n",
       "  <tbody>\n",
       "    <tr>\n",
       "      <th>Chan</th>\n",
       "      <td>5.0</td>\n",
       "      <td>1.0</td>\n",
       "      <td>3.0</td>\n",
       "      <td>5.0</td>\n",
       "      <td>1.0</td>\n",
       "      <td>NaN</td>\n",
       "      <td>1.0</td>\n",
       "      <td>NaN</td>\n",
       "      <td>NaN</td>\n",
       "    </tr>\n",
       "    <tr>\n",
       "      <th>Robert</th>\n",
       "      <td>4.0</td>\n",
       "      <td>NaN</td>\n",
       "      <td>3.0</td>\n",
       "      <td>5.0</td>\n",
       "      <td>NaN</td>\n",
       "      <td>2.0</td>\n",
       "      <td>NaN</td>\n",
       "      <td>NaN</td>\n",
       "      <td>1.0</td>\n",
       "    </tr>\n",
       "    <tr>\n",
       "      <th>Gavin</th>\n",
       "      <td>2.0</td>\n",
       "      <td>3.5</td>\n",
       "      <td>NaN</td>\n",
       "      <td>2.0</td>\n",
       "      <td>3.5</td>\n",
       "      <td>NaN</td>\n",
       "      <td>4.0</td>\n",
       "      <td>3.0</td>\n",
       "      <td>NaN</td>\n",
       "    </tr>\n",
       "  </tbody>\n",
       "</table>\n",
       "</div>"
      ],
      "text/plain": [
       "        Tame Impala  Broken Bells  Adele  Radiohead  Tenacious D  The Strokes  \\\n",
       "Chan            5.0           1.0    3.0        5.0          1.0          NaN   \n",
       "Robert          4.0           NaN    3.0        5.0          NaN          2.0   \n",
       "Gavin           2.0           3.5    NaN        2.0          3.5          NaN   \n",
       "\n",
       "        Skrillex  Vampire Weekend  Jay-Z  \n",
       "Chan         1.0              NaN    NaN  \n",
       "Robert       NaN              NaN    1.0  \n",
       "Gavin        4.0              3.0    NaN  "
      ]
     },
     "execution_count": 24,
     "metadata": {},
     "output_type": "execute_result"
    }
   ],
   "source": [
    "#-- sort valeries distances, and keep the closest three\n",
    "new_closest = new_user_distances.loc[\"Valerie\"].sort_values()[:3]\n",
    "\n",
    "#-- extract the scores for these 3 people from our original data\n",
    "new_closest_scores = data.loc[new_closest.index]\n",
    "new_closest_scores"
   ]
  },
  {
   "cell_type": "markdown",
   "metadata": {},
   "source": [
    "You should have found that now Chan, Robert and Gavin are the three closest customers to Valerie - this is a dramatic difference from before. Let's see what the consequences are for recommendations:"
   ]
  },
  {
   "cell_type": "code",
   "execution_count": 25,
   "metadata": {},
   "outputs": [
    {
     "name": "stdout",
     "output_type": "stream",
     "text": [
      "Radiohead          4.000000\n",
      "Tame Impala        3.666667\n",
      "Vampire Weekend    3.000000\n",
      "Adele              3.000000\n",
      "Skrillex           2.500000\n",
      "Tenacious D        2.250000\n",
      "Broken Bells       2.250000\n",
      "The Strokes        2.000000\n",
      "Jay-Z              1.000000\n",
      "dtype: float64\n"
     ]
    }
   ],
   "source": [
    "recommendations = np.mean(new_closest_scores).sort_values(ascending=False).dropna()\n",
    "print(recommendations)\n",
    "    "
   ]
  },
  {
   "cell_type": "markdown",
   "metadata": {},
   "source": [
    "However, we still get Radiohead as the winner, but Vampire Weekend have increased up the ranks and pipped Adele in our list. Well, I guess you can't keep good music down."
   ]
  },
  {
   "cell_type": "markdown",
   "metadata": {
    "collapsed": true
   },
   "source": [
    "## Conclusions\n",
    "\n",
    "Recommendation systems of this nature underpin an increasing amount of targeted marketing systems. There are many forms of variants of collaborative filtering\" of this nature - it is a huge and growing area of business research. \n",
    "\n",
    "There are also a couple of other popular distance measures - one example is the use of **\"pearson correlation\"** to compare between two people's ratings as this accounts for different tendencies in rating styles that people might have (some people may always rate highly in comparison to others, so while they appear far apart, their correlateion will actually be close). However, this still suffers from favouring people with more items to compare, so in most business domain cosine-similarity is preferred.\n",
    "\n"
   ]
  },
  {
   "cell_type": "code",
   "execution_count": null,
   "metadata": {
    "collapsed": true
   },
   "outputs": [],
   "source": []
  }
 ],
 "metadata": {
  "kernelspec": {
   "display_name": "Python 3",
   "language": "python",
   "name": "python3"
  },
  "language_info": {
   "codemirror_mode": {
    "name": "ipython",
    "version": 3
   },
   "file_extension": ".py",
   "mimetype": "text/x-python",
   "name": "python",
   "nbconvert_exporter": "python",
   "pygments_lexer": "ipython3",
   "version": "3.7.3"
  }
 },
 "nbformat": 4,
 "nbformat_minor": 2
}
