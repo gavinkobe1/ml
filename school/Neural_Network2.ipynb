{
 "cells": [
  {
   "cell_type": "markdown",
   "metadata": {
    "id": "pdCXtVBbXuCs"
   },
   "source": [
    "<p style=\"text-align: center;\">\n",
    "<big><big><big><b>Practical 7 & 8: Neural Networks</b></big></big></big>\n",
    "</p>\n",
    "\n",
    "### The task\n",
    "\n",
    "This practical we will consider predicting monthly (4 week) per household spend (low/med/high) using neural networks.\n",
    "\n",
    "### Data\n",
    "We will use data in the table:\n",
    "`transaction_data_small`\n",
    "\n",
    "\n",
    "### Data documentation\n",
    "The full documentation can be found [here](https://drive.google.com/file/d/1Ioozg-V5NJB5wDwoPXDhdZEbClABRZqd/view). Note the full data source [is avaliable onine](https://www.dunnhumby.com/careers/engineering/sourcefiles). However, please use the copy already loaded into your database."
   ]
  },
  {
   "cell_type": "markdown",
   "metadata": {
    "id": "ylxtxACIpSeI"
   },
   "source": [
    "---\n",
    "#**Part 1: Practical 7**\n",
    "---"
   ]
  },
  {
   "cell_type": "code",
   "execution_count": null,
   "metadata": {
    "id": "TDUq4Lx71XWs"
   },
   "outputs": [],
   "source": [
    "###############################################################################\n",
    "#####                     REQUIRED SETUP FOR GOOGLE COLAB               ######\n",
    "###############################################################################\n",
    "# if get_ipython().__class__.__module__ == \"google.colab._shell\":\n",
    "#  TensorFlow setup\n",
    "#  !pip -q install tensorflow==2.0.0-alpha0\n",
    "#  !pip -q install tensorflow-hub\n",
    "#  !pip -q install category_encoders"
   ]
  },
  {
   "cell_type": "code",
   "execution_count": 6,
   "metadata": {
    "id": "cIIO_utbpSeM"
   },
   "outputs": [],
   "source": [
    "import pandas as pd\n",
    "import numpy as np"
   ]
  },
  {
   "cell_type": "code",
   "execution_count": 7,
   "metadata": {
    "id": "8G9piQJfpSeN"
   },
   "outputs": [],
   "source": [
    "#Import data as pandas dataframe\n",
    "data = pd.read_csv('/content/drive/MyDrive/Colab Notebooks/transaction_data_small.csv', header = 0)"
   ]
  },
  {
   "cell_type": "code",
   "execution_count": 8,
   "metadata": {
    "id": "5kGg0Tq2pSeN"
   },
   "outputs": [],
   "source": [
    "def get_dataset(rd, tws = 28, ows =28):\n",
    "    #Select rows with DAY smaller than 7000 and group the data by 'household_key'\n",
    "    data2 = data[data['DAY'] <= 700].groupby('household_key')\n",
    "    df = pd.DataFrame(data2.apply(lambda x: x[x['DAY'] > rd][x['DAY'] <= rd+ows]['SALES_VALUE'].sum()).reset_index(name ='output_feature'))\n",
    "    df1 = pd.DataFrame(data2.apply(lambda x: x[x['DAY'] > rd-tws][x['DAY'] <= rd]['SALES_VALUE'].sum()).reset_index(name ='f1'))\n",
    "    df2 = pd.DataFrame(data2.apply(lambda x: x[x['DAY'] > rd-tws*2][x['DAY'] <= rd-tws]['SALES_VALUE'].sum()).reset_index(name ='f2'))\n",
    "    df3 = pd.DataFrame(data2.apply(lambda x: x[x['DAY'] > rd-tws*3][x['DAY'] <= rd-tws*2]['SALES_VALUE'].sum()).reset_index(name ='f3'))\n",
    "    df4 = pd.DataFrame(data2.apply(lambda x: x[x['DAY'] > rd-tws*4][x['DAY'] <= rd-tws*3]['SALES_VALUE'].sum()).reset_index(name ='f4'))\n",
    "    df5 = pd.DataFrame(data2.apply(lambda x: x[x['DAY'] > rd-tws*5][x['DAY'] <= rd-tws*4]['SALES_VALUE'].sum()).reset_index(name ='f5'))\n",
    "    df6 = pd.DataFrame(data2.apply(lambda x: x[x['DAY'] > rd-tws*6][x['DAY'] <= rd-tws*5]['SALES_VALUE'].sum()).reset_index(name ='f6'))\n",
    "    df7 = pd.DataFrame(data2.apply(lambda x: x[x['DAY'] > rd-tws*7][x['DAY'] <= rd-tws*6]['SALES_VALUE'].sum()).reset_index(name ='f7'))\n",
    "    df8 = pd.DataFrame(data2.apply(lambda x: x[x['DAY'] > rd-tws*8][x['DAY'] <= rd-tws*7]['SALES_VALUE'].sum()).reset_index(name ='f8'))\n",
    "    df9 = pd.DataFrame(data2.apply(lambda x: x[x['DAY'] > rd-tws*9][x['DAY'] <= rd-tws*8]['SALES_VALUE'].sum()).reset_index(name ='f9'))\n",
    "    df10 = pd.DataFrame(data2.apply(lambda x: x[x['DAY'] > rd-tws*10][x['DAY'] <= rd-tws*9]['SALES_VALUE'].sum()).reset_index(name ='f10'))\n",
    "    dfs = [df, df1, df2, df3, df4, df5, df6, df7, df8, df9, df10]\n",
    "    dfs = [df.set_index('household_key') for df in dfs]\n",
    "    df_join = dfs[0].join(dfs[1:])\n",
    "    return df_join.drop(columns = ['output_feature'], inplace = False), df_join.output_feature"
   ]
  },
  {
   "cell_type": "markdown",
   "metadata": {
    "id": "rIaG5cAKpSeQ"
   },
   "source": [
    "# Your Turn: Data loading and preparation\n",
    "\n",
    "## Task 1: Load a single hold-out test set, including a validation set.\n",
    "\n",
    "Recall there are 711 days in the data. However, we need all periods to be fully covered (there is very little data in the last 28 day period since only 11 days are within the data range). Therefore our effective data size is 700 days.\n",
    "\n",
    "The function, given a reference date in days, returns 10 tumbling window features, where each feature is an aggregate (SUM) over 28 days.\n",
    "The output feature is the aggregate over the 28 days immediatly proceeding the reference date. It only uses the first 700 days. \n",
    "\n",
    "If you still unsure how to do this ask and/or read this [story about Bob and Jane](https://docs.google.com/document/d/1wIZARovA8NXOJ2OBjAW7Lw5QjtovDHlLbdxl6VAMW0M/edit?usp=sharing).\n",
    "\n",
    "### Task 1a: Given the above information, select the reference date for the test set and create the variables X_test y_test\n",
    "\n",
    "### Task 1b: Given the above information, select the reference date for the validation set and create the variables X_valid y_valid\n",
    "\n",
    "### Task 1c: Select the the reference date for the training set and create the variables X_train, y_train\n"
   ]
  },
  {
   "cell_type": "code",
   "execution_count": 38,
   "metadata": {
    "colab": {
     "base_uri": "https://localhost:8080/"
    },
    "id": "9QVVgoPUpSeS",
    "outputId": "b4cef2e0-28ad-4fde-e180-4121f7df8bf5"
   },
   "outputs": [
    {
     "name": "stderr",
     "output_type": "stream",
     "text": [
      "/usr/local/lib/python3.7/dist-packages/ipykernel_launcher.py:4: UserWarning: Boolean Series key will be reindexed to match DataFrame index.\n",
      "  after removing the cwd from sys.path.\n",
      "/usr/local/lib/python3.7/dist-packages/ipykernel_launcher.py:5: UserWarning: Boolean Series key will be reindexed to match DataFrame index.\n",
      "  \"\"\"\n",
      "/usr/local/lib/python3.7/dist-packages/ipykernel_launcher.py:6: UserWarning: Boolean Series key will be reindexed to match DataFrame index.\n",
      "  \n",
      "/usr/local/lib/python3.7/dist-packages/ipykernel_launcher.py:7: UserWarning: Boolean Series key will be reindexed to match DataFrame index.\n",
      "  import sys\n",
      "/usr/local/lib/python3.7/dist-packages/ipykernel_launcher.py:8: UserWarning: Boolean Series key will be reindexed to match DataFrame index.\n",
      "  \n",
      "/usr/local/lib/python3.7/dist-packages/ipykernel_launcher.py:9: UserWarning: Boolean Series key will be reindexed to match DataFrame index.\n",
      "  if __name__ == '__main__':\n",
      "/usr/local/lib/python3.7/dist-packages/ipykernel_launcher.py:10: UserWarning: Boolean Series key will be reindexed to match DataFrame index.\n",
      "  # Remove the CWD from sys.path while we load stuff.\n",
      "/usr/local/lib/python3.7/dist-packages/ipykernel_launcher.py:11: UserWarning: Boolean Series key will be reindexed to match DataFrame index.\n",
      "  # This is added back by InteractiveShellApp.init_path()\n",
      "/usr/local/lib/python3.7/dist-packages/ipykernel_launcher.py:12: UserWarning: Boolean Series key will be reindexed to match DataFrame index.\n",
      "  if sys.path[0] == '':\n",
      "/usr/local/lib/python3.7/dist-packages/ipykernel_launcher.py:13: UserWarning: Boolean Series key will be reindexed to match DataFrame index.\n",
      "  del sys.path[0]\n",
      "/usr/local/lib/python3.7/dist-packages/ipykernel_launcher.py:14: UserWarning: Boolean Series key will be reindexed to match DataFrame index.\n",
      "  \n"
     ]
    }
   ],
   "source": [
    "# Task 1a\n",
    "# Test reference date should be 28 days (length output feature is aggregated over)\n",
    "# from the end date (700), therefore: 700-28 = 672\n",
    "# Note: we should also quickly check if we have enough data for the function to return\n",
    "#       10 historic months, i.e. 28*10 < 672 (which it is)\n",
    "X_test, y_test  = get_dataset(672)\n",
    "\n",
    "# Task 1b\n",
    "# Validation reference date should be 28 days (length output feature is aggregated over)\n",
    "# from the test reference date (672), therefore: 672-28 = 644\n",
    "# Note: we should also quickly check if we have enough data for the function to return\n",
    "#       10 historic months, i.e. 28*10 < 644 (which it is)\n",
    "X_valid, y_valid  = get_dataset(644)\n",
    "\n",
    "# Task 1c\n",
    "# Train reference date should be 28 days (length output feature is aggregated over)\n",
    "# from the test reference date (672), therefore: 644-28 = 616\n",
    "# Note: we should also quickly check if we have enough data for the function to return\n",
    "#       10 historic months, i.e. 28*10 < 616 (which it is)\n",
    "X_train, y_train  = get_dataset(616)"
   ]
  },
  {
   "cell_type": "markdown",
   "metadata": {
    "id": "IyRDLugrpSeT"
   },
   "source": [
    "## Task 2: Convert the output feature in the train, validation and test sets to be low/mid/high\n",
    "Use the following rules:\n",
    "low <= 30<br>\n",
    "30 < mid <= 100<br>\n",
    "high > 100\n",
    "\n"
   ]
  },
  {
   "cell_type": "code",
   "execution_count": 42,
   "metadata": {
    "id": "UvweiulXpSeU"
   },
   "outputs": [],
   "source": [
    "'''y_test[y_test <= 30] = 0\n",
    "y_test[ (y_test > 30) & (y_test <= 100) ] = 1\n",
    "y_test[y_test > 100] = 2\n",
    "\n",
    "y_train[y_train <= 30] = 0\n",
    "y_train[ (y_train > 30) & (y_train <= 100) ] = 1\n",
    "y_train[y_train > 100] = 2\n",
    "\n",
    "y_valid[y_valid <= 30] = 0\n",
    "y_valid[ (y_valid > 30) & (y_valid <= 100) ] = 1\n",
    "y_valid[y_valid > 100] = 2'''\n",
    "\n",
    "#or \n",
    "# Please only run this code once\n",
    "y_test = y_test.apply(lambda x:0 if x<=30 else (2 if x >100 else 1))\n",
    "y_train = y_train.apply(lambda x:0 if x<=30 else (2 if x >100 else 1))\n",
    "y_valid = y_valid.apply(lambda x:0 if x<=30 else (2 if x >100 else 1))\n"
   ]
  },
  {
   "cell_type": "code",
   "execution_count": 43,
   "metadata": {
    "colab": {
     "base_uri": "https://localhost:8080/"
    },
    "id": "GXwcmU81wl1-",
    "outputId": "0ec9c2ed-2393-4e49-a7e3-8070358ec35d"
   },
   "outputs": [
    {
     "name": "stdout",
     "output_type": "stream",
     "text": [
      "2    228\n",
      "0    165\n",
      "1    107\n",
      "Name: output_feature, dtype: int64\n",
      "2    227\n",
      "0    150\n",
      "1    123\n",
      "Name: output_feature, dtype: int64\n",
      "2    211\n",
      "0    167\n",
      "1    122\n",
      "Name: output_feature, dtype: int64\n"
     ]
    }
   ],
   "source": [
    "print(y_test.value_counts())\n",
    "print(y_train.value_counts())\n",
    "print(y_valid.value_counts())"
   ]
  },
  {
   "cell_type": "markdown",
   "metadata": {
    "id": "yMK9Vqc0pSeU"
   },
   "source": [
    "# Part 1\n",
    "## Task 3: Train a deep neural net (fully connected layers). Your choices:\n",
    "* Number of layers\n",
    "* Number of nodes per layer\n",
    "* Batch size\n",
    "* Number of iterations\n",
    "\n",
    "In all cases (for now) please:\n",
    "* use an **relu** activation function for all but the last layer\n",
    "* use a **softmax** activation function for the last layer\n",
    "* provide the labels as integers (rather than one hot encoding) \n",
    "* compile your model via:\n",
    "```\n",
    "model.compile(loss=\"sparse_categorical_crossentropy\",\n",
    "              optimizer=\"sgd\",\n",
    "              metrics=[\"sparse_categorical_accuracy\"])\n",
    "```\n",
    "\n",
    "**What's the best accuracy you can get on the validation set (at least 60% should be possible)?**\n",
    "\n",
    "Remember you can make a summary of your model and see a graphical representation via:\n",
    "```\n",
    "model.summary()\n",
    "keras.utils.plot_model(model, \"my_model.png\", show_shapes=True)\n",
    "```\n",
    "\n"
   ]
  },
  {
   "cell_type": "code",
   "execution_count": 44,
   "metadata": {
    "id": "hSgj4c_3pSeU"
   },
   "outputs": [],
   "source": [
    "from keras.models import Sequential\n",
    "from keras.layers import Dense\n",
    "from keras.utils import plot_model\n",
    "# if import plot_model unsuccessfully, please try the next code\n",
    "#from keras.utils.vis_utils import plot_model"
   ]
  },
  {
   "cell_type": "code",
   "execution_count": 45,
   "metadata": {
    "id": "5g2RME2-pSeV"
   },
   "outputs": [],
   "source": [
    "#this code is to randomness fix the randomness in the process\n",
    "#so we can get reproducible results (not 100%, but to reduce the variance in the rsults)\n",
    "#but it is totally up to whether to set this up\n",
    "from numpy.random import seed\n",
    "np.random.seed(1)\n",
    "\n",
    "from tensorflow import random\n",
    "random.set_seed(2)\n",
    "\n",
    "import random as rn\n",
    "rn.seed(1234)\n"
   ]
  },
  {
   "cell_type": "code",
   "execution_count": 46,
   "metadata": {
    "id": "26SeKNhLpSeV"
   },
   "outputs": [],
   "source": [
    "#set model \n",
    "model = Sequential([\n",
    "    Dense(5, input_shape = [10], activation=\"relu\"),\n",
    "    Dense(8, activation=\"relu\"),\n",
    "    Dense(3, activation=\"softmax\") #using softmax for last layer because the target is multiclass classification\n",
    "])"
   ]
  },
  {
   "cell_type": "code",
   "execution_count": 47,
   "metadata": {
    "colab": {
     "base_uri": "https://localhost:8080/"
    },
    "id": "4hCJxBNspSeV",
    "outputId": "6bc6faf9-dbed-412a-8780-23d6878ee6d5"
   },
   "outputs": [
    {
     "name": "stdout",
     "output_type": "stream",
     "text": [
      "Model: \"sequential_1\"\n",
      "_________________________________________________________________\n",
      " Layer (type)                Output Shape              Param #   \n",
      "=================================================================\n",
      " dense_3 (Dense)             (None, 5)                 55        \n",
      "                                                                 \n",
      " dense_4 (Dense)             (None, 8)                 48        \n",
      "                                                                 \n",
      " dense_5 (Dense)             (None, 3)                 27        \n",
      "                                                                 \n",
      "=================================================================\n",
      "Total params: 130\n",
      "Trainable params: 130\n",
      "Non-trainable params: 0\n",
      "_________________________________________________________________\n"
     ]
    }
   ],
   "source": [
    "model.summary()\n",
    "\n",
    "# The model summary shows:\n",
    "# - The layers and their order in the model.\n",
    "# - The output shape of each layer.\n",
    "# - The number of parameters (weights) in each layer.\n",
    "# - The total number of parameters (weights) in the model."
   ]
  },
  {
   "cell_type": "markdown",
   "metadata": {
    "id": "FdojwXaHpSeV"
   },
   "source": [
    "## install pydot and graphviz\n",
    "before you run the code below, you may need to install two extra packages: <b>\"pydot\"</b> and <b>\"graphviz\"</b>\n",
    "### step 0:\n",
    "using the code: `pip install pydot` to install pydot\n",
    "### step 1:\n",
    "<b>if you use Mac</b>\n",
    "\n",
    "step1.1\n",
    "\n",
    "you can run `brew install graphviz` to install graphviz(need homebrew to run brew command).\n",
    "if your system haven't installed homebrew yet, it will raise an error. You need to install homebrew first. Refer [here](https://brew.sh) for homebrew installation.\n",
    "\n",
    "<b>if you use Windows</b>, \n",
    "\n",
    "step1.1\n",
    "\n",
    "download the graphviz package [here](https://graphviz.org/download/#windows) and install it on your computer in some directory. \n",
    "\n",
    "step1.2\n",
    "\n",
    "Then you need to set the environment path. To do so, you can run the code below under the python environment:\n",
    "\n",
    "`import os`\n",
    "\n",
    "`os.environ['PATH'] = os.pathsep + r'C:\\Program Files (x86)\\Graphviz2.38\\bin' (you need replace the directory in this code to where your have installed the graphviz)`"
   ]
  },
  {
   "cell_type": "code",
   "execution_count": 48,
   "metadata": {
    "colab": {
     "base_uri": "https://localhost:8080/",
     "height": 422
    },
    "id": "OAfw-uKipSeW",
    "outputId": "2306fddb-6bbe-4ad9-e047-c36d8fb1672a"
   },
   "outputs": [
    {
     "data": {
      "image/png": "[encoded data removed]",
      "text/plain": [
       "<IPython.core.display.Image object>"
      ]
     },
     "execution_count": 48,
     "metadata": {},
     "output_type": "execute_result"
    }
   ],
   "source": [
    "#create model picture\n",
    "\n",
    "plot_model(model, \"my_model.png\", show_shapes=True, show_layer_names=True)"
   ]
  },
  {
   "cell_type": "code",
   "execution_count": 49,
   "metadata": {
    "id": "HnIMwGqlpSeW"
   },
   "outputs": [],
   "source": [
    "#compile model\n",
    "model.compile(loss=\"sparse_categorical_crossentropy\",\n",
    "            optimizer=\"sgd\" , #stochastic gradient descent\n",
    "            metrics=[\"sparse_categorical_accuracy\"])"
   ]
  },
  {
   "cell_type": "code",
   "execution_count": 50,
   "metadata": {
    "colab": {
     "base_uri": "https://localhost:8080/"
    },
    "id": "88aYt2ZJpSeW",
    "outputId": "701679ed-916c-4827-efd9-19ad8c03da32"
   },
   "outputs": [
    {
     "name": "stdout",
     "output_type": "stream",
     "text": [
      "Epoch 1/400\n",
      "10/10 [==============================] - 1s 21ms/step - loss: 19.6535 - sparse_categorical_accuracy: 0.4040 - val_loss: 1.2281 - val_sparse_categorical_accuracy: 0.4300\n",
      "Epoch 2/400\n",
      "10/10 [==============================] - 0s 7ms/step - loss: 1.1437 - sparse_categorical_accuracy: 0.4680 - val_loss: 1.1492 - val_sparse_categorical_accuracy: 0.4320\n",
      "Epoch 3/400\n",
      "10/10 [==============================] - 0s 7ms/step - loss: 1.1017 - sparse_categorical_accuracy: 0.4660 - val_loss: 1.1280 - val_sparse_categorical_accuracy: 0.4340\n",
      "Epoch 4/400\n",
      "10/10 [==============================] - 0s 7ms/step - loss: 1.0848 - sparse_categorical_accuracy: 0.4660 - val_loss: 1.1201 - val_sparse_categorical_accuracy: 0.4340\n",
      "Epoch 5/400\n",
      "10/10 [==============================] - 0s 7ms/step - loss: 1.0802 - sparse_categorical_accuracy: 0.4680 - val_loss: 1.1173 - val_sparse_categorical_accuracy: 0.4340\n",
      "Epoch 6/400\n",
      "10/10 [==============================] - 0s 7ms/step - loss: 1.0776 - sparse_categorical_accuracy: 0.4680 - val_loss: 1.1153 - val_sparse_categorical_accuracy: 0.4320\n",
      "Epoch 7/400\n",
      "10/10 [==============================] - 0s 6ms/step - loss: 1.0753 - sparse_categorical_accuracy: 0.4680 - val_loss: 1.1130 - val_sparse_categorical_accuracy: 0.4320\n",
      "Epoch 8/400\n",
      "10/10 [==============================] - 0s 7ms/step - loss: 1.0731 - sparse_categorical_accuracy: 0.4680 - val_loss: 1.1110 - val_sparse_categorical_accuracy: 0.4320\n",
      "Epoch 9/400\n",
      "10/10 [==============================] - 0s 5ms/step - loss: 1.0711 - sparse_categorical_accuracy: 0.4680 - val_loss: 1.1094 - val_sparse_categorical_accuracy: 0.4320\n",
      "Epoch 10/400\n",
      "10/10 [==============================] - 0s 5ms/step - loss: 1.0695 - sparse_categorical_accuracy: 0.4680 - val_loss: 1.1078 - val_sparse_categorical_accuracy: 0.4300\n",
      "Epoch 11/400\n",
      "10/10 [==============================] - 0s 6ms/step - loss: 1.0679 - sparse_categorical_accuracy: 0.4680 - val_loss: 1.1068 - val_sparse_categorical_accuracy: 0.4320\n",
      "Epoch 12/400\n",
      "10/10 [==============================] - 0s 6ms/step - loss: 1.0667 - sparse_categorical_accuracy: 0.4660 - val_loss: 1.1060 - val_sparse_categorical_accuracy: 0.4280\n",
      "Epoch 13/400\n",
      "10/10 [==============================] - 0s 6ms/step - loss: 1.0637 - sparse_categorical_accuracy: 0.4700 - val_loss: 1.1052 - val_sparse_categorical_accuracy: 0.4280\n",
      "Epoch 14/400\n",
      "10/10 [==============================] - 0s 6ms/step - loss: 1.0624 - sparse_categorical_accuracy: 0.4680 - val_loss: 1.1043 - val_sparse_categorical_accuracy: 0.4280\n",
      "Epoch 15/400\n",
      "10/10 [==============================] - 0s 6ms/step - loss: 1.0612 - sparse_categorical_accuracy: 0.4660 - val_loss: 1.1035 - val_sparse_categorical_accuracy: 0.4280\n",
      "Epoch 16/400\n",
      "10/10 [==============================] - 0s 5ms/step - loss: 1.0601 - sparse_categorical_accuracy: 0.4660 - val_loss: 1.1029 - val_sparse_categorical_accuracy: 0.4300\n",
      "Epoch 17/400\n",
      "10/10 [==============================] - 0s 9ms/step - loss: 1.0592 - sparse_categorical_accuracy: 0.4660 - val_loss: 1.1023 - val_sparse_categorical_accuracy: 0.4280\n",
      "Epoch 18/400\n",
      "10/10 [==============================] - 0s 7ms/step - loss: 1.0579 - sparse_categorical_accuracy: 0.4660 - val_loss: 1.1022 - val_sparse_categorical_accuracy: 0.4300\n",
      "Epoch 19/400\n",
      "10/10 [==============================] - 0s 6ms/step - loss: 1.0567 - sparse_categorical_accuracy: 0.4660 - val_loss: 1.1016 - val_sparse_categorical_accuracy: 0.4300\n",
      "Epoch 20/400\n",
      "10/10 [==============================] - 0s 7ms/step - loss: 1.0557 - sparse_categorical_accuracy: 0.4660 - val_loss: 1.1011 - val_sparse_categorical_accuracy: 0.4280\n",
      "Epoch 21/400\n",
      "10/10 [==============================] - 0s 7ms/step - loss: 1.0548 - sparse_categorical_accuracy: 0.4660 - val_loss: 1.1010 - val_sparse_categorical_accuracy: 0.4300\n",
      "Epoch 22/400\n",
      "10/10 [==============================] - 0s 7ms/step - loss: 1.0540 - sparse_categorical_accuracy: 0.4660 - val_loss: 1.1008 - val_sparse_categorical_accuracy: 0.4300\n",
      "Epoch 23/400\n",
      "10/10 [==============================] - 0s 6ms/step - loss: 1.0533 - sparse_categorical_accuracy: 0.4660 - val_loss: 1.1005 - val_sparse_categorical_accuracy: 0.4300\n",
      "Epoch 24/400\n",
      "10/10 [==============================] - 0s 6ms/step - loss: 1.0525 - sparse_categorical_accuracy: 0.4680 - val_loss: 1.1003 - val_sparse_categorical_accuracy: 0.4300\n",
      "Epoch 25/400\n",
      "10/10 [==============================] - 0s 7ms/step - loss: 1.0519 - sparse_categorical_accuracy: 0.4680 - val_loss: 1.1002 - val_sparse_categorical_accuracy: 0.4300\n",
      "Epoch 26/400\n",
      "10/10 [==============================] - 0s 7ms/step - loss: 1.0512 - sparse_categorical_accuracy: 0.4680 - val_loss: 1.1002 - val_sparse_categorical_accuracy: 0.4300\n",
      "Epoch 27/400\n",
      "10/10 [==============================] - 0s 5ms/step - loss: 1.0507 - sparse_categorical_accuracy: 0.4680 - val_loss: 1.0994 - val_sparse_categorical_accuracy: 0.4300\n",
      "Epoch 28/400\n",
      "10/10 [==============================] - 0s 7ms/step - loss: 1.0501 - sparse_categorical_accuracy: 0.4680 - val_loss: 1.0993 - val_sparse_categorical_accuracy: 0.4300\n",
      "Epoch 29/400\n",
      "10/10 [==============================] - 0s 6ms/step - loss: 1.0495 - sparse_categorical_accuracy: 0.4680 - val_loss: 1.0990 - val_sparse_categorical_accuracy: 0.4300\n",
      "Epoch 30/400\n",
      "10/10 [==============================] - 0s 7ms/step - loss: 1.0490 - sparse_categorical_accuracy: 0.4680 - val_loss: 1.0990 - val_sparse_categorical_accuracy: 0.4300\n",
      "Epoch 31/400\n",
      "10/10 [==============================] - 0s 7ms/step - loss: 1.0487 - sparse_categorical_accuracy: 0.4680 - val_loss: 1.0987 - val_sparse_categorical_accuracy: 0.4300\n",
      "Epoch 32/400\n",
      "10/10 [==============================] - 0s 6ms/step - loss: 1.0481 - sparse_categorical_accuracy: 0.4680 - val_loss: 1.0983 - val_sparse_categorical_accuracy: 0.4300\n",
      "Epoch 33/400\n",
      "10/10 [==============================] - 0s 6ms/step - loss: 1.0478 - sparse_categorical_accuracy: 0.4680 - val_loss: 1.0980 - val_sparse_categorical_accuracy: 0.4300\n",
      "Epoch 34/400\n",
      "10/10 [==============================] - 0s 6ms/step - loss: 1.0474 - sparse_categorical_accuracy: 0.4680 - val_loss: 1.0977 - val_sparse_categorical_accuracy: 0.4300\n",
      "Epoch 35/400\n",
      "10/10 [==============================] - 0s 7ms/step - loss: 1.0470 - sparse_categorical_accuracy: 0.4680 - val_loss: 1.0973 - val_sparse_categorical_accuracy: 0.4300\n",
      "Epoch 36/400\n",
      "10/10 [==============================] - 0s 7ms/step - loss: 1.0467 - sparse_categorical_accuracy: 0.4680 - val_loss: 1.0974 - val_sparse_categorical_accuracy: 0.4300\n",
      "Epoch 37/400\n",
      "10/10 [==============================] - 0s 7ms/step - loss: 1.0463 - sparse_categorical_accuracy: 0.4680 - val_loss: 1.0971 - val_sparse_categorical_accuracy: 0.4300\n",
      "Epoch 38/400\n",
      "10/10 [==============================] - 0s 6ms/step - loss: 1.0460 - sparse_categorical_accuracy: 0.4680 - val_loss: 1.0967 - val_sparse_categorical_accuracy: 0.4300\n",
      "Epoch 39/400\n",
      "10/10 [==============================] - 0s 7ms/step - loss: 1.0457 - sparse_categorical_accuracy: 0.4680 - val_loss: 1.0964 - val_sparse_categorical_accuracy: 0.4300\n",
      "Epoch 40/400\n",
      "10/10 [==============================] - 0s 6ms/step - loss: 1.0454 - sparse_categorical_accuracy: 0.4680 - val_loss: 1.0961 - val_sparse_categorical_accuracy: 0.4300\n",
      "Epoch 41/400\n",
      "10/10 [==============================] - 0s 7ms/step - loss: 1.0451 - sparse_categorical_accuracy: 0.4680 - val_loss: 1.0969 - val_sparse_categorical_accuracy: 0.4300\n",
      "Epoch 42/400\n",
      "10/10 [==============================] - 0s 6ms/step - loss: 1.0445 - sparse_categorical_accuracy: 0.4680 - val_loss: 1.0971 - val_sparse_categorical_accuracy: 0.4300\n",
      "Epoch 43/400\n",
      "10/10 [==============================] - 0s 6ms/step - loss: 1.0441 - sparse_categorical_accuracy: 0.4700 - val_loss: 1.0971 - val_sparse_categorical_accuracy: 0.4300\n",
      "Epoch 44/400\n",
      "10/10 [==============================] - 0s 6ms/step - loss: 1.0437 - sparse_categorical_accuracy: 0.4700 - val_loss: 1.0979 - val_sparse_categorical_accuracy: 0.4300\n",
      "Epoch 45/400\n",
      "10/10 [==============================] - 0s 8ms/step - loss: 1.0435 - sparse_categorical_accuracy: 0.4680 - val_loss: 1.0981 - val_sparse_categorical_accuracy: 0.4300\n",
      "Epoch 46/400\n",
      "10/10 [==============================] - 0s 5ms/step - loss: 1.0431 - sparse_categorical_accuracy: 0.4680 - val_loss: 1.0985 - val_sparse_categorical_accuracy: 0.4340\n",
      "Epoch 47/400\n",
      "10/10 [==============================] - 0s 7ms/step - loss: 1.0427 - sparse_categorical_accuracy: 0.4680 - val_loss: 1.0983 - val_sparse_categorical_accuracy: 0.4340\n",
      "Epoch 48/400\n",
      "10/10 [==============================] - 0s 6ms/step - loss: 1.0424 - sparse_categorical_accuracy: 0.4680 - val_loss: 1.0981 - val_sparse_categorical_accuracy: 0.4320\n",
      "Epoch 49/400\n",
      "10/10 [==============================] - 0s 7ms/step - loss: 1.0422 - sparse_categorical_accuracy: 0.4680 - val_loss: 1.0983 - val_sparse_categorical_accuracy: 0.4320\n",
      "Epoch 50/400\n",
      "10/10 [==============================] - 0s 6ms/step - loss: 1.0420 - sparse_categorical_accuracy: 0.4680 - val_loss: 1.0982 - val_sparse_categorical_accuracy: 0.4320\n",
      "Epoch 51/400\n",
      "10/10 [==============================] - 0s 7ms/step - loss: 1.0417 - sparse_categorical_accuracy: 0.4680 - val_loss: 1.0982 - val_sparse_categorical_accuracy: 0.4320\n",
      "Epoch 52/400\n",
      "10/10 [==============================] - 0s 6ms/step - loss: 1.0414 - sparse_categorical_accuracy: 0.4700 - val_loss: 1.0980 - val_sparse_categorical_accuracy: 0.4320\n",
      "Epoch 53/400\n",
      "10/10 [==============================] - 0s 6ms/step - loss: 1.0411 - sparse_categorical_accuracy: 0.4720 - val_loss: 1.0975 - val_sparse_categorical_accuracy: 0.4320\n",
      "Epoch 54/400\n",
      "10/10 [==============================] - 0s 7ms/step - loss: 1.0410 - sparse_categorical_accuracy: 0.4720 - val_loss: 1.0973 - val_sparse_categorical_accuracy: 0.4320\n",
      "Epoch 55/400\n",
      "10/10 [==============================] - 0s 6ms/step - loss: 1.0408 - sparse_categorical_accuracy: 0.4740 - val_loss: 1.1039 - val_sparse_categorical_accuracy: 0.4340\n",
      "Epoch 56/400\n",
      "10/10 [==============================] - 0s 6ms/step - loss: 1.0423 - sparse_categorical_accuracy: 0.4720 - val_loss: 1.0975 - val_sparse_categorical_accuracy: 0.4340\n",
      "Epoch 57/400\n",
      "10/10 [==============================] - 0s 7ms/step - loss: 1.0403 - sparse_categorical_accuracy: 0.4740 - val_loss: 1.0971 - val_sparse_categorical_accuracy: 0.4360\n",
      "Epoch 58/400\n",
      "10/10 [==============================] - 0s 7ms/step - loss: 1.0400 - sparse_categorical_accuracy: 0.4740 - val_loss: 1.0965 - val_sparse_categorical_accuracy: 0.4360\n",
      "Epoch 59/400\n",
      "10/10 [==============================] - 0s 11ms/step - loss: 1.0397 - sparse_categorical_accuracy: 0.4760 - val_loss: 1.0969 - val_sparse_categorical_accuracy: 0.4360\n",
      "Epoch 60/400\n",
      "10/10 [==============================] - 0s 6ms/step - loss: 1.0396 - sparse_categorical_accuracy: 0.4780 - val_loss: 1.0970 - val_sparse_categorical_accuracy: 0.4360\n",
      "Epoch 61/400\n",
      "10/10 [==============================] - 0s 6ms/step - loss: 1.0395 - sparse_categorical_accuracy: 0.4760 - val_loss: 1.0976 - val_sparse_categorical_accuracy: 0.4360\n",
      "Epoch 62/400\n",
      "10/10 [==============================] - 0s 6ms/step - loss: 1.0391 - sparse_categorical_accuracy: 0.4760 - val_loss: 1.0976 - val_sparse_categorical_accuracy: 0.4360\n",
      "Epoch 63/400\n",
      "10/10 [==============================] - 0s 7ms/step - loss: 1.0389 - sparse_categorical_accuracy: 0.4740 - val_loss: 1.0982 - val_sparse_categorical_accuracy: 0.4360\n",
      "Epoch 64/400\n",
      "10/10 [==============================] - 0s 5ms/step - loss: 1.0389 - sparse_categorical_accuracy: 0.4780 - val_loss: 1.0982 - val_sparse_categorical_accuracy: 0.4360\n",
      "Epoch 65/400\n",
      "10/10 [==============================] - 0s 7ms/step - loss: 1.0386 - sparse_categorical_accuracy: 0.4760 - val_loss: 1.0987 - val_sparse_categorical_accuracy: 0.4360\n",
      "Epoch 66/400\n",
      "10/10 [==============================] - 0s 7ms/step - loss: 1.0386 - sparse_categorical_accuracy: 0.4760 - val_loss: 1.0985 - val_sparse_categorical_accuracy: 0.4360\n",
      "Epoch 67/400\n",
      "10/10 [==============================] - 0s 6ms/step - loss: 1.0383 - sparse_categorical_accuracy: 0.4780 - val_loss: 1.0983 - val_sparse_categorical_accuracy: 0.4360\n",
      "Epoch 68/400\n",
      "10/10 [==============================] - 0s 6ms/step - loss: 1.0384 - sparse_categorical_accuracy: 0.4760 - val_loss: 1.0983 - val_sparse_categorical_accuracy: 0.4360\n",
      "Epoch 69/400\n",
      "10/10 [==============================] - 0s 7ms/step - loss: 1.0380 - sparse_categorical_accuracy: 0.4780 - val_loss: 1.0987 - val_sparse_categorical_accuracy: 0.4360\n",
      "Epoch 70/400\n",
      "10/10 [==============================] - 0s 6ms/step - loss: 1.0379 - sparse_categorical_accuracy: 0.4800 - val_loss: 1.0987 - val_sparse_categorical_accuracy: 0.4360\n",
      "Epoch 71/400\n",
      "10/10 [==============================] - 0s 6ms/step - loss: 1.0377 - sparse_categorical_accuracy: 0.4780 - val_loss: 1.0993 - val_sparse_categorical_accuracy: 0.4360\n",
      "Epoch 72/400\n",
      "10/10 [==============================] - 0s 6ms/step - loss: 1.0378 - sparse_categorical_accuracy: 0.4780 - val_loss: 1.0991 - val_sparse_categorical_accuracy: 0.4360\n",
      "Epoch 73/400\n",
      "10/10 [==============================] - 0s 9ms/step - loss: 1.0377 - sparse_categorical_accuracy: 0.4760 - val_loss: 1.0992 - val_sparse_categorical_accuracy: 0.4360\n",
      "Epoch 74/400\n",
      "10/10 [==============================] - 0s 7ms/step - loss: 1.0376 - sparse_categorical_accuracy: 0.4760 - val_loss: 1.0996 - val_sparse_categorical_accuracy: 0.4360\n",
      "Epoch 75/400\n",
      "10/10 [==============================] - 0s 8ms/step - loss: 1.0371 - sparse_categorical_accuracy: 0.4780 - val_loss: 1.1002 - val_sparse_categorical_accuracy: 0.4360\n",
      "Epoch 76/400\n",
      "10/10 [==============================] - 0s 7ms/step - loss: 1.0372 - sparse_categorical_accuracy: 0.4780 - val_loss: 1.1001 - val_sparse_categorical_accuracy: 0.4360\n",
      "Epoch 77/400\n",
      "10/10 [==============================] - 0s 7ms/step - loss: 1.0371 - sparse_categorical_accuracy: 0.4780 - val_loss: 1.0965 - val_sparse_categorical_accuracy: 0.4360\n",
      "Epoch 78/400\n",
      "10/10 [==============================] - 0s 7ms/step - loss: 1.0369 - sparse_categorical_accuracy: 0.4820 - val_loss: 1.0974 - val_sparse_categorical_accuracy: 0.4360\n",
      "Epoch 79/400\n",
      "10/10 [==============================] - 0s 7ms/step - loss: 1.0368 - sparse_categorical_accuracy: 0.4780 - val_loss: 1.0982 - val_sparse_categorical_accuracy: 0.4360\n",
      "Epoch 80/400\n",
      "10/10 [==============================] - 0s 7ms/step - loss: 1.0367 - sparse_categorical_accuracy: 0.4760 - val_loss: 1.0978 - val_sparse_categorical_accuracy: 0.4380\n",
      "Epoch 81/400\n",
      "10/10 [==============================] - 0s 6ms/step - loss: 1.0364 - sparse_categorical_accuracy: 0.4780 - val_loss: 1.0987 - val_sparse_categorical_accuracy: 0.4380\n",
      "Epoch 82/400\n",
      "10/10 [==============================] - 0s 7ms/step - loss: 1.0368 - sparse_categorical_accuracy: 0.4740 - val_loss: 1.0987 - val_sparse_categorical_accuracy: 0.4380\n",
      "Epoch 83/400\n",
      "10/10 [==============================] - 0s 6ms/step - loss: 1.0364 - sparse_categorical_accuracy: 0.4800 - val_loss: 1.0988 - val_sparse_categorical_accuracy: 0.4380\n",
      "Epoch 84/400\n",
      "10/10 [==============================] - 0s 7ms/step - loss: 1.0361 - sparse_categorical_accuracy: 0.4760 - val_loss: 1.0994 - val_sparse_categorical_accuracy: 0.4380\n",
      "Epoch 85/400\n",
      "10/10 [==============================] - 0s 7ms/step - loss: 1.0361 - sparse_categorical_accuracy: 0.4820 - val_loss: 1.0993 - val_sparse_categorical_accuracy: 0.4380\n",
      "Epoch 86/400\n",
      "10/10 [==============================] - 0s 8ms/step - loss: 1.0359 - sparse_categorical_accuracy: 0.4800 - val_loss: 1.1001 - val_sparse_categorical_accuracy: 0.4400\n",
      "Epoch 87/400\n",
      "10/10 [==============================] - 0s 7ms/step - loss: 1.0360 - sparse_categorical_accuracy: 0.4780 - val_loss: 1.1000 - val_sparse_categorical_accuracy: 0.4400\n",
      "Epoch 88/400\n",
      "10/10 [==============================] - 0s 7ms/step - loss: 1.0356 - sparse_categorical_accuracy: 0.4760 - val_loss: 1.1008 - val_sparse_categorical_accuracy: 0.4400\n",
      "Epoch 89/400\n",
      "10/10 [==============================] - 0s 6ms/step - loss: 1.0355 - sparse_categorical_accuracy: 0.4800 - val_loss: 1.1016 - val_sparse_categorical_accuracy: 0.4400\n",
      "Epoch 90/400\n",
      "10/10 [==============================] - 0s 6ms/step - loss: 1.0355 - sparse_categorical_accuracy: 0.4780 - val_loss: 1.1015 - val_sparse_categorical_accuracy: 0.4400\n",
      "Epoch 91/400\n",
      "10/10 [==============================] - 0s 7ms/step - loss: 1.0353 - sparse_categorical_accuracy: 0.4820 - val_loss: 1.1020 - val_sparse_categorical_accuracy: 0.4400\n",
      "Epoch 92/400\n",
      "10/10 [==============================] - 0s 7ms/step - loss: 1.0354 - sparse_categorical_accuracy: 0.4740 - val_loss: 1.1018 - val_sparse_categorical_accuracy: 0.4400\n",
      "Epoch 93/400\n",
      "10/10 [==============================] - 0s 7ms/step - loss: 1.0349 - sparse_categorical_accuracy: 0.4840 - val_loss: 1.1007 - val_sparse_categorical_accuracy: 0.4400\n",
      "Epoch 94/400\n",
      "10/10 [==============================] - 0s 7ms/step - loss: 1.0344 - sparse_categorical_accuracy: 0.4800 - val_loss: 1.1016 - val_sparse_categorical_accuracy: 0.4400\n",
      "Epoch 95/400\n",
      "10/10 [==============================] - 0s 6ms/step - loss: 1.0340 - sparse_categorical_accuracy: 0.4820 - val_loss: 1.1023 - val_sparse_categorical_accuracy: 0.4400\n",
      "Epoch 96/400\n",
      "10/10 [==============================] - 0s 6ms/step - loss: 1.0339 - sparse_categorical_accuracy: 0.4760 - val_loss: 1.1020 - val_sparse_categorical_accuracy: 0.4400\n",
      "Epoch 97/400\n",
      "10/10 [==============================] - 0s 7ms/step - loss: 1.0335 - sparse_categorical_accuracy: 0.4780 - val_loss: 1.1020 - val_sparse_categorical_accuracy: 0.4400\n",
      "Epoch 98/400\n",
      "10/10 [==============================] - 0s 6ms/step - loss: 1.0331 - sparse_categorical_accuracy: 0.4800 - val_loss: 1.1033 - val_sparse_categorical_accuracy: 0.4400\n",
      "Epoch 99/400\n",
      "10/10 [==============================] - 0s 6ms/step - loss: 1.0330 - sparse_categorical_accuracy: 0.4760 - val_loss: 1.0995 - val_sparse_categorical_accuracy: 0.4400\n",
      "Epoch 100/400\n",
      "10/10 [==============================] - 0s 7ms/step - loss: 1.0323 - sparse_categorical_accuracy: 0.4820 - val_loss: 1.1005 - val_sparse_categorical_accuracy: 0.4400\n",
      "Epoch 101/400\n",
      "10/10 [==============================] - 0s 6ms/step - loss: 1.0321 - sparse_categorical_accuracy: 0.4800 - val_loss: 1.1012 - val_sparse_categorical_accuracy: 0.4400\n",
      "Epoch 102/400\n",
      "10/10 [==============================] - 0s 7ms/step - loss: 1.0321 - sparse_categorical_accuracy: 0.4780 - val_loss: 1.1034 - val_sparse_categorical_accuracy: 0.4400\n",
      "Epoch 103/400\n",
      "10/10 [==============================] - 0s 7ms/step - loss: 1.0314 - sparse_categorical_accuracy: 0.4800 - val_loss: 1.1037 - val_sparse_categorical_accuracy: 0.4400\n",
      "Epoch 104/400\n",
      "10/10 [==============================] - 0s 6ms/step - loss: 1.0312 - sparse_categorical_accuracy: 0.4780 - val_loss: 1.1049 - val_sparse_categorical_accuracy: 0.4400\n",
      "Epoch 105/400\n",
      "10/10 [==============================] - 0s 7ms/step - loss: 1.0308 - sparse_categorical_accuracy: 0.4840 - val_loss: 1.1046 - val_sparse_categorical_accuracy: 0.4420\n",
      "Epoch 106/400\n",
      "10/10 [==============================] - 0s 8ms/step - loss: 1.0312 - sparse_categorical_accuracy: 0.4780 - val_loss: 1.1001 - val_sparse_categorical_accuracy: 0.4400\n",
      "Epoch 107/400\n",
      "10/10 [==============================] - 0s 7ms/step - loss: 1.0306 - sparse_categorical_accuracy: 0.4820 - val_loss: 1.1018 - val_sparse_categorical_accuracy: 0.4400\n",
      "Epoch 108/400\n",
      "10/10 [==============================] - 0s 6ms/step - loss: 1.0303 - sparse_categorical_accuracy: 0.4820 - val_loss: 1.1020 - val_sparse_categorical_accuracy: 0.4400\n",
      "Epoch 109/400\n",
      "10/10 [==============================] - 0s 7ms/step - loss: 1.0303 - sparse_categorical_accuracy: 0.4780 - val_loss: 1.1030 - val_sparse_categorical_accuracy: 0.4420\n",
      "Epoch 110/400\n",
      "10/10 [==============================] - 0s 7ms/step - loss: 1.0300 - sparse_categorical_accuracy: 0.4800 - val_loss: 1.1034 - val_sparse_categorical_accuracy: 0.4420\n",
      "Epoch 111/400\n",
      "10/10 [==============================] - 0s 6ms/step - loss: 1.0301 - sparse_categorical_accuracy: 0.4800 - val_loss: 1.1027 - val_sparse_categorical_accuracy: 0.4420\n",
      "Epoch 112/400\n",
      "10/10 [==============================] - 0s 7ms/step - loss: 1.0301 - sparse_categorical_accuracy: 0.4800 - val_loss: 1.1047 - val_sparse_categorical_accuracy: 0.4420\n",
      "Epoch 113/400\n",
      "10/10 [==============================] - 0s 7ms/step - loss: 1.0296 - sparse_categorical_accuracy: 0.4800 - val_loss: 1.1041 - val_sparse_categorical_accuracy: 0.4420\n",
      "Epoch 114/400\n",
      "10/10 [==============================] - 0s 8ms/step - loss: 1.0295 - sparse_categorical_accuracy: 0.4780 - val_loss: 1.1047 - val_sparse_categorical_accuracy: 0.4420\n",
      "Epoch 115/400\n",
      "10/10 [==============================] - 0s 7ms/step - loss: 1.0298 - sparse_categorical_accuracy: 0.4800 - val_loss: 1.1024 - val_sparse_categorical_accuracy: 0.4420\n",
      "Epoch 116/400\n",
      "10/10 [==============================] - 0s 8ms/step - loss: 1.0296 - sparse_categorical_accuracy: 0.4800 - val_loss: 1.1038 - val_sparse_categorical_accuracy: 0.4420\n",
      "Epoch 117/400\n",
      "10/10 [==============================] - 0s 6ms/step - loss: 1.0294 - sparse_categorical_accuracy: 0.4780 - val_loss: 1.1037 - val_sparse_categorical_accuracy: 0.4420\n",
      "Epoch 118/400\n",
      "10/10 [==============================] - 0s 10ms/step - loss: 1.0292 - sparse_categorical_accuracy: 0.4780 - val_loss: 1.1030 - val_sparse_categorical_accuracy: 0.4420\n",
      "Epoch 119/400\n",
      "10/10 [==============================] - 0s 7ms/step - loss: 1.0289 - sparse_categorical_accuracy: 0.4820 - val_loss: 1.1022 - val_sparse_categorical_accuracy: 0.4420\n",
      "Epoch 120/400\n",
      "10/10 [==============================] - 0s 7ms/step - loss: 1.0290 - sparse_categorical_accuracy: 0.4780 - val_loss: 1.1026 - val_sparse_categorical_accuracy: 0.4420\n",
      "Epoch 121/400\n",
      "10/10 [==============================] - 0s 7ms/step - loss: 1.0288 - sparse_categorical_accuracy: 0.4820 - val_loss: 1.1031 - val_sparse_categorical_accuracy: 0.4420\n",
      "Epoch 122/400\n",
      "10/10 [==============================] - 0s 6ms/step - loss: 1.0291 - sparse_categorical_accuracy: 0.4860 - val_loss: 1.1027 - val_sparse_categorical_accuracy: 0.4420\n",
      "Epoch 123/400\n",
      "10/10 [==============================] - 0s 7ms/step - loss: 1.0284 - sparse_categorical_accuracy: 0.4840 - val_loss: 1.1021 - val_sparse_categorical_accuracy: 0.4420\n",
      "Epoch 124/400\n",
      "10/10 [==============================] - 0s 6ms/step - loss: 1.0285 - sparse_categorical_accuracy: 0.4840 - val_loss: 1.1024 - val_sparse_categorical_accuracy: 0.4420\n",
      "Epoch 125/400\n",
      "10/10 [==============================] - 0s 6ms/step - loss: 1.0284 - sparse_categorical_accuracy: 0.4820 - val_loss: 1.1029 - val_sparse_categorical_accuracy: 0.4420\n",
      "Epoch 126/400\n",
      "10/10 [==============================] - 0s 8ms/step - loss: 1.0282 - sparse_categorical_accuracy: 0.4840 - val_loss: 1.1018 - val_sparse_categorical_accuracy: 0.4420\n",
      "Epoch 127/400\n",
      "10/10 [==============================] - 0s 7ms/step - loss: 1.0278 - sparse_categorical_accuracy: 0.4800 - val_loss: 1.1042 - val_sparse_categorical_accuracy: 0.4420\n",
      "Epoch 128/400\n",
      "10/10 [==============================] - 0s 7ms/step - loss: 1.0278 - sparse_categorical_accuracy: 0.4860 - val_loss: 1.1037 - val_sparse_categorical_accuracy: 0.4420\n",
      "Epoch 129/400\n",
      "10/10 [==============================] - 0s 6ms/step - loss: 1.0275 - sparse_categorical_accuracy: 0.4840 - val_loss: 1.1045 - val_sparse_categorical_accuracy: 0.4420\n",
      "Epoch 130/400\n",
      "10/10 [==============================] - 0s 7ms/step - loss: 1.0278 - sparse_categorical_accuracy: 0.4840 - val_loss: 1.1055 - val_sparse_categorical_accuracy: 0.4420\n",
      "Epoch 131/400\n",
      "10/10 [==============================] - 0s 7ms/step - loss: 1.0272 - sparse_categorical_accuracy: 0.4880 - val_loss: 1.1051 - val_sparse_categorical_accuracy: 0.4420\n",
      "Epoch 132/400\n",
      "10/10 [==============================] - 0s 7ms/step - loss: 1.0276 - sparse_categorical_accuracy: 0.4840 - val_loss: 1.1022 - val_sparse_categorical_accuracy: 0.4420\n",
      "Epoch 133/400\n",
      "10/10 [==============================] - 0s 7ms/step - loss: 1.0274 - sparse_categorical_accuracy: 0.4840 - val_loss: 1.1022 - val_sparse_categorical_accuracy: 0.4420\n",
      "Epoch 134/400\n",
      "10/10 [==============================] - 0s 8ms/step - loss: 1.0272 - sparse_categorical_accuracy: 0.4860 - val_loss: 1.1031 - val_sparse_categorical_accuracy: 0.4420\n",
      "Epoch 135/400\n",
      "10/10 [==============================] - 0s 6ms/step - loss: 1.0269 - sparse_categorical_accuracy: 0.4860 - val_loss: 1.1024 - val_sparse_categorical_accuracy: 0.4420\n",
      "Epoch 136/400\n",
      "10/10 [==============================] - 0s 7ms/step - loss: 1.0270 - sparse_categorical_accuracy: 0.4860 - val_loss: 1.1029 - val_sparse_categorical_accuracy: 0.4420\n",
      "Epoch 137/400\n",
      "10/10 [==============================] - 0s 7ms/step - loss: 1.0264 - sparse_categorical_accuracy: 0.4880 - val_loss: 1.1035 - val_sparse_categorical_accuracy: 0.4420\n",
      "Epoch 138/400\n",
      "10/10 [==============================] - 0s 8ms/step - loss: 1.0265 - sparse_categorical_accuracy: 0.4840 - val_loss: 1.1104 - val_sparse_categorical_accuracy: 0.4420\n",
      "Epoch 139/400\n",
      "10/10 [==============================] - 0s 7ms/step - loss: 1.0248 - sparse_categorical_accuracy: 0.4840 - val_loss: 1.1172 - val_sparse_categorical_accuracy: 0.4420\n",
      "Epoch 140/400\n",
      "10/10 [==============================] - 0s 6ms/step - loss: 1.0255 - sparse_categorical_accuracy: 0.4880 - val_loss: 1.1088 - val_sparse_categorical_accuracy: 0.4420\n",
      "Epoch 141/400\n",
      "10/10 [==============================] - 0s 6ms/step - loss: 1.0246 - sparse_categorical_accuracy: 0.4900 - val_loss: 1.1133 - val_sparse_categorical_accuracy: 0.4420\n",
      "Epoch 142/400\n",
      "10/10 [==============================] - 0s 6ms/step - loss: 1.0238 - sparse_categorical_accuracy: 0.4920 - val_loss: 1.1218 - val_sparse_categorical_accuracy: 0.4420\n",
      "Epoch 143/400\n",
      "10/10 [==============================] - 0s 6ms/step - loss: 1.0239 - sparse_categorical_accuracy: 0.4860 - val_loss: 1.1152 - val_sparse_categorical_accuracy: 0.4400\n",
      "Epoch 144/400\n",
      "10/10 [==============================] - 0s 7ms/step - loss: 1.0229 - sparse_categorical_accuracy: 0.4900 - val_loss: 1.1256 - val_sparse_categorical_accuracy: 0.4400\n",
      "Epoch 145/400\n",
      "10/10 [==============================] - 0s 8ms/step - loss: 1.0225 - sparse_categorical_accuracy: 0.4900 - val_loss: 1.1173 - val_sparse_categorical_accuracy: 0.4400\n",
      "Epoch 146/400\n",
      "10/10 [==============================] - 0s 7ms/step - loss: 1.0207 - sparse_categorical_accuracy: 0.4960 - val_loss: 1.1246 - val_sparse_categorical_accuracy: 0.4440\n",
      "Epoch 147/400\n",
      "10/10 [==============================] - 0s 7ms/step - loss: 1.0189 - sparse_categorical_accuracy: 0.4980 - val_loss: 1.1321 - val_sparse_categorical_accuracy: 0.4480\n",
      "Epoch 148/400\n",
      "10/10 [==============================] - 0s 6ms/step - loss: 1.0177 - sparse_categorical_accuracy: 0.5000 - val_loss: 1.1396 - val_sparse_categorical_accuracy: 0.4520\n",
      "Epoch 149/400\n",
      "10/10 [==============================] - 0s 7ms/step - loss: 1.0173 - sparse_categorical_accuracy: 0.5020 - val_loss: 1.1294 - val_sparse_categorical_accuracy: 0.4500\n",
      "Epoch 150/400\n",
      "10/10 [==============================] - 0s 7ms/step - loss: 1.0167 - sparse_categorical_accuracy: 0.5000 - val_loss: 1.1387 - val_sparse_categorical_accuracy: 0.4520\n",
      "Epoch 151/400\n",
      "10/10 [==============================] - 0s 7ms/step - loss: 1.0158 - sparse_categorical_accuracy: 0.5000 - val_loss: 1.1449 - val_sparse_categorical_accuracy: 0.4560\n",
      "Epoch 152/400\n",
      "10/10 [==============================] - 0s 7ms/step - loss: 1.0163 - sparse_categorical_accuracy: 0.4980 - val_loss: 1.1625 - val_sparse_categorical_accuracy: 0.4560\n",
      "Epoch 153/400\n",
      "10/10 [==============================] - 0s 7ms/step - loss: 1.0184 - sparse_categorical_accuracy: 0.5000 - val_loss: 1.1466 - val_sparse_categorical_accuracy: 0.4540\n",
      "Epoch 154/400\n",
      "10/10 [==============================] - 0s 8ms/step - loss: 1.0129 - sparse_categorical_accuracy: 0.5000 - val_loss: 1.2676 - val_sparse_categorical_accuracy: 0.4700\n",
      "Epoch 155/400\n",
      "10/10 [==============================] - 0s 7ms/step - loss: 1.0368 - sparse_categorical_accuracy: 0.4940 - val_loss: 1.2162 - val_sparse_categorical_accuracy: 0.4640\n",
      "Epoch 156/400\n",
      "10/10 [==============================] - 0s 6ms/step - loss: 1.0165 - sparse_categorical_accuracy: 0.4980 - val_loss: 1.2273 - val_sparse_categorical_accuracy: 0.4640\n",
      "Epoch 157/400\n",
      "10/10 [==============================] - 0s 7ms/step - loss: 1.0140 - sparse_categorical_accuracy: 0.4980 - val_loss: 1.2493 - val_sparse_categorical_accuracy: 0.4820\n",
      "Epoch 158/400\n",
      "10/10 [==============================] - 0s 6ms/step - loss: 1.0098 - sparse_categorical_accuracy: 0.5100 - val_loss: 1.2524 - val_sparse_categorical_accuracy: 0.4820\n",
      "Epoch 159/400\n",
      "10/10 [==============================] - 0s 7ms/step - loss: 1.0088 - sparse_categorical_accuracy: 0.5160 - val_loss: 1.2629 - val_sparse_categorical_accuracy: 0.4800\n",
      "Epoch 160/400\n",
      "10/10 [==============================] - 0s 7ms/step - loss: 1.0088 - sparse_categorical_accuracy: 0.5140 - val_loss: 1.2651 - val_sparse_categorical_accuracy: 0.4820\n",
      "Epoch 161/400\n",
      "10/10 [==============================] - 0s 6ms/step - loss: 1.0084 - sparse_categorical_accuracy: 0.5160 - val_loss: 1.2242 - val_sparse_categorical_accuracy: 0.4800\n",
      "Epoch 162/400\n",
      "10/10 [==============================] - 0s 7ms/step - loss: 1.0093 - sparse_categorical_accuracy: 0.5160 - val_loss: 1.2359 - val_sparse_categorical_accuracy: 0.4820\n",
      "Epoch 163/400\n",
      "10/10 [==============================] - 0s 7ms/step - loss: 1.0087 - sparse_categorical_accuracy: 0.5160 - val_loss: 1.2457 - val_sparse_categorical_accuracy: 0.4820\n",
      "Epoch 164/400\n",
      "10/10 [==============================] - 0s 6ms/step - loss: 1.0084 - sparse_categorical_accuracy: 0.5160 - val_loss: 1.2540 - val_sparse_categorical_accuracy: 0.4820\n",
      "Epoch 165/400\n",
      "10/10 [==============================] - 0s 6ms/step - loss: 1.0075 - sparse_categorical_accuracy: 0.5160 - val_loss: 1.2892 - val_sparse_categorical_accuracy: 0.4820\n",
      "Epoch 166/400\n",
      "10/10 [==============================] - 0s 8ms/step - loss: 1.0067 - sparse_categorical_accuracy: 0.5180 - val_loss: 1.2842 - val_sparse_categorical_accuracy: 0.4820\n",
      "Epoch 167/400\n",
      "10/10 [==============================] - 0s 6ms/step - loss: 1.0061 - sparse_categorical_accuracy: 0.5200 - val_loss: 1.2938 - val_sparse_categorical_accuracy: 0.4800\n",
      "Epoch 168/400\n",
      "10/10 [==============================] - 0s 7ms/step - loss: 1.0061 - sparse_categorical_accuracy: 0.5200 - val_loss: 1.3015 - val_sparse_categorical_accuracy: 0.4800\n",
      "Epoch 169/400\n",
      "10/10 [==============================] - 0s 6ms/step - loss: 1.0075 - sparse_categorical_accuracy: 0.5200 - val_loss: 1.2766 - val_sparse_categorical_accuracy: 0.4820\n",
      "Epoch 170/400\n",
      "10/10 [==============================] - 0s 6ms/step - loss: 1.0054 - sparse_categorical_accuracy: 0.5200 - val_loss: 1.2895 - val_sparse_categorical_accuracy: 0.4800\n",
      "Epoch 171/400\n",
      "10/10 [==============================] - 0s 6ms/step - loss: 1.0054 - sparse_categorical_accuracy: 0.5200 - val_loss: 1.2908 - val_sparse_categorical_accuracy: 0.4800\n",
      "Epoch 172/400\n",
      "10/10 [==============================] - 0s 6ms/step - loss: 1.0048 - sparse_categorical_accuracy: 0.5240 - val_loss: 1.3000 - val_sparse_categorical_accuracy: 0.4800\n",
      "Epoch 173/400\n",
      "10/10 [==============================] - 0s 7ms/step - loss: 1.0044 - sparse_categorical_accuracy: 0.5340 - val_loss: 1.3048 - val_sparse_categorical_accuracy: 0.5260\n",
      "Epoch 174/400\n",
      "10/10 [==============================] - 0s 7ms/step - loss: 1.0044 - sparse_categorical_accuracy: 0.5460 - val_loss: 1.3017 - val_sparse_categorical_accuracy: 0.5260\n",
      "Epoch 175/400\n",
      "10/10 [==============================] - 0s 6ms/step - loss: 1.0042 - sparse_categorical_accuracy: 0.5460 - val_loss: 1.3113 - val_sparse_categorical_accuracy: 0.5260\n",
      "Epoch 176/400\n",
      "10/10 [==============================] - 0s 7ms/step - loss: 1.0036 - sparse_categorical_accuracy: 0.5460 - val_loss: 1.3155 - val_sparse_categorical_accuracy: 0.5260\n",
      "Epoch 177/400\n",
      "10/10 [==============================] - 0s 6ms/step - loss: 1.0031 - sparse_categorical_accuracy: 0.5460 - val_loss: 1.3213 - val_sparse_categorical_accuracy: 0.5260\n",
      "Epoch 178/400\n",
      "10/10 [==============================] - 0s 7ms/step - loss: 1.0048 - sparse_categorical_accuracy: 0.5480 - val_loss: 1.2648 - val_sparse_categorical_accuracy: 0.5260\n",
      "Epoch 179/400\n",
      "10/10 [==============================] - 0s 7ms/step - loss: 1.0046 - sparse_categorical_accuracy: 0.5480 - val_loss: 1.2708 - val_sparse_categorical_accuracy: 0.5260\n",
      "Epoch 180/400\n",
      "10/10 [==============================] - 0s 6ms/step - loss: 1.0039 - sparse_categorical_accuracy: 0.5480 - val_loss: 1.2785 - val_sparse_categorical_accuracy: 0.5260\n",
      "Epoch 181/400\n",
      "10/10 [==============================] - 0s 7ms/step - loss: 1.0033 - sparse_categorical_accuracy: 0.5480 - val_loss: 1.2877 - val_sparse_categorical_accuracy: 0.5240\n",
      "Epoch 182/400\n",
      "10/10 [==============================] - 0s 6ms/step - loss: 1.0043 - sparse_categorical_accuracy: 0.5480 - val_loss: 1.2876 - val_sparse_categorical_accuracy: 0.5240\n",
      "Epoch 183/400\n",
      "10/10 [==============================] - 0s 8ms/step - loss: 1.0019 - sparse_categorical_accuracy: 0.5480 - val_loss: 1.2984 - val_sparse_categorical_accuracy: 0.5240\n",
      "Epoch 184/400\n",
      "10/10 [==============================] - 0s 7ms/step - loss: 1.0031 - sparse_categorical_accuracy: 0.5480 - val_loss: 1.3005 - val_sparse_categorical_accuracy: 0.5240\n",
      "Epoch 185/400\n",
      "10/10 [==============================] - 0s 6ms/step - loss: 1.0032 - sparse_categorical_accuracy: 0.5480 - val_loss: 1.3365 - val_sparse_categorical_accuracy: 0.5240\n",
      "Epoch 186/400\n",
      "10/10 [==============================] - 0s 7ms/step - loss: 1.0022 - sparse_categorical_accuracy: 0.5460 - val_loss: 1.3197 - val_sparse_categorical_accuracy: 0.5240\n",
      "Epoch 187/400\n",
      "10/10 [==============================] - 0s 8ms/step - loss: 1.0010 - sparse_categorical_accuracy: 0.5460 - val_loss: 1.3307 - val_sparse_categorical_accuracy: 0.5240\n",
      "Epoch 188/400\n",
      "10/10 [==============================] - 0s 7ms/step - loss: 1.0012 - sparse_categorical_accuracy: 0.5460 - val_loss: 1.3323 - val_sparse_categorical_accuracy: 0.5240\n",
      "Epoch 189/400\n",
      "10/10 [==============================] - 0s 6ms/step - loss: 1.0009 - sparse_categorical_accuracy: 0.5460 - val_loss: 1.3431 - val_sparse_categorical_accuracy: 0.5240\n",
      "Epoch 190/400\n",
      "10/10 [==============================] - 0s 7ms/step - loss: 1.0011 - sparse_categorical_accuracy: 0.5460 - val_loss: 1.3445 - val_sparse_categorical_accuracy: 0.5260\n",
      "Epoch 191/400\n",
      "10/10 [==============================] - 0s 6ms/step - loss: 1.0003 - sparse_categorical_accuracy: 0.5460 - val_loss: 1.3462 - val_sparse_categorical_accuracy: 0.5240\n",
      "Epoch 192/400\n",
      "10/10 [==============================] - 0s 7ms/step - loss: 0.9998 - sparse_categorical_accuracy: 0.5460 - val_loss: 1.3535 - val_sparse_categorical_accuracy: 0.5240\n",
      "Epoch 193/400\n",
      "10/10 [==============================] - 0s 8ms/step - loss: 1.0007 - sparse_categorical_accuracy: 0.5460 - val_loss: 1.4012 - val_sparse_categorical_accuracy: 0.5300\n",
      "Epoch 194/400\n",
      "10/10 [==============================] - 0s 7ms/step - loss: 0.9972 - sparse_categorical_accuracy: 0.5480 - val_loss: 1.2546 - val_sparse_categorical_accuracy: 0.5240\n",
      "Epoch 195/400\n",
      "10/10 [==============================] - 0s 7ms/step - loss: 1.0036 - sparse_categorical_accuracy: 0.5440 - val_loss: 1.2631 - val_sparse_categorical_accuracy: 0.5240\n",
      "Epoch 196/400\n",
      "10/10 [==============================] - 0s 8ms/step - loss: 1.0033 - sparse_categorical_accuracy: 0.5440 - val_loss: 1.2685 - val_sparse_categorical_accuracy: 0.5260\n",
      "Epoch 197/400\n",
      "10/10 [==============================] - 0s 7ms/step - loss: 1.0027 - sparse_categorical_accuracy: 0.5440 - val_loss: 1.2885 - val_sparse_categorical_accuracy: 0.5260\n",
      "Epoch 198/400\n",
      "10/10 [==============================] - 0s 7ms/step - loss: 1.0023 - sparse_categorical_accuracy: 0.5420 - val_loss: 1.3061 - val_sparse_categorical_accuracy: 0.5260\n",
      "Epoch 199/400\n",
      "10/10 [==============================] - 0s 7ms/step - loss: 1.0048 - sparse_categorical_accuracy: 0.5440 - val_loss: 1.2827 - val_sparse_categorical_accuracy: 0.5240\n",
      "Epoch 200/400\n",
      "10/10 [==============================] - 0s 6ms/step - loss: 1.0010 - sparse_categorical_accuracy: 0.5480 - val_loss: 1.1909 - val_sparse_categorical_accuracy: 0.5180\n",
      "Epoch 201/400\n",
      "10/10 [==============================] - 0s 6ms/step - loss: 1.0024 - sparse_categorical_accuracy: 0.5460 - val_loss: 1.2104 - val_sparse_categorical_accuracy: 0.5220\n",
      "Epoch 202/400\n",
      "10/10 [==============================] - 0s 6ms/step - loss: 1.0013 - sparse_categorical_accuracy: 0.5480 - val_loss: 1.2188 - val_sparse_categorical_accuracy: 0.5220\n",
      "Epoch 203/400\n",
      "10/10 [==============================] - 0s 7ms/step - loss: 1.0006 - sparse_categorical_accuracy: 0.5480 - val_loss: 1.2321 - val_sparse_categorical_accuracy: 0.5220\n",
      "Epoch 204/400\n",
      "10/10 [==============================] - 0s 7ms/step - loss: 1.0012 - sparse_categorical_accuracy: 0.5480 - val_loss: 1.2368 - val_sparse_categorical_accuracy: 0.5220\n",
      "Epoch 205/400\n",
      "10/10 [==============================] - 0s 6ms/step - loss: 1.0000 - sparse_categorical_accuracy: 0.5480 - val_loss: 1.2374 - val_sparse_categorical_accuracy: 0.5220\n",
      "Epoch 206/400\n",
      "10/10 [==============================] - 0s 6ms/step - loss: 1.0000 - sparse_categorical_accuracy: 0.5480 - val_loss: 1.2458 - val_sparse_categorical_accuracy: 0.5220\n",
      "Epoch 207/400\n",
      "10/10 [==============================] - 0s 6ms/step - loss: 1.0000 - sparse_categorical_accuracy: 0.5480 - val_loss: 1.2458 - val_sparse_categorical_accuracy: 0.5220\n",
      "Epoch 208/400\n",
      "10/10 [==============================] - 0s 7ms/step - loss: 0.9999 - sparse_categorical_accuracy: 0.5480 - val_loss: 1.2486 - val_sparse_categorical_accuracy: 0.5220\n",
      "Epoch 209/400\n",
      "10/10 [==============================] - 0s 6ms/step - loss: 0.9997 - sparse_categorical_accuracy: 0.5500 - val_loss: 1.2552 - val_sparse_categorical_accuracy: 0.5220\n",
      "Epoch 210/400\n",
      "10/10 [==============================] - 0s 6ms/step - loss: 0.9992 - sparse_categorical_accuracy: 0.5500 - val_loss: 1.2588 - val_sparse_categorical_accuracy: 0.5220\n",
      "Epoch 211/400\n",
      "10/10 [==============================] - 0s 7ms/step - loss: 1.0014 - sparse_categorical_accuracy: 0.5500 - val_loss: 1.2554 - val_sparse_categorical_accuracy: 0.5220\n",
      "Epoch 212/400\n",
      "10/10 [==============================] - 0s 8ms/step - loss: 0.9998 - sparse_categorical_accuracy: 0.5500 - val_loss: 1.2579 - val_sparse_categorical_accuracy: 0.5220\n",
      "Epoch 213/400\n",
      "10/10 [==============================] - 0s 7ms/step - loss: 0.9994 - sparse_categorical_accuracy: 0.5500 - val_loss: 1.2579 - val_sparse_categorical_accuracy: 0.5220\n",
      "Epoch 214/400\n",
      "10/10 [==============================] - 0s 7ms/step - loss: 0.9983 - sparse_categorical_accuracy: 0.5500 - val_loss: 1.2686 - val_sparse_categorical_accuracy: 0.5220\n",
      "Epoch 215/400\n",
      "10/10 [==============================] - 0s 7ms/step - loss: 0.9985 - sparse_categorical_accuracy: 0.5500 - val_loss: 1.2669 - val_sparse_categorical_accuracy: 0.5220\n",
      "Epoch 216/400\n",
      "10/10 [==============================] - 0s 6ms/step - loss: 0.9987 - sparse_categorical_accuracy: 0.5500 - val_loss: 1.2709 - val_sparse_categorical_accuracy: 0.5220\n",
      "Epoch 217/400\n",
      "10/10 [==============================] - 0s 6ms/step - loss: 0.9987 - sparse_categorical_accuracy: 0.5500 - val_loss: 1.2768 - val_sparse_categorical_accuracy: 0.5220\n",
      "Epoch 218/400\n",
      "10/10 [==============================] - 0s 7ms/step - loss: 0.9975 - sparse_categorical_accuracy: 0.5500 - val_loss: 1.2835 - val_sparse_categorical_accuracy: 0.5220\n",
      "Epoch 219/400\n",
      "10/10 [==============================] - 0s 9ms/step - loss: 0.9988 - sparse_categorical_accuracy: 0.5480 - val_loss: 1.2091 - val_sparse_categorical_accuracy: 0.5220\n",
      "Epoch 220/400\n",
      "10/10 [==============================] - 0s 6ms/step - loss: 0.9965 - sparse_categorical_accuracy: 0.5500 - val_loss: 1.2207 - val_sparse_categorical_accuracy: 0.5220\n",
      "Epoch 221/400\n",
      "10/10 [==============================] - 0s 7ms/step - loss: 0.9963 - sparse_categorical_accuracy: 0.5520 - val_loss: 1.2210 - val_sparse_categorical_accuracy: 0.5220\n",
      "Epoch 222/400\n",
      "10/10 [==============================] - 0s 8ms/step - loss: 0.9956 - sparse_categorical_accuracy: 0.5520 - val_loss: 1.2288 - val_sparse_categorical_accuracy: 0.5220\n",
      "Epoch 223/400\n",
      "10/10 [==============================] - 0s 8ms/step - loss: 0.9944 - sparse_categorical_accuracy: 0.5520 - val_loss: 1.2383 - val_sparse_categorical_accuracy: 0.5220\n",
      "Epoch 224/400\n",
      "10/10 [==============================] - 0s 8ms/step - loss: 0.9960 - sparse_categorical_accuracy: 0.5480 - val_loss: 1.2266 - val_sparse_categorical_accuracy: 0.5220\n",
      "Epoch 225/400\n",
      "10/10 [==============================] - 0s 6ms/step - loss: 0.9929 - sparse_categorical_accuracy: 0.5520 - val_loss: 1.2397 - val_sparse_categorical_accuracy: 0.5220\n",
      "Epoch 226/400\n",
      "10/10 [==============================] - 0s 7ms/step - loss: 0.9934 - sparse_categorical_accuracy: 0.5520 - val_loss: 1.2429 - val_sparse_categorical_accuracy: 0.5220\n",
      "Epoch 227/400\n",
      "10/10 [==============================] - 0s 7ms/step - loss: 0.9926 - sparse_categorical_accuracy: 0.5520 - val_loss: 1.2463 - val_sparse_categorical_accuracy: 0.5220\n",
      "Epoch 228/400\n",
      "10/10 [==============================] - 0s 7ms/step - loss: 0.9912 - sparse_categorical_accuracy: 0.5520 - val_loss: 1.2495 - val_sparse_categorical_accuracy: 0.5220\n",
      "Epoch 229/400\n",
      "10/10 [==============================] - 0s 6ms/step - loss: 0.9908 - sparse_categorical_accuracy: 0.5520 - val_loss: 1.2593 - val_sparse_categorical_accuracy: 0.5260\n",
      "Epoch 230/400\n",
      "10/10 [==============================] - 0s 6ms/step - loss: 0.9908 - sparse_categorical_accuracy: 0.5540 - val_loss: 1.2524 - val_sparse_categorical_accuracy: 0.5260\n",
      "Epoch 231/400\n",
      "10/10 [==============================] - 0s 6ms/step - loss: 0.9903 - sparse_categorical_accuracy: 0.5520 - val_loss: 1.2804 - val_sparse_categorical_accuracy: 0.5300\n",
      "Epoch 232/400\n",
      "10/10 [==============================] - 0s 7ms/step - loss: 0.9889 - sparse_categorical_accuracy: 0.5540 - val_loss: 1.2844 - val_sparse_categorical_accuracy: 0.5300\n",
      "Epoch 233/400\n",
      "10/10 [==============================] - 0s 7ms/step - loss: 0.9894 - sparse_categorical_accuracy: 0.5560 - val_loss: 1.2806 - val_sparse_categorical_accuracy: 0.5300\n",
      "Epoch 234/400\n",
      "10/10 [==============================] - 0s 6ms/step - loss: 0.9884 - sparse_categorical_accuracy: 0.5560 - val_loss: 1.2874 - val_sparse_categorical_accuracy: 0.5300\n",
      "Epoch 235/400\n",
      "10/10 [==============================] - 0s 8ms/step - loss: 0.9877 - sparse_categorical_accuracy: 0.5580 - val_loss: 1.2861 - val_sparse_categorical_accuracy: 0.5300\n",
      "Epoch 236/400\n",
      "10/10 [==============================] - 0s 8ms/step - loss: 0.9872 - sparse_categorical_accuracy: 0.5580 - val_loss: 1.2919 - val_sparse_categorical_accuracy: 0.5300\n",
      "Epoch 237/400\n",
      "10/10 [==============================] - 0s 8ms/step - loss: 0.9869 - sparse_categorical_accuracy: 0.5580 - val_loss: 1.2950 - val_sparse_categorical_accuracy: 0.5300\n",
      "Epoch 238/400\n",
      "10/10 [==============================] - 0s 8ms/step - loss: 0.9860 - sparse_categorical_accuracy: 0.5580 - val_loss: 1.2962 - val_sparse_categorical_accuracy: 0.5300\n",
      "Epoch 239/400\n",
      "10/10 [==============================] - 0s 6ms/step - loss: 0.9854 - sparse_categorical_accuracy: 0.5600 - val_loss: 1.3028 - val_sparse_categorical_accuracy: 0.5320\n",
      "Epoch 240/400\n",
      "10/10 [==============================] - 0s 7ms/step - loss: 0.9853 - sparse_categorical_accuracy: 0.5620 - val_loss: 1.2939 - val_sparse_categorical_accuracy: 0.5320\n",
      "Epoch 241/400\n",
      "10/10 [==============================] - 0s 8ms/step - loss: 0.9849 - sparse_categorical_accuracy: 0.5620 - val_loss: 1.3035 - val_sparse_categorical_accuracy: 0.5320\n",
      "Epoch 242/400\n",
      "10/10 [==============================] - 0s 7ms/step - loss: 0.9838 - sparse_categorical_accuracy: 0.5620 - val_loss: 1.3071 - val_sparse_categorical_accuracy: 0.5320\n",
      "Epoch 243/400\n",
      "10/10 [==============================] - 0s 7ms/step - loss: 0.9836 - sparse_categorical_accuracy: 0.5620 - val_loss: 1.3119 - val_sparse_categorical_accuracy: 0.5320\n",
      "Epoch 244/400\n",
      "10/10 [==============================] - 0s 6ms/step - loss: 0.9825 - sparse_categorical_accuracy: 0.5620 - val_loss: 1.3185 - val_sparse_categorical_accuracy: 0.5340\n",
      "Epoch 245/400\n",
      "10/10 [==============================] - 0s 6ms/step - loss: 0.9846 - sparse_categorical_accuracy: 0.5620 - val_loss: 1.3184 - val_sparse_categorical_accuracy: 0.5340\n",
      "Epoch 246/400\n",
      "10/10 [==============================] - 0s 6ms/step - loss: 0.9823 - sparse_categorical_accuracy: 0.5620 - val_loss: 1.3198 - val_sparse_categorical_accuracy: 0.5340\n",
      "Epoch 247/400\n",
      "10/10 [==============================] - 0s 7ms/step - loss: 0.9822 - sparse_categorical_accuracy: 0.5600 - val_loss: 1.2066 - val_sparse_categorical_accuracy: 0.5300\n",
      "Epoch 248/400\n",
      "10/10 [==============================] - 0s 7ms/step - loss: 0.9831 - sparse_categorical_accuracy: 0.5600 - val_loss: 1.2380 - val_sparse_categorical_accuracy: 0.5340\n",
      "Epoch 249/400\n",
      "10/10 [==============================] - 0s 6ms/step - loss: 0.9808 - sparse_categorical_accuracy: 0.5620 - val_loss: 1.2474 - val_sparse_categorical_accuracy: 0.5340\n",
      "Epoch 250/400\n",
      "10/10 [==============================] - 0s 7ms/step - loss: 0.9817 - sparse_categorical_accuracy: 0.5640 - val_loss: 1.2422 - val_sparse_categorical_accuracy: 0.5340\n",
      "Epoch 251/400\n",
      "10/10 [==============================] - 0s 7ms/step - loss: 0.9805 - sparse_categorical_accuracy: 0.5640 - val_loss: 1.2543 - val_sparse_categorical_accuracy: 0.5360\n",
      "Epoch 252/400\n",
      "10/10 [==============================] - 0s 8ms/step - loss: 0.9800 - sparse_categorical_accuracy: 0.5680 - val_loss: 1.2546 - val_sparse_categorical_accuracy: 0.5360\n",
      "Epoch 253/400\n",
      "10/10 [==============================] - 0s 6ms/step - loss: 0.9794 - sparse_categorical_accuracy: 0.5660 - val_loss: 1.2670 - val_sparse_categorical_accuracy: 0.5360\n",
      "Epoch 254/400\n",
      "10/10 [==============================] - 0s 6ms/step - loss: 0.9802 - sparse_categorical_accuracy: 0.5640 - val_loss: 1.2647 - val_sparse_categorical_accuracy: 0.5360\n",
      "Epoch 255/400\n",
      "10/10 [==============================] - 0s 7ms/step - loss: 0.9784 - sparse_categorical_accuracy: 0.5660 - val_loss: 1.2773 - val_sparse_categorical_accuracy: 0.5380\n",
      "Epoch 256/400\n",
      "10/10 [==============================] - 0s 7ms/step - loss: 0.9776 - sparse_categorical_accuracy: 0.5660 - val_loss: 1.2802 - val_sparse_categorical_accuracy: 0.5380\n",
      "Epoch 257/400\n",
      "10/10 [==============================] - 0s 6ms/step - loss: 0.9776 - sparse_categorical_accuracy: 0.5660 - val_loss: 1.2854 - val_sparse_categorical_accuracy: 0.5380\n",
      "Epoch 258/400\n",
      "10/10 [==============================] - 0s 7ms/step - loss: 0.9771 - sparse_categorical_accuracy: 0.5680 - val_loss: 1.2901 - val_sparse_categorical_accuracy: 0.5380\n",
      "Epoch 259/400\n",
      "10/10 [==============================] - 0s 6ms/step - loss: 0.9769 - sparse_categorical_accuracy: 0.5660 - val_loss: 1.2884 - val_sparse_categorical_accuracy: 0.5380\n",
      "Epoch 260/400\n",
      "10/10 [==============================] - 0s 7ms/step - loss: 0.9763 - sparse_categorical_accuracy: 0.5660 - val_loss: 1.2964 - val_sparse_categorical_accuracy: 0.5380\n",
      "Epoch 261/400\n",
      "10/10 [==============================] - 0s 12ms/step - loss: 0.9766 - sparse_categorical_accuracy: 0.5660 - val_loss: 1.2542 - val_sparse_categorical_accuracy: 0.5340\n",
      "Epoch 262/400\n",
      "10/10 [==============================] - 0s 8ms/step - loss: 0.9780 - sparse_categorical_accuracy: 0.5660 - val_loss: 1.2588 - val_sparse_categorical_accuracy: 0.5340\n",
      "Epoch 263/400\n",
      "10/10 [==============================] - 0s 7ms/step - loss: 0.9765 - sparse_categorical_accuracy: 0.5660 - val_loss: 1.2717 - val_sparse_categorical_accuracy: 0.5380\n",
      "Epoch 264/400\n",
      "10/10 [==============================] - 0s 6ms/step - loss: 0.9748 - sparse_categorical_accuracy: 0.5660 - val_loss: 1.2810 - val_sparse_categorical_accuracy: 0.5380\n",
      "Epoch 265/400\n",
      "10/10 [==============================] - 0s 7ms/step - loss: 0.9743 - sparse_categorical_accuracy: 0.5660 - val_loss: 1.2881 - val_sparse_categorical_accuracy: 0.5380\n",
      "Epoch 266/400\n",
      "10/10 [==============================] - 0s 8ms/step - loss: 0.9745 - sparse_categorical_accuracy: 0.5660 - val_loss: 1.2906 - val_sparse_categorical_accuracy: 0.5380\n",
      "Epoch 267/400\n",
      "10/10 [==============================] - 0s 7ms/step - loss: 0.9743 - sparse_categorical_accuracy: 0.5660 - val_loss: 1.2915 - val_sparse_categorical_accuracy: 0.5380\n",
      "Epoch 268/400\n",
      "10/10 [==============================] - 0s 7ms/step - loss: 0.9733 - sparse_categorical_accuracy: 0.5680 - val_loss: 1.3045 - val_sparse_categorical_accuracy: 0.5380\n",
      "Epoch 269/400\n",
      "10/10 [==============================] - 0s 6ms/step - loss: 0.9735 - sparse_categorical_accuracy: 0.5680 - val_loss: 1.3075 - val_sparse_categorical_accuracy: 0.5380\n",
      "Epoch 270/400\n",
      "10/10 [==============================] - 0s 8ms/step - loss: 0.9729 - sparse_categorical_accuracy: 0.5680 - val_loss: 1.3074 - val_sparse_categorical_accuracy: 0.5380\n",
      "Epoch 271/400\n",
      "10/10 [==============================] - 0s 7ms/step - loss: 0.9721 - sparse_categorical_accuracy: 0.5660 - val_loss: 1.2219 - val_sparse_categorical_accuracy: 0.5360\n",
      "Epoch 272/400\n",
      "10/10 [==============================] - 0s 6ms/step - loss: 0.9728 - sparse_categorical_accuracy: 0.5660 - val_loss: 1.2350 - val_sparse_categorical_accuracy: 0.5400\n",
      "Epoch 273/400\n",
      "10/10 [==============================] - 0s 6ms/step - loss: 0.9719 - sparse_categorical_accuracy: 0.5660 - val_loss: 1.2506 - val_sparse_categorical_accuracy: 0.5400\n",
      "Epoch 274/400\n",
      "10/10 [==============================] - 0s 7ms/step - loss: 0.9725 - sparse_categorical_accuracy: 0.5660 - val_loss: 1.2545 - val_sparse_categorical_accuracy: 0.5400\n",
      "Epoch 275/400\n",
      "10/10 [==============================] - 0s 9ms/step - loss: 0.9714 - sparse_categorical_accuracy: 0.5660 - val_loss: 1.2573 - val_sparse_categorical_accuracy: 0.5400\n",
      "Epoch 276/400\n",
      "10/10 [==============================] - 0s 8ms/step - loss: 0.9723 - sparse_categorical_accuracy: 0.5680 - val_loss: 1.2435 - val_sparse_categorical_accuracy: 0.5380\n",
      "Epoch 277/400\n",
      "10/10 [==============================] - 0s 8ms/step - loss: 0.9712 - sparse_categorical_accuracy: 0.5680 - val_loss: 1.2560 - val_sparse_categorical_accuracy: 0.5380\n",
      "Epoch 278/400\n",
      "10/10 [==============================] - 0s 9ms/step - loss: 0.9700 - sparse_categorical_accuracy: 0.5680 - val_loss: 1.2671 - val_sparse_categorical_accuracy: 0.5400\n",
      "Epoch 279/400\n",
      "10/10 [==============================] - 0s 7ms/step - loss: 0.9710 - sparse_categorical_accuracy: 0.5680 - val_loss: 1.2701 - val_sparse_categorical_accuracy: 0.5400\n",
      "Epoch 280/400\n",
      "10/10 [==============================] - 0s 6ms/step - loss: 0.9696 - sparse_categorical_accuracy: 0.5680 - val_loss: 1.2508 - val_sparse_categorical_accuracy: 0.5360\n",
      "Epoch 281/400\n",
      "10/10 [==============================] - 0s 7ms/step - loss: 0.9706 - sparse_categorical_accuracy: 0.5680 - val_loss: 1.2753 - val_sparse_categorical_accuracy: 0.5400\n",
      "Epoch 282/400\n",
      "10/10 [==============================] - 0s 7ms/step - loss: 0.9683 - sparse_categorical_accuracy: 0.5720 - val_loss: 1.3036 - val_sparse_categorical_accuracy: 0.5360\n",
      "Epoch 283/400\n",
      "10/10 [==============================] - 0s 7ms/step - loss: 0.9683 - sparse_categorical_accuracy: 0.5700 - val_loss: 1.2607 - val_sparse_categorical_accuracy: 0.5400\n",
      "Epoch 284/400\n",
      "10/10 [==============================] - 0s 7ms/step - loss: 0.9676 - sparse_categorical_accuracy: 0.5700 - val_loss: 1.2827 - val_sparse_categorical_accuracy: 0.5380\n",
      "Epoch 285/400\n",
      "10/10 [==============================] - 0s 7ms/step - loss: 0.9663 - sparse_categorical_accuracy: 0.5720 - val_loss: 1.2937 - val_sparse_categorical_accuracy: 0.5420\n",
      "Epoch 286/400\n",
      "10/10 [==============================] - 0s 7ms/step - loss: 0.9655 - sparse_categorical_accuracy: 0.5720 - val_loss: 1.2999 - val_sparse_categorical_accuracy: 0.5420\n",
      "Epoch 287/400\n",
      "10/10 [==============================] - 0s 7ms/step - loss: 0.9662 - sparse_categorical_accuracy: 0.5720 - val_loss: 1.3089 - val_sparse_categorical_accuracy: 0.5420\n",
      "Epoch 288/400\n",
      "10/10 [==============================] - 0s 7ms/step - loss: 0.9651 - sparse_categorical_accuracy: 0.5720 - val_loss: 1.3066 - val_sparse_categorical_accuracy: 0.5420\n",
      "Epoch 289/400\n",
      "10/10 [==============================] - 0s 7ms/step - loss: 0.9637 - sparse_categorical_accuracy: 0.5720 - val_loss: 1.3218 - val_sparse_categorical_accuracy: 0.5420\n",
      "Epoch 290/400\n",
      "10/10 [==============================] - 0s 8ms/step - loss: 0.9658 - sparse_categorical_accuracy: 0.5720 - val_loss: 1.3205 - val_sparse_categorical_accuracy: 0.5420\n",
      "Epoch 291/400\n",
      "10/10 [==============================] - 0s 8ms/step - loss: 0.9646 - sparse_categorical_accuracy: 0.5720 - val_loss: 1.3310 - val_sparse_categorical_accuracy: 0.5440\n",
      "Epoch 292/400\n",
      "10/10 [==============================] - 0s 8ms/step - loss: 0.9664 - sparse_categorical_accuracy: 0.5720 - val_loss: 1.3095 - val_sparse_categorical_accuracy: 0.5420\n",
      "Epoch 293/400\n",
      "10/10 [==============================] - 0s 7ms/step - loss: 0.9641 - sparse_categorical_accuracy: 0.5720 - val_loss: 1.1978 - val_sparse_categorical_accuracy: 0.5400\n",
      "Epoch 294/400\n",
      "10/10 [==============================] - 0s 7ms/step - loss: 0.9655 - sparse_categorical_accuracy: 0.5700 - val_loss: 1.2327 - val_sparse_categorical_accuracy: 0.5440\n",
      "Epoch 295/400\n",
      "10/10 [==============================] - 0s 6ms/step - loss: 0.9633 - sparse_categorical_accuracy: 0.5720 - val_loss: 1.2339 - val_sparse_categorical_accuracy: 0.5440\n",
      "Epoch 296/400\n",
      "10/10 [==============================] - 0s 7ms/step - loss: 0.9636 - sparse_categorical_accuracy: 0.5720 - val_loss: 1.2430 - val_sparse_categorical_accuracy: 0.5440\n",
      "Epoch 297/400\n",
      "10/10 [==============================] - 0s 8ms/step - loss: 0.9607 - sparse_categorical_accuracy: 0.5720 - val_loss: 1.2678 - val_sparse_categorical_accuracy: 0.5440\n",
      "Epoch 298/400\n",
      "10/10 [==============================] - 0s 8ms/step - loss: 0.9636 - sparse_categorical_accuracy: 0.5720 - val_loss: 1.2601 - val_sparse_categorical_accuracy: 0.5440\n",
      "Epoch 299/400\n",
      "10/10 [==============================] - 0s 6ms/step - loss: 0.9643 - sparse_categorical_accuracy: 0.5720 - val_loss: 1.2619 - val_sparse_categorical_accuracy: 0.5460\n",
      "Epoch 300/400\n",
      "10/10 [==============================] - 0s 7ms/step - loss: 0.9634 - sparse_categorical_accuracy: 0.5720 - val_loss: 1.2645 - val_sparse_categorical_accuracy: 0.5460\n",
      "Epoch 301/400\n",
      "10/10 [==============================] - 0s 6ms/step - loss: 0.9617 - sparse_categorical_accuracy: 0.5720 - val_loss: 1.2725 - val_sparse_categorical_accuracy: 0.5440\n",
      "Epoch 302/400\n",
      "10/10 [==============================] - 0s 6ms/step - loss: 0.9626 - sparse_categorical_accuracy: 0.5720 - val_loss: 1.2771 - val_sparse_categorical_accuracy: 0.5420\n",
      "Epoch 303/400\n",
      "10/10 [==============================] - 0s 6ms/step - loss: 0.9825 - sparse_categorical_accuracy: 0.5720 - val_loss: 1.2257 - val_sparse_categorical_accuracy: 0.5400\n",
      "Epoch 304/400\n",
      "10/10 [==============================] - 0s 6ms/step - loss: 0.9693 - sparse_categorical_accuracy: 0.5700 - val_loss: 1.2351 - val_sparse_categorical_accuracy: 0.5400\n",
      "Epoch 305/400\n",
      "10/10 [==============================] - 0s 8ms/step - loss: 0.9675 - sparse_categorical_accuracy: 0.5700 - val_loss: 1.2404 - val_sparse_categorical_accuracy: 0.5400\n",
      "Epoch 306/400\n",
      "10/10 [==============================] - 0s 7ms/step - loss: 0.9663 - sparse_categorical_accuracy: 0.5700 - val_loss: 1.2475 - val_sparse_categorical_accuracy: 0.5400\n",
      "Epoch 307/400\n",
      "10/10 [==============================] - 0s 8ms/step - loss: 0.9650 - sparse_categorical_accuracy: 0.5700 - val_loss: 1.2396 - val_sparse_categorical_accuracy: 0.5400\n",
      "Epoch 308/400\n",
      "10/10 [==============================] - 0s 7ms/step - loss: 0.9652 - sparse_categorical_accuracy: 0.5700 - val_loss: 1.2500 - val_sparse_categorical_accuracy: 0.5420\n",
      "Epoch 309/400\n",
      "10/10 [==============================] - 0s 6ms/step - loss: 0.9634 - sparse_categorical_accuracy: 0.5700 - val_loss: 1.2632 - val_sparse_categorical_accuracy: 0.5420\n",
      "Epoch 310/400\n",
      "10/10 [==============================] - 0s 7ms/step - loss: 0.9632 - sparse_categorical_accuracy: 0.5700 - val_loss: 1.2656 - val_sparse_categorical_accuracy: 0.5400\n",
      "Epoch 311/400\n",
      "10/10 [==============================] - 0s 6ms/step - loss: 0.9615 - sparse_categorical_accuracy: 0.5700 - val_loss: 1.2860 - val_sparse_categorical_accuracy: 0.5440\n",
      "Epoch 312/400\n",
      "10/10 [==============================] - 0s 7ms/step - loss: 0.9597 - sparse_categorical_accuracy: 0.5720 - val_loss: 1.2479 - val_sparse_categorical_accuracy: 0.5400\n",
      "Epoch 313/400\n",
      "10/10 [==============================] - 0s 8ms/step - loss: 0.9599 - sparse_categorical_accuracy: 0.5720 - val_loss: 1.2940 - val_sparse_categorical_accuracy: 0.5440\n",
      "Epoch 314/400\n",
      "10/10 [==============================] - 0s 6ms/step - loss: 0.9566 - sparse_categorical_accuracy: 0.5760 - val_loss: 1.3144 - val_sparse_categorical_accuracy: 0.5480\n",
      "Epoch 315/400\n",
      "10/10 [==============================] - 0s 8ms/step - loss: 0.9593 - sparse_categorical_accuracy: 0.5780 - val_loss: 1.3000 - val_sparse_categorical_accuracy: 0.5460\n",
      "Epoch 316/400\n",
      "10/10 [==============================] - 0s 8ms/step - loss: 0.9572 - sparse_categorical_accuracy: 0.5760 - val_loss: 1.3021 - val_sparse_categorical_accuracy: 0.5460\n",
      "Epoch 317/400\n",
      "10/10 [==============================] - 0s 7ms/step - loss: 0.9579 - sparse_categorical_accuracy: 0.5780 - val_loss: 1.4327 - val_sparse_categorical_accuracy: 0.5480\n",
      "Epoch 318/400\n",
      "10/10 [==============================] - 0s 6ms/step - loss: 0.9741 - sparse_categorical_accuracy: 0.5800 - val_loss: 1.2356 - val_sparse_categorical_accuracy: 0.5500\n",
      "Epoch 319/400\n",
      "10/10 [==============================] - 0s 9ms/step - loss: 0.9512 - sparse_categorical_accuracy: 0.5820 - val_loss: 1.2956 - val_sparse_categorical_accuracy: 0.5520\n",
      "Epoch 320/400\n",
      "10/10 [==============================] - 0s 7ms/step - loss: 0.9495 - sparse_categorical_accuracy: 0.5820 - val_loss: 1.2694 - val_sparse_categorical_accuracy: 0.5480\n",
      "Epoch 321/400\n",
      "10/10 [==============================] - 0s 7ms/step - loss: 0.9461 - sparse_categorical_accuracy: 0.5840 - val_loss: 1.3411 - val_sparse_categorical_accuracy: 0.5480\n",
      "Epoch 322/400\n",
      "10/10 [==============================] - 0s 7ms/step - loss: 0.9430 - sparse_categorical_accuracy: 0.5860 - val_loss: 1.3615 - val_sparse_categorical_accuracy: 0.5500\n",
      "Epoch 323/400\n",
      "10/10 [==============================] - 0s 7ms/step - loss: 0.9425 - sparse_categorical_accuracy: 0.5860 - val_loss: 1.3698 - val_sparse_categorical_accuracy: 0.5500\n",
      "Epoch 324/400\n",
      "10/10 [==============================] - 0s 7ms/step - loss: 0.9425 - sparse_categorical_accuracy: 0.5860 - val_loss: 1.3715 - val_sparse_categorical_accuracy: 0.5500\n",
      "Epoch 325/400\n",
      "10/10 [==============================] - 0s 6ms/step - loss: 0.9414 - sparse_categorical_accuracy: 0.5860 - val_loss: 1.3794 - val_sparse_categorical_accuracy: 0.5500\n",
      "Epoch 326/400\n",
      "10/10 [==============================] - 0s 10ms/step - loss: 0.9423 - sparse_categorical_accuracy: 0.5860 - val_loss: 1.3897 - val_sparse_categorical_accuracy: 0.5500\n",
      "Epoch 327/400\n",
      "10/10 [==============================] - 0s 7ms/step - loss: 0.9394 - sparse_categorical_accuracy: 0.5920 - val_loss: 1.4266 - val_sparse_categorical_accuracy: 0.5440\n",
      "Epoch 328/400\n",
      "10/10 [==============================] - 0s 8ms/step - loss: 0.9474 - sparse_categorical_accuracy: 0.5840 - val_loss: 1.2317 - val_sparse_categorical_accuracy: 0.5540\n",
      "Epoch 329/400\n",
      "10/10 [==============================] - 0s 6ms/step - loss: 0.9440 - sparse_categorical_accuracy: 0.5880 - val_loss: 1.2870 - val_sparse_categorical_accuracy: 0.5520\n",
      "Epoch 330/400\n",
      "10/10 [==============================] - 0s 7ms/step - loss: 0.9428 - sparse_categorical_accuracy: 0.5880 - val_loss: 1.3069 - val_sparse_categorical_accuracy: 0.5520\n",
      "Epoch 331/400\n",
      "10/10 [==============================] - 0s 6ms/step - loss: 0.9436 - sparse_categorical_accuracy: 0.5880 - val_loss: 1.2567 - val_sparse_categorical_accuracy: 0.5520\n",
      "Epoch 332/400\n",
      "10/10 [==============================] - 0s 8ms/step - loss: 0.9415 - sparse_categorical_accuracy: 0.5840 - val_loss: 1.2855 - val_sparse_categorical_accuracy: 0.5520\n",
      "Epoch 333/400\n",
      "10/10 [==============================] - 0s 8ms/step - loss: 0.9437 - sparse_categorical_accuracy: 0.5820 - val_loss: 1.3633 - val_sparse_categorical_accuracy: 0.5500\n",
      "Epoch 334/400\n",
      "10/10 [==============================] - 0s 6ms/step - loss: 0.9438 - sparse_categorical_accuracy: 0.5820 - val_loss: 1.2977 - val_sparse_categorical_accuracy: 0.5520\n",
      "Epoch 335/400\n",
      "10/10 [==============================] - 0s 7ms/step - loss: 0.9401 - sparse_categorical_accuracy: 0.5840 - val_loss: 1.3277 - val_sparse_categorical_accuracy: 0.5520\n",
      "Epoch 336/400\n",
      "10/10 [==============================] - 0s 7ms/step - loss: 0.9385 - sparse_categorical_accuracy: 0.5860 - val_loss: 1.3414 - val_sparse_categorical_accuracy: 0.5520\n",
      "Epoch 337/400\n",
      "10/10 [==============================] - 0s 7ms/step - loss: 0.9382 - sparse_categorical_accuracy: 0.5880 - val_loss: 1.3367 - val_sparse_categorical_accuracy: 0.5520\n",
      "Epoch 338/400\n",
      "10/10 [==============================] - 0s 7ms/step - loss: 0.9375 - sparse_categorical_accuracy: 0.5880 - val_loss: 1.3418 - val_sparse_categorical_accuracy: 0.5520\n",
      "Epoch 339/400\n",
      "10/10 [==============================] - 0s 6ms/step - loss: 0.9382 - sparse_categorical_accuracy: 0.5880 - val_loss: 1.3454 - val_sparse_categorical_accuracy: 0.5520\n",
      "Epoch 340/400\n",
      "10/10 [==============================] - 0s 7ms/step - loss: 0.9377 - sparse_categorical_accuracy: 0.5880 - val_loss: 1.3437 - val_sparse_categorical_accuracy: 0.5520\n",
      "Epoch 341/400\n",
      "10/10 [==============================] - 0s 7ms/step - loss: 0.9376 - sparse_categorical_accuracy: 0.5860 - val_loss: 1.3485 - val_sparse_categorical_accuracy: 0.5520\n",
      "Epoch 342/400\n",
      "10/10 [==============================] - 0s 7ms/step - loss: 0.9382 - sparse_categorical_accuracy: 0.5860 - val_loss: 1.3418 - val_sparse_categorical_accuracy: 0.5520\n",
      "Epoch 343/400\n",
      "10/10 [==============================] - 0s 7ms/step - loss: 0.9369 - sparse_categorical_accuracy: 0.5860 - val_loss: 1.3409 - val_sparse_categorical_accuracy: 0.5520\n",
      "Epoch 344/400\n",
      "10/10 [==============================] - 0s 7ms/step - loss: 0.9371 - sparse_categorical_accuracy: 0.5860 - val_loss: 1.3653 - val_sparse_categorical_accuracy: 0.5500\n",
      "Epoch 345/400\n",
      "10/10 [==============================] - 0s 8ms/step - loss: 0.9366 - sparse_categorical_accuracy: 0.5880 - val_loss: 1.3767 - val_sparse_categorical_accuracy: 0.5520\n",
      "Epoch 346/400\n",
      "10/10 [==============================] - 0s 9ms/step - loss: 0.9388 - sparse_categorical_accuracy: 0.5840 - val_loss: 1.3381 - val_sparse_categorical_accuracy: 0.5540\n",
      "Epoch 347/400\n",
      "10/10 [==============================] - 0s 7ms/step - loss: 0.9391 - sparse_categorical_accuracy: 0.5860 - val_loss: 1.3601 - val_sparse_categorical_accuracy: 0.5500\n",
      "Epoch 348/400\n",
      "10/10 [==============================] - 0s 8ms/step - loss: 0.9358 - sparse_categorical_accuracy: 0.5860 - val_loss: 1.3549 - val_sparse_categorical_accuracy: 0.5500\n",
      "Epoch 349/400\n",
      "10/10 [==============================] - 0s 7ms/step - loss: 0.9362 - sparse_categorical_accuracy: 0.5840 - val_loss: 1.3613 - val_sparse_categorical_accuracy: 0.5520\n",
      "Epoch 350/400\n",
      "10/10 [==============================] - 0s 6ms/step - loss: 0.9359 - sparse_categorical_accuracy: 0.5840 - val_loss: 1.3683 - val_sparse_categorical_accuracy: 0.5500\n",
      "Epoch 351/400\n",
      "10/10 [==============================] - 0s 7ms/step - loss: 0.9362 - sparse_categorical_accuracy: 0.5840 - val_loss: 1.3678 - val_sparse_categorical_accuracy: 0.5480\n",
      "Epoch 352/400\n",
      "10/10 [==============================] - 0s 7ms/step - loss: 0.9349 - sparse_categorical_accuracy: 0.5840 - val_loss: 1.3864 - val_sparse_categorical_accuracy: 0.5500\n",
      "Epoch 353/400\n",
      "10/10 [==============================] - 0s 7ms/step - loss: 0.9355 - sparse_categorical_accuracy: 0.5860 - val_loss: 1.3668 - val_sparse_categorical_accuracy: 0.5500\n",
      "Epoch 354/400\n",
      "10/10 [==============================] - 0s 7ms/step - loss: 0.9355 - sparse_categorical_accuracy: 0.5860 - val_loss: 1.3891 - val_sparse_categorical_accuracy: 0.5460\n",
      "Epoch 355/400\n",
      "10/10 [==============================] - 0s 7ms/step - loss: 0.9325 - sparse_categorical_accuracy: 0.5840 - val_loss: 1.3932 - val_sparse_categorical_accuracy: 0.5480\n",
      "Epoch 356/400\n",
      "10/10 [==============================] - 0s 7ms/step - loss: 0.9337 - sparse_categorical_accuracy: 0.5840 - val_loss: 1.3748 - val_sparse_categorical_accuracy: 0.5440\n",
      "Epoch 357/400\n",
      "10/10 [==============================] - 0s 7ms/step - loss: 0.9358 - sparse_categorical_accuracy: 0.5820 - val_loss: 1.3839 - val_sparse_categorical_accuracy: 0.5480\n",
      "Epoch 358/400\n",
      "10/10 [==============================] - 0s 8ms/step - loss: 0.9336 - sparse_categorical_accuracy: 0.5840 - val_loss: 1.3926 - val_sparse_categorical_accuracy: 0.5480\n",
      "Epoch 359/400\n",
      "10/10 [==============================] - 0s 7ms/step - loss: 0.9331 - sparse_categorical_accuracy: 0.5860 - val_loss: 1.3933 - val_sparse_categorical_accuracy: 0.5480\n",
      "Epoch 360/400\n",
      "10/10 [==============================] - 0s 9ms/step - loss: 0.9334 - sparse_categorical_accuracy: 0.5860 - val_loss: 1.3970 - val_sparse_categorical_accuracy: 0.5480\n",
      "Epoch 361/400\n",
      "10/10 [==============================] - 0s 8ms/step - loss: 0.9321 - sparse_categorical_accuracy: 0.5860 - val_loss: 1.4106 - val_sparse_categorical_accuracy: 0.5480\n",
      "Epoch 362/400\n",
      "10/10 [==============================] - 0s 7ms/step - loss: 0.9335 - sparse_categorical_accuracy: 0.5840 - val_loss: 1.4094 - val_sparse_categorical_accuracy: 0.5480\n",
      "Epoch 363/400\n",
      "10/10 [==============================] - 0s 8ms/step - loss: 0.9340 - sparse_categorical_accuracy: 0.5860 - val_loss: 1.3958 - val_sparse_categorical_accuracy: 0.5400\n",
      "Epoch 364/400\n",
      "10/10 [==============================] - 0s 8ms/step - loss: 0.9329 - sparse_categorical_accuracy: 0.5820 - val_loss: 1.4054 - val_sparse_categorical_accuracy: 0.5480\n",
      "Epoch 365/400\n",
      "10/10 [==============================] - 0s 8ms/step - loss: 0.9324 - sparse_categorical_accuracy: 0.5860 - val_loss: 1.4220 - val_sparse_categorical_accuracy: 0.5480\n",
      "Epoch 366/400\n",
      "10/10 [==============================] - 0s 8ms/step - loss: 0.9324 - sparse_categorical_accuracy: 0.5820 - val_loss: 1.4210 - val_sparse_categorical_accuracy: 0.5480\n",
      "Epoch 367/400\n",
      "10/10 [==============================] - 0s 8ms/step - loss: 0.9319 - sparse_categorical_accuracy: 0.5860 - val_loss: 1.4161 - val_sparse_categorical_accuracy: 0.5440\n",
      "Epoch 368/400\n",
      "10/10 [==============================] - 0s 7ms/step - loss: 0.9308 - sparse_categorical_accuracy: 0.5860 - val_loss: 1.4079 - val_sparse_categorical_accuracy: 0.5460\n",
      "Epoch 369/400\n",
      "10/10 [==============================] - 0s 8ms/step - loss: 0.9330 - sparse_categorical_accuracy: 0.5880 - val_loss: 1.4233 - val_sparse_categorical_accuracy: 0.5420\n",
      "Epoch 370/400\n",
      "10/10 [==============================] - 0s 7ms/step - loss: 0.9338 - sparse_categorical_accuracy: 0.5880 - val_loss: 1.4200 - val_sparse_categorical_accuracy: 0.5320\n",
      "Epoch 371/400\n",
      "10/10 [==============================] - 0s 7ms/step - loss: 0.9317 - sparse_categorical_accuracy: 0.5840 - val_loss: 1.4246 - val_sparse_categorical_accuracy: 0.5420\n",
      "Epoch 372/400\n",
      "10/10 [==============================] - 0s 7ms/step - loss: 0.9322 - sparse_categorical_accuracy: 0.5840 - val_loss: 1.4232 - val_sparse_categorical_accuracy: 0.5320\n",
      "Epoch 373/400\n",
      "10/10 [==============================] - 0s 8ms/step - loss: 0.9337 - sparse_categorical_accuracy: 0.5840 - val_loss: 1.4357 - val_sparse_categorical_accuracy: 0.5320\n",
      "Epoch 374/400\n",
      "10/10 [==============================] - 0s 7ms/step - loss: 0.9370 - sparse_categorical_accuracy: 0.5740 - val_loss: 1.3761 - val_sparse_categorical_accuracy: 0.5440\n",
      "Epoch 375/400\n",
      "10/10 [==============================] - 0s 7ms/step - loss: 0.9329 - sparse_categorical_accuracy: 0.5820 - val_loss: 1.5403 - val_sparse_categorical_accuracy: 0.5480\n",
      "Epoch 376/400\n",
      "10/10 [==============================] - 0s 8ms/step - loss: 0.9322 - sparse_categorical_accuracy: 0.5840 - val_loss: 1.3029 - val_sparse_categorical_accuracy: 0.5360\n",
      "Epoch 377/400\n",
      "10/10 [==============================] - 0s 8ms/step - loss: 0.9386 - sparse_categorical_accuracy: 0.5800 - val_loss: 1.3015 - val_sparse_categorical_accuracy: 0.5340\n",
      "Epoch 378/400\n",
      "10/10 [==============================] - 0s 6ms/step - loss: 0.9344 - sparse_categorical_accuracy: 0.5800 - val_loss: 1.3159 - val_sparse_categorical_accuracy: 0.5340\n",
      "Epoch 379/400\n",
      "10/10 [==============================] - 0s 7ms/step - loss: 0.9358 - sparse_categorical_accuracy: 0.5780 - val_loss: 1.3368 - val_sparse_categorical_accuracy: 0.5440\n",
      "Epoch 380/400\n",
      "10/10 [==============================] - 0s 6ms/step - loss: 0.9338 - sparse_categorical_accuracy: 0.5800 - val_loss: 1.3722 - val_sparse_categorical_accuracy: 0.5280\n",
      "Epoch 381/400\n",
      "10/10 [==============================] - 0s 6ms/step - loss: 0.9347 - sparse_categorical_accuracy: 0.5820 - val_loss: 1.4259 - val_sparse_categorical_accuracy: 0.5340\n",
      "Epoch 382/400\n",
      "10/10 [==============================] - 0s 6ms/step - loss: 0.9303 - sparse_categorical_accuracy: 0.5860 - val_loss: 1.4322 - val_sparse_categorical_accuracy: 0.5380\n",
      "Epoch 383/400\n",
      "10/10 [==============================] - 0s 8ms/step - loss: 0.9290 - sparse_categorical_accuracy: 0.5860 - val_loss: 1.4290 - val_sparse_categorical_accuracy: 0.5340\n",
      "Epoch 384/400\n",
      "10/10 [==============================] - 0s 8ms/step - loss: 0.9331 - sparse_categorical_accuracy: 0.5760 - val_loss: 1.3958 - val_sparse_categorical_accuracy: 0.5280\n",
      "Epoch 385/400\n",
      "10/10 [==============================] - 0s 7ms/step - loss: 0.9312 - sparse_categorical_accuracy: 0.5840 - val_loss: 1.4238 - val_sparse_categorical_accuracy: 0.5380\n",
      "Epoch 386/400\n",
      "10/10 [==============================] - 0s 8ms/step - loss: 0.9238 - sparse_categorical_accuracy: 0.5880 - val_loss: 1.4520 - val_sparse_categorical_accuracy: 0.5300\n",
      "Epoch 387/400\n",
      "10/10 [==============================] - 0s 8ms/step - loss: 0.9256 - sparse_categorical_accuracy: 0.5860 - val_loss: 1.4762 - val_sparse_categorical_accuracy: 0.5260\n",
      "Epoch 388/400\n",
      "10/10 [==============================] - 0s 8ms/step - loss: 0.9204 - sparse_categorical_accuracy: 0.5920 - val_loss: 1.5689 - val_sparse_categorical_accuracy: 0.5260\n",
      "Epoch 389/400\n",
      "10/10 [==============================] - 0s 8ms/step - loss: 0.9181 - sparse_categorical_accuracy: 0.5900 - val_loss: 1.5299 - val_sparse_categorical_accuracy: 0.5280\n",
      "Epoch 390/400\n",
      "10/10 [==============================] - 0s 8ms/step - loss: 0.9159 - sparse_categorical_accuracy: 0.5960 - val_loss: 1.4060 - val_sparse_categorical_accuracy: 0.5240\n",
      "Epoch 391/400\n",
      "10/10 [==============================] - 0s 9ms/step - loss: 0.9317 - sparse_categorical_accuracy: 0.5800 - val_loss: 1.5320 - val_sparse_categorical_accuracy: 0.5300\n",
      "Epoch 392/400\n",
      "10/10 [==============================] - 0s 8ms/step - loss: 0.9233 - sparse_categorical_accuracy: 0.5920 - val_loss: 1.5413 - val_sparse_categorical_accuracy: 0.5300\n",
      "Epoch 393/400\n",
      "10/10 [==============================] - 0s 7ms/step - loss: 0.9259 - sparse_categorical_accuracy: 0.5840 - val_loss: 1.3330 - val_sparse_categorical_accuracy: 0.5300\n",
      "Epoch 394/400\n",
      "10/10 [==============================] - 0s 8ms/step - loss: 0.9286 - sparse_categorical_accuracy: 0.5900 - val_loss: 1.4366 - val_sparse_categorical_accuracy: 0.5300\n",
      "Epoch 395/400\n",
      "10/10 [==============================] - 0s 7ms/step - loss: 0.9231 - sparse_categorical_accuracy: 0.5940 - val_loss: 1.4810 - val_sparse_categorical_accuracy: 0.5300\n",
      "Epoch 396/400\n",
      "10/10 [==============================] - 0s 9ms/step - loss: 0.9195 - sparse_categorical_accuracy: 0.5920 - val_loss: 1.4883 - val_sparse_categorical_accuracy: 0.5300\n",
      "Epoch 397/400\n",
      "10/10 [==============================] - 0s 8ms/step - loss: 0.9160 - sparse_categorical_accuracy: 0.5960 - val_loss: 1.5246 - val_sparse_categorical_accuracy: 0.5260\n",
      "Epoch 398/400\n",
      "10/10 [==============================] - 0s 8ms/step - loss: 0.9152 - sparse_categorical_accuracy: 0.5920 - val_loss: 1.5297 - val_sparse_categorical_accuracy: 0.5320\n",
      "Epoch 399/400\n",
      "10/10 [==============================] - 0s 8ms/step - loss: 0.9128 - sparse_categorical_accuracy: 0.5960 - val_loss: 1.5018 - val_sparse_categorical_accuracy: 0.5280\n",
      "Epoch 400/400\n",
      "10/10 [==============================] - 0s 6ms/step - loss: 0.9147 - sparse_categorical_accuracy: 0.5960 - val_loss: 1.4950 - val_sparse_categorical_accuracy: 0.5240\n"
     ]
    }
   ],
   "source": [
    "#fit model\n",
    "history = model.fit(X_train, y_train,  epochs=400,\n",
    "         validation_data=(X_valid, y_valid),\n",
    "batch_size = 50\n",
    ")"
   ]
  },
  {
   "cell_type": "code",
   "execution_count": 51,
   "metadata": {
    "colab": {
     "base_uri": "https://localhost:8080/",
     "height": 342
    },
    "id": "nMjN-CnBpSeW",
    "outputId": "97a3bf88-19ed-41ea-954c-bc9c494b273f",
    "scrolled": true
   },
   "outputs": [
    {
     "data": {
      "text/plain": [
       "(0.0, 2.0)"
      ]
     },
     "execution_count": 51,
     "metadata": {},
     "output_type": "execute_result"
    },
    {
     "data": {
      "image/png": "[encoded data removed]",
      "text/plain": [
       "<Figure size 576x360 with 1 Axes>"
      ]
     },
     "metadata": {
      "needs_background": "light"
     },
     "output_type": "display_data"
    }
   ],
   "source": [
    "#Complete the code and plot your model\n",
    "import matplotlib.pyplot as plt\n",
    "pd.DataFrame(history.history).plot(figsize=(8, 5))\n",
    "plt.gca().set_ylim(0, 2)\n",
    "\n",
    "#is your model overfitting or underfitting?\n",
    "#A model is overfitting when:\n",
    "#loss on train set decreasing\n",
    "#loss on valid set stable/increasing\n",
    "\n",
    "# if there is a overfitting/underfitting problem, you might need to decrease/increase your model complexity"
   ]
  },
  {
   "cell_type": "code",
   "execution_count": 52,
   "metadata": {
    "colab": {
     "base_uri": "https://localhost:8080/"
    },
    "id": "RFBweBI-pSeX",
    "outputId": "be8d1dd3-2840-4ae9-b35a-8d4f51d415e8"
   },
   "outputs": [
    {
     "name": "stdout",
     "output_type": "stream",
     "text": [
      "4/4 [==============================] - 0s 5ms/step - loss: 1.2693 - sparse_categorical_accuracy: 0.5760\n",
      "test loss, test acc: [1.2693402767181396, 0.5759999752044678]\n"
     ]
    }
   ],
   "source": [
    "## evaluate the model on the testing dataset\n",
    "results = model.evaluate(X_test, y_test, batch_size=128)\n",
    "print(\"test loss, test acc:\", results)"
   ]
  },
  {
   "cell_type": "markdown",
   "metadata": {
    "id": "yYYmSJyRpSeX"
   },
   "source": [
    "---\n",
    "#**Part 2: Practical 8**\n",
    "---"
   ]
  },
  {
   "cell_type": "markdown",
   "metadata": {
    "id": "P0IVIllAKfNH"
   },
   "source": [
    "## Task 4: Refine your model\n",
    "\n",
    "Copy your model below.\n",
    "\n",
    "Now try and improve it by:\n",
    "* adding/deleting layers or increasing/decreasing neurons in layers\n",
    "* changing the initialization of the weights in the layers\n",
    "* changing the activation function\n",
    "* including batch normalization\n",
    "\n",
    "**What helped? What didn't? Is it a combination? Does the improvement worth it (considering the score on the validation set)?**\n",
    "\n",
    "**Note:** If you want to see what weights have been learnt you can call:\n",
    "```\n",
    "model.weights\n",
    "```\n",
    "after training."
   ]
  },
  {
   "cell_type": "code",
   "execution_count": 53,
   "metadata": {
    "colab": {
     "base_uri": "https://localhost:8080/",
     "height": 359
    },
    "id": "qqrKu99zKdgf",
    "outputId": "456e8a4f-b26f-4fc7-e401-4e89b0600547"
   },
   "outputs": [
    {
     "data": {
      "image/png": "[encoded data removed]",
      "text/plain": [
       "<Figure size 576x360 with 1 Axes>"
      ]
     },
     "metadata": {
      "needs_background": "light"
     },
     "output_type": "display_data"
    },
    {
     "name": "stdout",
     "output_type": "stream",
     "text": [
      "16/16 [==============================] - 0s 2ms/step - loss: 0.8591 - sparse_categorical_accuracy: 0.6660\n"
     ]
    },
    {
     "data": {
      "text/plain": [
       "[0.859097957611084, 0.6660000085830688]"
      ]
     },
     "execution_count": 53,
     "metadata": {},
     "output_type": "execute_result"
    }
   ],
   "source": [
    "import matplotlib.pyplot as plt\n",
    "import tensorflow as tf\n",
    "from tensorflow import keras\n",
    "from tensorflow.keras.layers import BatchNormalization\n",
    "\n",
    "model2 = keras.models.Sequential([\n",
    "    BatchNormalization( input_shape = [X_train.shape[1]]),\n",
    "    keras.layers.Dense(10, activation=\"elu\",kernel_initializer=keras.initializers.he_normal(seed=13111985),use_bias=False),\n",
    "    BatchNormalization(),\n",
    "    keras.layers.Dense(8, activation=\"elu\",kernel_initializer=keras.initializers.he_normal(seed=13111985),use_bias=False),\n",
    "    BatchNormalization(),\n",
    "    keras.layers.Dense(6, activation=\"elu\",kernel_initializer=keras.initializers.he_normal(seed=13111985),use_bias=False),\n",
    "    BatchNormalization(),\n",
    "    keras.layers.Dense(3, activation=\"softmax\")\n",
    "])\n",
    "\n",
    "model2.compile(loss=\"sparse_categorical_crossentropy\",\n",
    "              optimizer=\"sgd\",\n",
    "              metrics=[\"sparse_categorical_accuracy\"])\n",
    "\n",
    "history = model2.fit(X_train, y_train, epochs=400,\n",
    "                    validation_data=(X_valid, y_valid),verbose = 0, batch_size = 50)\n",
    "\n",
    "pd.DataFrame(history.history).plot(figsize=(8, 5))\n",
    "plt.grid(True)\n",
    "plt.gca().set_ylim(0, 2)\n",
    "#save_fig(\"keras_learning_curves_graph\")\n",
    "plt.show()\n",
    "model2.evaluate(X_valid,y_valid)"
   ]
  },
  {
   "cell_type": "markdown",
   "metadata": {
    "id": "36cW5histcAO"
   },
   "source": [
    "## Task 4b: Test the two models (from Tasks 3 & 4) on the test set\n",
    "What was the difference in performance? **NOTE: this is in general bad practice if we were going to then select and use one of these models.** Why? As we are procedurally overfitting (selecting based on knowledge from the test set). However, for now it serves to show to you while you learn that the model is actually doing better on completely unseen instances."
   ]
  },
  {
   "cell_type": "code",
   "execution_count": 54,
   "metadata": {
    "colab": {
     "base_uri": "https://localhost:8080/"
    },
    "id": "-ClTEfXltnYn",
    "outputId": "7a1deb5e-6630-40c5-e899-910880ab21ef"
   },
   "outputs": [
    {
     "name": "stdout",
     "output_type": "stream",
     "text": [
      "16/16 [==============================] - 0s 2ms/step - loss: 1.2693 - sparse_categorical_accuracy: 0.5760\n",
      "16/16 [==============================] - 0s 2ms/step - loss: 0.7381 - sparse_categorical_accuracy: 0.6700\n"
     ]
    }
   ],
   "source": [
    "m1 = model.evaluate(X_test,y_test)\n",
    "m2 = model2.evaluate(X_test,y_test)"
   ]
  },
  {
   "cell_type": "markdown",
   "metadata": {
    "id": "rzBETHqru9FJ"
   },
   "source": [
    "## Task 5: Try adding regularitsation to your model to improve it\n",
    "As per the slides, I'd recommend trying a version of dropout. \n",
    "\n",
    "**HINT:** you may need to include more neurons per layer. \n",
    "\n",
    "Why? Your problem may have high complexity. Removing the model's ability to model this (via dropout) may hurt."
   ]
  },
  {
   "cell_type": "code",
   "execution_count": 55,
   "metadata": {
    "colab": {
     "base_uri": "https://localhost:8080/",
     "height": 359
    },
    "id": "1merd7_NviKp",
    "outputId": "4041078a-b72e-4a88-dfdd-1b568f0d9b83"
   },
   "outputs": [
    {
     "data": {
      "image/png": "[encoded data removed]",
      "text/plain": [
       "<Figure size 576x360 with 1 Axes>"
      ]
     },
     "metadata": {
      "needs_background": "light"
     },
     "output_type": "display_data"
    },
    {
     "name": "stdout",
     "output_type": "stream",
     "text": [
      "16/16 [==============================] - 0s 2ms/step - loss: 1.3717 - sparse_categorical_accuracy: 0.6480\n"
     ]
    },
    {
     "data": {
      "text/plain": [
       "[1.3717375993728638, 0.6480000019073486]"
      ]
     },
     "execution_count": 55,
     "metadata": {},
     "output_type": "execute_result"
    }
   ],
   "source": [
    "import matplotlib.pyplot as plt\n",
    "import tensorflow as tf\n",
    "from tensorflow import keras\n",
    "from tensorflow.keras.layers import BatchNormalization\n",
    "\n",
    "model3 = keras.models.Sequential([\n",
    "    keras.layers.AlphaDropout(rate=0.2,input_shape = [X_test.shape[1]]),\n",
    "    BatchNormalization( ),\n",
    "    keras.layers.Dense(30, activation=\"elu\",kernel_initializer=keras.initializers.he_normal(seed=13111985),use_bias=False),\n",
    "    keras.layers.AlphaDropout(rate=0.2),\n",
    "    BatchNormalization(),\n",
    "    keras.layers.Dense(20, activation=\"elu\",kernel_initializer=keras.initializers.he_normal(seed=13111985),use_bias=False),\n",
    "    keras.layers.AlphaDropout(rate=0.2),\n",
    "    BatchNormalization(),\n",
    "    keras.layers.Dense(12, activation=\"elu\",kernel_initializer=keras.initializers.he_normal(seed=13111985),use_bias=False),\n",
    "    keras.layers.AlphaDropout(rate=0.2),\n",
    "    BatchNormalization(),\n",
    "    keras.layers.Dense(3, activation=\"softmax\")\n",
    "])\n",
    "\n",
    "model3.compile(loss=\"sparse_categorical_crossentropy\",\n",
    "              optimizer=\"sgd\",\n",
    "              metrics=[\"sparse_categorical_accuracy\"])\n",
    "\n",
    "history = model3.fit(X_train, y_train, epochs=400,\n",
    "                    validation_data=(X_valid, y_valid),verbose = 0, batch_size = 50)\n",
    "\n",
    "pd.DataFrame(history.history).plot(figsize=(8, 5))\n",
    "plt.grid(True)\n",
    "plt.gca().set_ylim(0, 2)\n",
    "#save_fig(\"keras_learning_curves_graph\")\n",
    "plt.show()\n",
    "model3.evaluate(X_valid,y_valid)"
   ]
  },
  {
   "cell_type": "markdown",
   "metadata": {
    "id": "mbBNZGQZ0xKH"
   },
   "source": [
    "## Task 5b: Test all the models so far on the test set\n",
    "**Once again note: this is in general bad practice if we were going to then select and use one of these models.** Why? As we are procedurally overfitting (selecting based on knowledge from the test set). However, for now it serves to show to you while you learn that the model is actually doing better on completely unseen instances."
   ]
  },
  {
   "cell_type": "code",
   "execution_count": 56,
   "metadata": {
    "colab": {
     "base_uri": "https://localhost:8080/"
    },
    "id": "xbfSxrVW1ebS",
    "outputId": "dedf4251-7d97-40af-d9ea-1f885ef47f2c"
   },
   "outputs": [
    {
     "name": "stdout",
     "output_type": "stream",
     "text": [
      "16/16 [==============================] - 0s 2ms/step - loss: 1.2693 - sparse_categorical_accuracy: 0.5760\n",
      "16/16 [==============================] - 0s 2ms/step - loss: 0.7381 - sparse_categorical_accuracy: 0.6700\n",
      "16/16 [==============================] - 0s 3ms/step - loss: 1.1182 - sparse_categorical_accuracy: 0.6640\n"
     ]
    }
   ],
   "source": [
    "m1 = model.evaluate(X_test,y_test)\n",
    "m2 = model2.evaluate(X_test,y_test)\n",
    "m3 = model3.evaluate(X_test,y_test)"
   ]
  },
  {
   "cell_type": "markdown",
   "metadata": {
    "id": "V2MWRcvuz6vZ"
   },
   "source": [
    "## Task 6: Add early stopping\n",
    "**HINT 1:** Think about what you are monitoring (if you want the validation version prepend the name with 'val_')\n",
    "\n",
    "**HINT 2:** Set the min_delta by considering the performance of past models.\n",
    "\n",
    "**HINT 3:** In the specific version of tensorflow we're using (2.0) the import is:\n",
    "`from tensorflow.keras.callbacks import ModelCheckpoint, EarlyStopping`\n",
    "This has changed in tensorflow 2.1"
   ]
  },
  {
   "cell_type": "code",
   "execution_count": 57,
   "metadata": {
    "colab": {
     "base_uri": "https://localhost:8080/",
     "height": 359
    },
    "id": "kxMRRUfL2go5",
    "outputId": "e94f8e54-0f1a-411c-ac73-492341ac340a"
   },
   "outputs": [
    {
     "data": {
      "image/png": "[encoded data removed]",
      "text/plain": [
       "<Figure size 576x360 with 1 Axes>"
      ]
     },
     "metadata": {
      "needs_background": "light"
     },
     "output_type": "display_data"
    },
    {
     "name": "stdout",
     "output_type": "stream",
     "text": [
      "16/16 [==============================] - 0s 2ms/step - loss: 0.8490 - sparse_categorical_accuracy: 0.6520\n"
     ]
    },
    {
     "data": {
      "text/plain": [
       "[0.8490180373191833, 0.6520000100135803]"
      ]
     },
     "execution_count": 57,
     "metadata": {},
     "output_type": "execute_result"
    }
   ],
   "source": [
    "import matplotlib.pyplot as plt\n",
    "import tensorflow as tf\n",
    "from tensorflow import keras\n",
    "from tensorflow.keras.layers import BatchNormalization\n",
    "from tensorflow.keras.callbacks import ModelCheckpoint, EarlyStopping\n",
    "\n",
    "mc = ModelCheckpoint(\n",
    "'best_model.h5', \n",
    "monitor='val_sparse_categorical_accuracy',\n",
    "save_best_only = True\n",
    ")\n",
    "\n",
    "es = EarlyStopping(\n",
    "     monitor='val_sparse_categorical_accuracy', \n",
    "     min_delta = 0.01, \n",
    "     patience=50)\n",
    "\n",
    "\n",
    "\n",
    "model4 = keras.models.Sequential([\n",
    "    keras.layers.AlphaDropout(rate=0.2,input_shape = [X_test.shape[1]]),\n",
    "    BatchNormalization( ),\n",
    "    keras.layers.Dense(30, activation=\"elu\",kernel_initializer=keras.initializers.he_normal(seed=13111985),use_bias=False),\n",
    "    keras.layers.AlphaDropout(rate=0.2),\n",
    "    BatchNormalization(),\n",
    "    keras.layers.Dense(20, activation=\"elu\",kernel_initializer=keras.initializers.he_normal(seed=13111985),use_bias=False),\n",
    "    keras.layers.AlphaDropout(rate=0.2),\n",
    "    BatchNormalization(),\n",
    "    keras.layers.Dense(12, activation=\"elu\",kernel_initializer=keras.initializers.he_normal(seed=13111985),use_bias=False),\n",
    "    keras.layers.AlphaDropout(rate=0.2),\n",
    "    BatchNormalization(),\n",
    "    keras.layers.Dense(3, activation=\"softmax\")\n",
    "])\n",
    "\n",
    "model4.compile(loss=\"sparse_categorical_crossentropy\",\n",
    "              optimizer=\"sgd\",\n",
    "              metrics=[\"sparse_categorical_accuracy\"])\n",
    "\n",
    "history = model4.fit(X_train, y_train, epochs=400,\n",
    "                    validation_data=(X_valid, y_valid),\n",
    "                     verbose = 0, batch_size = 50,\n",
    "                     callbacks=[es,mc])\n",
    "\n",
    "pd.DataFrame(history.history).plot(figsize=(8, 5))\n",
    "plt.grid(True)\n",
    "plt.gca().set_ylim(0, 2)\n",
    "#save_fig(\"keras_learning_curves_graph\")\n",
    "plt.show()\n",
    "model4.evaluate(X_valid,y_valid)"
   ]
  },
  {
   "cell_type": "markdown",
   "metadata": {
    "id": "zaOyr4BI4SEj"
   },
   "source": [
    "### Considering just the validation scores, did that help?\n"
   ]
  },
  {
   "cell_type": "code",
   "execution_count": null,
   "metadata": {
    "id": "kIqDc3We4ViX"
   },
   "outputs": [],
   "source": [
    "# Yes, in terms of computation time. We traded off a little accuracy though."
   ]
  },
  {
   "cell_type": "markdown",
   "metadata": {
    "id": "MfrH-rbm4fGM"
   },
   "source": [
    "## Task 6b: Test all the models so far on the test set\n",
    "**Once again note: this is in general bad practice if we were going to then select and use one of these models.** Why? As we are procedurally overfitting (selecting based on knowledge from the test set). However, for now it serves to show to you while you learn that the model is actually doing better on completely unseen instances."
   ]
  },
  {
   "cell_type": "code",
   "execution_count": 58,
   "metadata": {
    "colab": {
     "base_uri": "https://localhost:8080/"
    },
    "id": "HY2IO6294bC5",
    "outputId": "2bdbeb1e-a70e-4ab2-84ae-06414adebee5"
   },
   "outputs": [
    {
     "name": "stdout",
     "output_type": "stream",
     "text": [
      "16/16 [==============================] - 0s 2ms/step - loss: 1.2693 - sparse_categorical_accuracy: 0.5760\n",
      "16/16 [==============================] - 0s 2ms/step - loss: 0.7381 - sparse_categorical_accuracy: 0.6700\n",
      "16/16 [==============================] - 0s 2ms/step - loss: 1.1182 - sparse_categorical_accuracy: 0.6640\n",
      "16/16 [==============================] - 0s 2ms/step - loss: 0.8315 - sparse_categorical_accuracy: 0.6540\n"
     ]
    }
   ],
   "source": [
    "m1 = model.evaluate(X_test,y_test)\n",
    "m2 = model2.evaluate(X_test,y_test)\n",
    "m3 = model3.evaluate(X_test,y_test)\n",
    "m4 = model4.evaluate(X_test,y_test)"
   ]
  },
  {
   "cell_type": "markdown",
   "metadata": {
    "id": "jM2R0jVe6tkj"
   },
   "source": [
    "# Task 7: Change the optimizer\n",
    "Slide example:\n",
    "```\n",
    "# Momentum optimizer\n",
    "optimizer = keras.optimizers.SGD(lr=0.001, momentum=0.9)\n",
    "\n",
    "# AdaGrad\n",
    "optimizer = keras.optimizers.Adagrad(lr=0.001)\n",
    "\n",
    "# ADAM\n",
    "\n",
    "optimizer = keras.optimizers.Adam(lr=0.001, beta_1=0.9, beta_2=0.999)\n",
    "\n",
    "# Using the optimizer\n",
    "model.compile(\n",
    "loss=\"sparse_categorical_crossentropy\",\n",
    "     optimizer=optimizer,\n",
    "     metrics=[\"accuracy\"])\n",
    "\n",
    "```"
   ]
  },
  {
   "cell_type": "code",
   "execution_count": 59,
   "metadata": {
    "colab": {
     "base_uri": "https://localhost:8080/",
     "height": 415
    },
    "id": "BWghWiGk7qNX",
    "outputId": "917b51c6-a044-4461-d2b3-3622c97f0345"
   },
   "outputs": [
    {
     "name": "stderr",
     "output_type": "stream",
     "text": [
      "/usr/local/lib/python3.7/dist-packages/keras/optimizer_v2/adam.py:105: UserWarning: The `lr` argument is deprecated, use `learning_rate` instead.\n",
      "  super(Adam, self).__init__(name, **kwargs)\n"
     ]
    },
    {
     "data": {
      "image/png": "[encoded data removed]",
      "text/plain": [
       "<Figure size 576x360 with 1 Axes>"
      ]
     },
     "metadata": {
      "needs_background": "light"
     },
     "output_type": "display_data"
    },
    {
     "name": "stdout",
     "output_type": "stream",
     "text": [
      "16/16 [==============================] - 0s 2ms/step - loss: 0.9245 - sparse_categorical_accuracy: 0.6000\n"
     ]
    },
    {
     "data": {
      "text/plain": [
       "[0.9244640469551086, 0.6000000238418579]"
      ]
     },
     "execution_count": 59,
     "metadata": {},
     "output_type": "execute_result"
    }
   ],
   "source": [
    "import matplotlib.pyplot as plt\n",
    "import tensorflow as tf\n",
    "from tensorflow import keras\n",
    "from tensorflow.keras.layers import BatchNormalization\n",
    "from tensorflow.keras.callbacks import ModelCheckpoint, EarlyStopping\n",
    "\n",
    "mc = ModelCheckpoint(\n",
    "'best_model.h5', \n",
    "monitor='val_sparse_categorical_accuracy',\n",
    "save_best_only = True\n",
    ")\n",
    "\n",
    "es = EarlyStopping(\n",
    "     monitor='val_sparse_categorical_accuracy', \n",
    "     min_delta = 0.01, \n",
    "     patience=50)\n",
    "\n",
    "\n",
    "\n",
    "model5 = keras.models.Sequential([\n",
    "    keras.layers.AlphaDropout(rate=0.2,input_shape = [X_test.shape[1]]),\n",
    "    BatchNormalization( ),\n",
    "    keras.layers.Dense(30, activation=\"elu\",kernel_initializer=keras.initializers.he_normal(seed=13111985),use_bias=False),\n",
    "    keras.layers.AlphaDropout(rate=0.2),\n",
    "    BatchNormalization(),\n",
    "    keras.layers.Dense(20, activation=\"elu\",kernel_initializer=keras.initializers.he_normal(seed=13111985),use_bias=False),\n",
    "    keras.layers.AlphaDropout(rate=0.2),\n",
    "    BatchNormalization(),\n",
    "    keras.layers.Dense(12, activation=\"elu\",kernel_initializer=keras.initializers.he_normal(seed=13111985),use_bias=False),\n",
    "    keras.layers.AlphaDropout(rate=0.2),\n",
    "    BatchNormalization(),\n",
    "    keras.layers.Dense(3, activation=\"softmax\")\n",
    "])\n",
    "\n",
    "model5.compile(loss=\"sparse_categorical_crossentropy\",\n",
    "              optimizer=keras.optimizers.Adam(lr=0.00005, beta_1=0.1, beta_2=0.1),\n",
    "              metrics=[\"sparse_categorical_accuracy\"])\n",
    "\n",
    "history = model5.fit(X_train, y_train, epochs=400,\n",
    "                    validation_data=(X_valid, y_valid),\n",
    "                     verbose = 0, batch_size = 50,\n",
    "                     callbacks=[es,mc])\n",
    "\n",
    "pd.DataFrame(history.history).plot(figsize=(8, 5))\n",
    "plt.grid(True)\n",
    "plt.gca().set_ylim(0, 2)\n",
    "#save_fig(\"keras_learning_curves_graph\")\n",
    "plt.show()\n",
    "model5.evaluate(X_valid,y_valid)"
   ]
  },
  {
   "cell_type": "markdown",
   "metadata": {
    "id": "Tl6OMdsKAPmg"
   },
   "source": [
    "## Considering just the validation scores, what did you learn?"
   ]
  },
  {
   "cell_type": "code",
   "execution_count": null,
   "metadata": {
    "id": "brhw6ZFrARYm"
   },
   "outputs": [],
   "source": [
    "# In this case changing the optimization stratergy isn't helping much\n",
    "# In fact the sgd optimiser was doing well and the added flexibility here\n",
    "# means it often gets stuck in worse minima. "
   ]
  },
  {
   "cell_type": "markdown",
   "metadata": {
    "id": "H6HbhSQCA0Y6"
   },
   "source": [
    "## Task 7b: Test all the models so far on the test set\n",
    "**Once again note: this is in general bad practice if we were going to then select and use one of these models.** Why? As we are procedurally overfitting (selecting based on knowledge from the test set). However, for now it serves to show to you while you learn that the model is actually doing better on completely unseen instances."
   ]
  },
  {
   "cell_type": "code",
   "execution_count": 60,
   "metadata": {
    "colab": {
     "base_uri": "https://localhost:8080/"
    },
    "id": "0YQCczuDAaeJ",
    "outputId": "f09fd5c7-b0a2-4c8a-fbf2-5f92b1a6bc37"
   },
   "outputs": [
    {
     "name": "stdout",
     "output_type": "stream",
     "text": [
      "16/16 [==============================] - 0s 2ms/step - loss: 1.2693 - sparse_categorical_accuracy: 0.5760\n",
      "16/16 [==============================] - 0s 2ms/step - loss: 0.7381 - sparse_categorical_accuracy: 0.6700\n",
      "16/16 [==============================] - 0s 2ms/step - loss: 1.1182 - sparse_categorical_accuracy: 0.6640\n",
      "16/16 [==============================] - 0s 2ms/step - loss: 0.8315 - sparse_categorical_accuracy: 0.6540\n",
      "16/16 [==============================] - 0s 3ms/step - loss: 0.9272 - sparse_categorical_accuracy: 0.6020\n"
     ]
    }
   ],
   "source": [
    "m1 = model.evaluate(X_test,y_test)\n",
    "m2 = model2.evaluate(X_test,y_test)\n",
    "m3 = model3.evaluate(X_test,y_test)\n",
    "m4 = model4.evaluate(X_test,y_test)\n",
    "m5 = model5.evaluate(X_test,y_test)"
   ]
  },
  {
   "cell_type": "markdown",
   "metadata": {
    "id": "odpPuGiPAzBL"
   },
   "source": [
    "# Task 8 (Bonus): Implement a self-normalizing net\n",
    "HINT: Slide example\n",
    "```\n",
    "keras.layers.Dense(10, activation=\"selu\",\n",
    "                   kernel_initializer=\"lecun_normal\")\n",
    "```"
   ]
  },
  {
   "cell_type": "code",
   "execution_count": 61,
   "metadata": {
    "colab": {
     "base_uri": "https://localhost:8080/",
     "height": 415
    },
    "id": "CWCDCyQxA_ba",
    "outputId": "2be05df1-0dae-4b28-f399-f23feb143e66"
   },
   "outputs": [
    {
     "name": "stderr",
     "output_type": "stream",
     "text": [
      "/usr/local/lib/python3.7/dist-packages/keras/optimizer_v2/adam.py:105: UserWarning: The `lr` argument is deprecated, use `learning_rate` instead.\n",
      "  super(Adam, self).__init__(name, **kwargs)\n"
     ]
    },
    {
     "data": {
      "image/png": "[encoded data removed]",
      "text/plain": [
       "<Figure size 576x360 with 1 Axes>"
      ]
     },
     "metadata": {
      "needs_background": "light"
     },
     "output_type": "display_data"
    },
    {
     "name": "stdout",
     "output_type": "stream",
     "text": [
      "16/16 [==============================] - 0s 2ms/step - loss: 1.0442 - sparse_categorical_accuracy: 0.6180\n"
     ]
    },
    {
     "data": {
      "text/plain": [
       "[1.0442311763763428, 0.6179999709129333]"
      ]
     },
     "execution_count": 61,
     "metadata": {},
     "output_type": "execute_result"
    }
   ],
   "source": [
    "import matplotlib.pyplot as plt\n",
    "import tensorflow as tf\n",
    "from tensorflow import keras\n",
    "from tensorflow.keras.layers import BatchNormalization\n",
    "\n",
    "model6 = keras.models.Sequential([\n",
    "    keras.layers.AlphaDropout(rate=0.1,input_shape = [X_test.shape[1]]),\n",
    "    keras.layers.Dense(10, activation=\"selu\",kernel_initializer=\"lecun_normal\",use_bias=True),\n",
    "    keras.layers.AlphaDropout(rate=0.1),\n",
    "    keras.layers.Dense(8, activation=\"selu\",kernel_initializer=\"lecun_normal\",use_bias=True),\n",
    "    keras.layers.AlphaDropout(rate=0.1),\n",
    "    keras.layers.Dense(6, activation=\"selu\",kernel_initializer=\"lecun_normal\",use_bias=True),\n",
    "    keras.layers.AlphaDropout(rate=0.1),\n",
    "    keras.layers.Dense(3, activation=\"softmax\")\n",
    "])\n",
    "\n",
    "model6.compile(loss=\"sparse_categorical_crossentropy\",\n",
    "              optimizer=keras.optimizers.Adam(lr=0.0007, beta_1=0.9, beta_2=0.999),\n",
    "              metrics=[\"sparse_categorical_accuracy\"])\n",
    "\n",
    "history = model6.fit(X_train, y_train, epochs=780,\n",
    "                    validation_data=(X_valid, y_valid),verbose = 0, batch_size = 100)\n",
    "\n",
    "pd.DataFrame(history.history).plot(figsize=(8, 5))\n",
    "plt.grid(True)\n",
    "plt.gca().set_ylim(0, 2)\n",
    "#save_fig(\"keras_learning_curves_graph\")\n",
    "plt.show()\n",
    "model6.evaluate(X_valid,y_valid)"
   ]
  },
  {
   "cell_type": "markdown",
   "metadata": {
    "id": "-BCGx0RxDHsf"
   },
   "source": [
    "## Task 8b: Test all the models so far on the test set\n",
    "**Once again note: this is in general bad practice if we were going to then select and use one of these models.** Why? As we are procedurally overfitting (selecting based on knowledge from the test set). However, for now it serves to show to you while you learn that the model is actually doing better on completely unseen instances."
   ]
  },
  {
   "cell_type": "code",
   "execution_count": 62,
   "metadata": {
    "colab": {
     "base_uri": "https://localhost:8080/"
    },
    "id": "T1aYzKV4DZzL",
    "outputId": "4f9dacc9-1adc-4159-fc03-101bfa849247"
   },
   "outputs": [
    {
     "name": "stdout",
     "output_type": "stream",
     "text": [
      "16/16 [==============================] - 0s 2ms/step - loss: 1.2693 - sparse_categorical_accuracy: 0.5760\n",
      "16/16 [==============================] - 0s 3ms/step - loss: 0.7381 - sparse_categorical_accuracy: 0.6700\n",
      "16/16 [==============================] - 0s 2ms/step - loss: 1.1182 - sparse_categorical_accuracy: 0.6640\n",
      "16/16 [==============================] - 0s 3ms/step - loss: 0.8315 - sparse_categorical_accuracy: 0.6540\n",
      "16/16 [==============================] - 0s 2ms/step - loss: 0.9272 - sparse_categorical_accuracy: 0.6020\n",
      "16/16 [==============================] - 0s 2ms/step - loss: 0.9233 - sparse_categorical_accuracy: 0.6120\n"
     ]
    }
   ],
   "source": [
    "m1 = model.evaluate(X_test,y_test)\n",
    "m2 = model2.evaluate(X_test,y_test)\n",
    "m3 = model3.evaluate(X_test,y_test)\n",
    "m4 = model4.evaluate(X_test,y_test)\n",
    "m5 = model5.evaluate(X_test,y_test)\n",
    "m6 = model6.evaluate(X_test,y_test)"
   ]
  },
  {
   "cell_type": "code",
   "execution_count": null,
   "metadata": {
    "id": "frvkgO6NpSec"
   },
   "outputs": [],
   "source": []
  }
 ],
 "metadata": {
  "accelerator": "TPU",
  "colab": {
   "collapsed_sections": [],
   "name": "ML_Practical_7__8_[Soln_7__8].ipynb",
   "provenance": []
  },
  "kernelspec": {
   "display_name": "Python 3",
   "language": "python",
   "name": "python3"
  },
  "language_info": {
   "codemirror_mode": {
    "name": "ipython",
    "version": 3
   },
   "file_extension": ".py",
   "mimetype": "text/x-python",
   "name": "python",
   "nbconvert_exporter": "python",
   "pygments_lexer": "ipython3",
   "version": "3.8.2"
  }
 },
 "nbformat": 4,
 "nbformat_minor": 1
}
